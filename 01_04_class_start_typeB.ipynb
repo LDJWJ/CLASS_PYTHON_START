{
 "cells": [
  {
   "cell_type": "markdown",
   "metadata": {},
   "source": [
    "## 클래스 알아보기"
   ]
  },
  {
   "cell_type": "markdown",
   "metadata": {},
   "source": [
    "### 학습목표"
   ]
  },
  {
   "cell_type": "markdown",
   "metadata": {},
   "source": [
    "* 클래스의 개념을 이해해본다.\n",
    "* 클래스의 오버라이딩 개념을 이해해 본다.\n",
    "* 클래스의 상속 개념을 이해해 본다."
   ]
  },
  {
   "cell_type": "markdown",
   "metadata": {},
   "source": [
    "<h3 style='color:DodgerBlue'><a id='99'> 목차 </a></h3>\n",
    "\n",
    "<a href=\"#1\"> 01 객체와 클래스 알아보기  </a><br>\n",
    "<a href=\"#2\"> 02 클래스 작성하기  </a><br>\n",
    "<a href=\"#3\"> 03 계산기 클래스 만들어보기  </a><br>\n",
    "<a href=\"#4\"> 04 그렇다면 처음 객체가 생성될때, 값을 초기화시킬 수 없을까?  </a><br>\n",
    "<a href=\"#5\"> 05 메서드를 덮어쓰기 (메서드 오버라이딩)  </a><br>"
   ]
  },
  {
   "cell_type": "markdown",
   "metadata": {},
   "source": [
    "<h3 style='color:LightCoral'><a id='1'> 01 객체와 클래스 알아보기 </a></h3>  \n",
    "\n",
    "<a href='#99'> 목차로 </a>"
   ]
  },
  {
   "cell_type": "markdown",
   "metadata": {},
   "source": [
    "* 객체는 상태와 동작을 가지고 있다.\n",
    "* 객체의 상태(state)는 객체의 속성.\n",
    "* 텔레비젼의 객체의 경우 상태는 채널번호, 볼륨, 전원상태 등이다.\n",
    "* 객체의 동작(behavior)은 객체가 취할 수 있는 동작(기능)\n",
    "  * 텔레비젼의 경우, 켜기, 끄기, 채널 변경, 볼륨 변경"
   ]
  },
  {
   "cell_type": "markdown",
   "metadata": {},
   "source": [
    "### 객체의 변수\n",
    " * 객체안의 변수를 **인스턴스 변수(instance variable)**이라 함.\n",
    " * 객체의 동작을 나타내는 부분을 **메소드(method)**라 함.\n",
    " * 즉, 객체는 인스턴스 변수와 메소드로 이루어진 소프트웨어 묶음"
   ]
  },
  {
   "cell_type": "markdown",
   "metadata": {},
   "source": [
    "### 클래스 \n",
    " * 객체에 대한 설계도.\n",
    " * 특정한 종류를 찍어내는 형틀(template)\n",
    "\n",
    "### 인스턴스\n",
    " * 클래스로부터 만들어부터 만들어지는 각각의 객체"
   ]
  },
  {
   "cell_type": "markdown",
   "metadata": {},
   "source": [
    "<h3 style='color:LightCoral'><a id='2'> 02. 클래스 작성하기 </a></h3>  \n",
    "\n",
    "* \n",
    "\n",
    "<a href='#99'> 목차로 </a>"
   ]
  },
  {
   "cell_type": "code",
   "execution_count": 1,
   "metadata": {},
   "outputs": [],
   "source": [
    "class Cal:\n",
    "    pass"
   ]
  },
  {
   "cell_type": "markdown",
   "metadata": {},
   "source": [
    "### 인스턴스 만들기"
   ]
  },
  {
   "cell_type": "code",
   "execution_count": 2,
   "metadata": {},
   "outputs": [],
   "source": [
    "a = Cal()\n",
    "b = Cal()"
   ]
  },
  {
   "cell_type": "markdown",
   "metadata": {},
   "source": [
    "### 왜 클래스가 필요할까?"
   ]
  },
  {
   "cell_type": "markdown",
   "metadata": {},
   "source": [
    "#### 함수를 이용하여 계산기 하나 만들기\n",
    " * 추가해서 값을 더해 준다."
   ]
  },
  {
   "cell_type": "code",
   "execution_count": 3,
   "metadata": {},
   "outputs": [
    {
     "name": "stdout",
     "output_type": "stream",
     "text": [
      "3\n",
      "7\n"
     ]
    }
   ],
   "source": [
    "result = 0\n",
    "def plus(num):\n",
    "    global result\n",
    "    result += num\n",
    "    return result\n",
    "\n",
    "print(plus(3))\n",
    "print(plus(4))"
   ]
  },
  {
   "cell_type": "markdown",
   "metadata": {},
   "source": [
    "#### 함수를 이용한 계산기 두 개 만들기\n",
    " * 추가해서 값을 더해 준다."
   ]
  },
  {
   "cell_type": "code",
   "execution_count": 4,
   "metadata": {},
   "outputs": [
    {
     "name": "stdout",
     "output_type": "stream",
     "text": [
      "3\n",
      "7\n",
      "3\n",
      "7\n"
     ]
    }
   ],
   "source": [
    "# 첫번째 계산기\n",
    "result1 = 0\n",
    "def plus1(num):\n",
    "    global result1\n",
    "    result1 += num\n",
    "    return result1\n",
    "\n",
    "print(plus1(3))\n",
    "print(plus1(4))\n",
    "\n",
    "# 두번째 계산기\n",
    "result2 = 0\n",
    "def plus2(num):\n",
    "    global result2\n",
    "    result2 += num\n",
    "    return result2\n",
    "\n",
    "print(plus2(3))\n",
    "print(plus2(4))"
   ]
  },
  {
   "cell_type": "markdown",
   "metadata": {},
   "source": [
    "### 그렇다면 계산기 10대를 만들게 되면.. \n",
    " * [아이디어] 계산기의 형태의 하나의 틀을 만들고, 이를 찍어내자.\n",
    "   * 다만, 일부 형틀 이외의 일부 기능들은 조금씩 변경이 가능하다."
   ]
  },
  {
   "cell_type": "markdown",
   "metadata": {},
   "source": [
    "<h3 style='color:LightCoral'><a id='3'> 03. 계산기 클래스 만들어보기 </a></h3> \n",
    "\n",
    "<a href='#99'> 목차로 </a>"
   ]
  },
  {
   "cell_type": "markdown",
   "metadata": {},
   "source": [
    " * 클래스의 이름의 첫글자는 일반적으로 대문자로 함.\n",
    " * 5대의 계산기를 만들기\n",
    " * 클래스 안의 메소드는 매개 변수가 추가(self)되었다. 이는 전달되는 객체를 의미"
   ]
  },
  {
   "cell_type": "code",
   "execution_count": 5,
   "metadata": {},
   "outputs": [],
   "source": [
    "class Cal:\n",
    "    result = 0\n",
    "    \n",
    "    def plus(self, num):\n",
    "        self.result += num\n",
    "        return self.result"
   ]
  },
  {
   "cell_type": "code",
   "execution_count": 6,
   "metadata": {},
   "outputs": [
    {
     "name": "stdout",
     "output_type": "stream",
     "text": [
      "10\n",
      "30\n"
     ]
    }
   ],
   "source": [
    "a = Cal()  # 계산기 한대\n",
    "print(a.plus(10))\n",
    "print(a.plus(20))"
   ]
  },
  {
   "cell_type": "code",
   "execution_count": 7,
   "metadata": {},
   "outputs": [],
   "source": [
    "# 나머지 계산기 네대 \n",
    "a2 = Cal()  # 계산기 한대\n",
    "a3 = Cal()  # 계산기 한대\n",
    "a4 = Cal()  # 계산기 한대\n",
    "a5 = Cal()  # 계산기 한대"
   ]
  },
  {
   "cell_type": "code",
   "execution_count": 8,
   "metadata": {},
   "outputs": [
    {
     "name": "stdout",
     "output_type": "stream",
     "text": [
      "100\n",
      "200\n"
     ]
    }
   ],
   "source": [
    "# 네대의 계산기는 각각 동작\n",
    "print( a5.plus(100) )\n",
    "print( a5.plus(100) )"
   ]
  },
  {
   "cell_type": "markdown",
   "metadata": {},
   "source": [
    "### (실습해 보기)\n",
    "  * 더하기, 빼기 기능 추가해 보기"
   ]
  },
  {
   "cell_type": "code",
   "execution_count": 9,
   "metadata": {},
   "outputs": [],
   "source": [
    "class CalFnc2:\n",
    "    result = 0\n",
    "    \n",
    "    def plus(self, num):\n",
    "        self.result += num\n",
    "        return self.result\n",
    "    \n",
    "    def sub(self, num):\n",
    "        self.result -= num\n",
    "        return self.result"
   ]
  },
  {
   "cell_type": "code",
   "execution_count": 10,
   "metadata": {},
   "outputs": [
    {
     "name": "stdout",
     "output_type": "stream",
     "text": [
      "3\n",
      "-2\n"
     ]
    }
   ],
   "source": [
    "a = CalFnc2()\n",
    "\n",
    "# 3을 더하고 5를 빼기\n",
    "print( a.plus(3) )\n",
    "print( a.sub(5) )"
   ]
  },
  {
   "cell_type": "markdown",
   "metadata": {},
   "source": [
    "<h3 style='color:LightCoral'><a id='4'> 04. 객체가 생성 시, 값의 초기화 </a></h3> \n",
    "\n",
    " * 처음 객체를 생성할 때, 계산기에 대한 값을 초기화 시키는 것은 가능할까?\n",
    " \n",
    "<a href='#99'> 목차로 </a>"
   ]
  },
  {
   "cell_type": "markdown",
   "metadata": {},
   "source": [
    " * 메서드의 이름을 __init__로 하면 생성자로 인식되어 객체 생성 시점에 자동 호출. \n",
    "\n",
    "```\n",
    "    def __init__(self, 값1, 값2):\n",
    "        self.result = result\n",
    "```"
   ]
  },
  {
   "cell_type": "code",
   "execution_count": 11,
   "metadata": {},
   "outputs": [],
   "source": [
    "class CalFnc2:\n",
    "    def __init__(self, result):\n",
    "        self.result = result\n",
    "    \n",
    "    def plus(self, num):\n",
    "        self.result += num\n",
    "        return self.result\n",
    "    \n",
    "    def sub(self, num):\n",
    "        self.result -= num\n",
    "        return self.result"
   ]
  },
  {
   "cell_type": "code",
   "execution_count": 12,
   "metadata": {},
   "outputs": [
    {
     "name": "stdout",
     "output_type": "stream",
     "text": [
      "0\n"
     ]
    }
   ],
   "source": [
    "a = CalFnc2(0)  # 계산기 한대\n",
    "\n",
    "## 첫 초기값 (result)\n",
    "print(a.result)"
   ]
  },
  {
   "cell_type": "code",
   "execution_count": 14,
   "metadata": {},
   "outputs": [
    {
     "name": "stdout",
     "output_type": "stream",
     "text": [
      "현재 계산기 결과 : 100\n",
      "105\n",
      "현재 계산기 결과 : 105\n"
     ]
    }
   ],
   "source": [
    "### 계산기 생성시, 초기값을 100으로 해서 5를 더하기\n",
    "b = CalFnc2(100)  # 계산기 한대\n",
    "\n",
    "## 계산기의 초기값\n",
    "print(\"현재 계산기 결과 :\", b.result)\n",
    "\n",
    "print( b.plus(5) )\n",
    "\n",
    "## 계산기의 결과\n",
    "print(\"현재 계산기 결과 :\", b.result)"
   ]
  },
  {
   "cell_type": "markdown",
   "metadata": {},
   "source": [
    "<h3 style='color:LightCoral'><a id='5'> 05. 메서드를 덮어쓰기 (메서드 오버라이딩) </a></h3>  \n",
    "\n",
    "* 기존의 클래스의 상속받아, 새롭게 메서드를 정의해 본다.\n",
    "\n",
    "<a href='#99'> 목차로 </a>"
   ]
  },
  {
   "cell_type": "code",
   "execution_count": 1,
   "metadata": {},
   "outputs": [],
   "source": [
    "class CalFnc3:\n",
    "    def __init__(self, result):\n",
    "        self.result = result\n",
    "    \n",
    "    def plus(self, num):\n",
    "        self.result += num\n",
    "        return self.result\n",
    "    \n",
    "    def sub(self, num):\n",
    "        self.result -= num\n",
    "        return self.result\n",
    "\n",
    "    def div(self, num):\n",
    "        self.result /= num\n",
    "        return self.result"
   ]
  },
  {
   "cell_type": "markdown",
   "metadata": {},
   "source": [
    "* 초기값을 0으로 정의한 후, 5를 더하고 3으로 나눠보자"
   ]
  },
  {
   "cell_type": "code",
   "execution_count": 2,
   "metadata": {},
   "outputs": [
    {
     "name": "stdout",
     "output_type": "stream",
     "text": [
      "1.6666666666666667\n"
     ]
    }
   ],
   "source": [
    "a = CalFnc3(0)  # 계산기 한대 (초기값 0)\n",
    "\n",
    "## 첫 초기값 (result)\n",
    "tmp = a.plus(5)   # 5더하기\n",
    "tmp1 = a.div(3)\n",
    "print(tmp1)"
   ]
  },
  {
   "cell_type": "markdown",
   "metadata": {},
   "source": [
    "### 위의 내용을 0으로 나눌때, \n",
    " * 0으로 나누는 것은 안되는데, 현재 클래스를 변경할 수 없다."
   ]
  },
  {
   "cell_type": "markdown",
   "metadata": {},
   "source": [
    "### 클래스 상속\n",
    "\n",
    "```\n",
    "class A:\n",
    "    pass\n",
    "\n",
    "class B(A):        # A를 상속받아, B를 만든다.\n",
    "    pass\n",
    "```"
   ]
  },
  {
   "cell_type": "code",
   "execution_count": 3,
   "metadata": {},
   "outputs": [],
   "source": [
    "class CalFnc3:\n",
    "    def __init__(self, result):\n",
    "        self.result = result\n",
    "    \n",
    "    def plus(self, num):\n",
    "        self.result += num\n",
    "        return self.result\n",
    "    \n",
    "    def sub(self, num):\n",
    "        self.result -= num\n",
    "        return self.result\n",
    "\n",
    "    def div(self, num):\n",
    "        self.result /= num\n",
    "        return self.result"
   ]
  },
  {
   "cell_type": "code",
   "execution_count": 4,
   "metadata": {},
   "outputs": [],
   "source": [
    "class CalFnc3_change(CalFnc3):  # CalFnc3를 상속받음\n",
    "    def __init__(self, result):\n",
    "        self.result = result\n",
    "    \n",
    "    def plus(self, num):\n",
    "        self.result += num\n",
    "        return self.result\n",
    "    \n",
    "    def sub(self, num):\n",
    "        self.result -= num\n",
    "        return self.result\n",
    "\n",
    "    def div(self, num):\n",
    "        if num == 0:\n",
    "            return 0\n",
    "        else:\n",
    "            self.result /= num\n",
    "        return self.result"
   ]
  },
  {
   "cell_type": "code",
   "execution_count": 5,
   "metadata": {},
   "outputs": [
    {
     "name": "stdout",
     "output_type": "stream",
     "text": [
      "0\n"
     ]
    }
   ],
   "source": [
    "a = CalFnc3_change(0)  # 계산기 한대 (초기값 0)\n",
    "\n",
    "## 첫 초기값 (result)\n",
    "tmp = a.plus(5)   # 5더하기\n",
    "tmp1 = a.div(0)\n",
    "print(tmp1)"
   ]
  },
  {
   "cell_type": "markdown",
   "metadata": {},
   "source": [
    "### [실습해보기] tv class를 생성해 보자. \n",
    " * tv 채널 정보 : 기본 0번에서 시작.\n",
    " * tv 채널 변경 : change_channel() 메서드 필요.\n",
    " * tv volume 변경 기능.\n",
    " \n",
    "### [도전] 나만의 자동차 class를 만들어보자."
   ]
  },
  {
   "cell_type": "markdown",
   "metadata": {},
   "source": [
    "## 기본에서 초중급으로 업그레이드 파트"
   ]
  },
  {
   "cell_type": "markdown",
   "metadata": {},
   "source": [
    "### 클래스 다중 상속\n",
    "\n",
    "```\n",
    "class A:\n",
    "    pass\n",
    "\n",
    "class B:\n",
    "    pass\n",
    "\n",
    "class C(A, B):        # A와 B를 상속받아, C를 만든다.\n",
    "    pass\n",
    "```"
   ]
  },
  {
   "cell_type": "code",
   "execution_count": 6,
   "metadata": {},
   "outputs": [
    {
     "name": "stdout",
     "output_type": "stream",
     "text": [
      "안녕하세요.\n",
      "학점 관리\n",
      "공부하기\n"
     ]
    }
   ],
   "source": [
    "class Person:\n",
    "    def greeting(self):\n",
    "        print('안녕하세요.')\n",
    " \n",
    "class Univ:\n",
    "    def manage_grade(self):\n",
    "        print('학점 관리')\n",
    " \n",
    "class Student(Person, Univ):\n",
    "    def study(self):\n",
    "        print('공부하기')\n",
    " \n",
    "james = Student()\n",
    "james.greeting()         # 안녕하세요.: 기반 클래스 Person의 메서드 호출\n",
    "james.manage_grade()     # 학점 관리: 기반 클래스 Univ의 메서드 호출\n",
    "james.study()            # 공부하기: 파생 클래스 Student에서 추가한 study 메서드"
   ]
  }
 ],
 "metadata": {
  "kernelspec": {
   "display_name": "Python 3 (ipykernel)",
   "language": "python",
   "name": "python3"
  },
  "language_info": {
   "codemirror_mode": {
    "name": "ipython",
    "version": 3
   },
   "file_extension": ".py",
   "mimetype": "text/x-python",
   "name": "python",
   "nbconvert_exporter": "python",
   "pygments_lexer": "ipython3",
   "version": "3.9.13"
  }
 },
 "nbformat": 4,
 "nbformat_minor": 2
}
