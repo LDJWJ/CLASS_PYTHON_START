{
 "cells": [
  {
   "cell_type": "markdown",
   "metadata": {},
   "source": [
    "## 클래스 시작하기"
   ]
  },
  {
   "cell_type": "markdown",
   "metadata": {},
   "source": [
    "### 학습 목표\n",
    " * 클래스에 대해서 직접 만들어보면서 기본을 이해해본다.\n",
    " * 함수와 클래스를 비교해 보면서 왜 클래스를 사용하는지 이해해본다."
   ]
  },
  {
   "cell_type": "markdown",
   "metadata": {},
   "source": [
    "<h3 style='color:DodgerBlue'><a id='99'> 목차 </a></h3>\n",
    "\n",
    "<a href=\"#1\"> 01 함수와 클래스  </a><br>\n",
    "<a href=\"#2\"> 02 함수를 이용한 계산기 구현하기  </a><br>\n",
    "<a href=\"#3\"> 03 여러대의 계산기 만들어보기  </a><br>\n",
    "<a href=\"#4\"> 04 클래스을 활용한 계산기 만들기  </a><br>\n",
    "<a href=\"#5\"> 05 에러를 개선한 계산기  </a><br>\n",
    "<a href=\"#6\"> 06 오버라이딩(overridding)을 이해하기  </a><br>"
   ]
  },
  {
   "cell_type": "markdown",
   "metadata": {},
   "source": [
    "<h3 style='color:LightCoral'><a id='1'> 01 함수와 클래스 </a></h3>  \n",
    "\n",
    "* 함수는 def 예약어로 시작, 클래스는 class의 예약어로 시작.\n",
    "\n",
    "<a href='#99'> 목차로 </a>"
   ]
  },
  {
   "cell_type": "code",
   "execution_count": 1,
   "metadata": {},
   "outputs": [],
   "source": [
    "def Cal():\n",
    "    pass"
   ]
  },
  {
   "cell_type": "code",
   "execution_count": 2,
   "metadata": {},
   "outputs": [],
   "source": [
    "# 클래스 기본 선언 형태\n",
    "class Cal:\n",
    "    pass"
   ]
  },
  {
   "cell_type": "code",
   "execution_count": 3,
   "metadata": {},
   "outputs": [],
   "source": [
    "### 인스턴스\n",
    "### 클래스를 선언 후, 다음과 같이 2대의 계산기를 만들 수 있다.\n",
    "a = Cal() \n",
    "b = Cal() "
   ]
  },
  {
   "cell_type": "markdown",
   "metadata": {},
   "source": [
    "<h3 style='color:LightCoral'><a id='2'> 02 함수를 이용한 계산기 구현하기 </a></h3>  \n",
    "\n",
    "* global을 이용하여 전역변수의 형태로 변수를 사용할 수 있다.\n",
    "\n",
    "<a href='#99'> 목차로 </a>"
   ]
  },
  {
   "cell_type": "code",
   "execution_count": 4,
   "metadata": {},
   "outputs": [
    {
     "name": "stdout",
     "output_type": "stream",
     "text": [
      "3\n",
      "10\n"
     ]
    }
   ],
   "source": [
    "# 첫번째 계산기 \n",
    "result = 0\n",
    "def plus1(num):\n",
    "    global result  \n",
    "    result += num   \n",
    "    return result\n",
    "\n",
    "print( plus1(3) )  # 기본값 0 + 3\n",
    "print( plus1(7) )  # 기본값 0 + 3 + 7"
   ]
  },
  {
   "cell_type": "code",
   "execution_count": 5,
   "metadata": {},
   "outputs": [
    {
     "name": "stdout",
     "output_type": "stream",
     "text": [
      "2\n",
      "12\n"
     ]
    }
   ],
   "source": [
    "# 두번째 계산기 \n",
    "result1 = 0\n",
    "def plus2(num):\n",
    "    global result1\n",
    "    result1 += num\n",
    "    return result1\n",
    "\n",
    "print( plus2(2) )  # 기본값 0 + 2\n",
    "print( plus2(10) ) # 기본값 0 + 10"
   ]
  },
  {
   "cell_type": "markdown",
   "metadata": {},
   "source": [
    "* [확인] 첫번째 계산기는 result로 결과값을 변경. 두번째 계산기는 result1을 이용"
   ]
  },
  {
   "cell_type": "markdown",
   "metadata": {},
   "source": [
    "<h3 style='color:LightCoral'><a id='3'> 03 여러대의 계산기 만들어보기 </a></h3>  \n",
    "\n",
    "* 여러대의 계산기를 만들어보자.\n",
    "\n",
    "<a href='#99'> 목차로 </a>"
   ]
  },
  {
   "cell_type": "code",
   "execution_count": 6,
   "metadata": {},
   "outputs": [
    {
     "name": "stdout",
     "output_type": "stream",
     "text": [
      "3\n",
      "10\n",
      "2\n",
      "12\n",
      "2\n",
      "12\n"
     ]
    }
   ],
   "source": [
    "# 첫번째 계산기 \n",
    "result1 = 0\n",
    "def plus1(num):\n",
    "    global result1\n",
    "    result1 += num\n",
    "    return result1\n",
    "\n",
    "print( plus1(3) )\n",
    "print( plus1(7) )\n",
    "\n",
    "# 두번째 계산기 \n",
    "result2 = 0\n",
    "def plus2(num):\n",
    "    global result2\n",
    "    result2 += num\n",
    "    return result2\n",
    "\n",
    "print( plus2(2) )\n",
    "print( plus2(10) )\n",
    "\n",
    "# 세번째 계산기 \n",
    "result3 = 0\n",
    "def plus3(num):\n",
    "    global result3\n",
    "    result3 += num\n",
    "    return result3\n",
    "\n",
    "print( plus3(2) )\n",
    "print( plus3(10) )"
   ]
  },
  {
   "cell_type": "code",
   "execution_count": 7,
   "metadata": {},
   "outputs": [
    {
     "name": "stdout",
     "output_type": "stream",
     "text": [
      "3\n",
      "10\n"
     ]
    }
   ],
   "source": [
    "# 첫번째 계산기 \n",
    "result = 0\n",
    "def plus1(num):\n",
    "    global result\n",
    "    result += num\n",
    "    return result\n",
    "\n",
    "print( plus1(3) )\n",
    "print( plus1(7) )"
   ]
  },
  {
   "cell_type": "code",
   "execution_count": 8,
   "metadata": {},
   "outputs": [
    {
     "name": "stdout",
     "output_type": "stream",
     "text": [
      "계산기1 현재 결과 : 10\n",
      "계산기2 현재 결과 : 12\n",
      "계산기3 현재 결과 : 12\n"
     ]
    }
   ],
   "source": [
    "### 계산기1, 계산기2, 계산기3 의 현재 결과값\n",
    "print( \"계산기1 현재 결과 :\", result1 )\n",
    "print( \"계산기2 현재 결과 :\", result2 )\n",
    "print( \"계산기3 현재 결과 :\", result3 )"
   ]
  },
  {
   "cell_type": "code",
   "execution_count": 9,
   "metadata": {},
   "outputs": [
    {
     "name": "stdout",
     "output_type": "stream",
     "text": [
      "13\n",
      "14\n"
     ]
    }
   ],
   "source": [
    "# 계산기 1번의 3을 더하기\n",
    "print( plus1(3) )\n",
    "\n",
    "# 계산기 1번의 결과에 1을 더하기\n",
    "print( plus1(1) )"
   ]
  },
  {
   "cell_type": "code",
   "execution_count": 10,
   "metadata": {},
   "outputs": [
    {
     "name": "stdout",
     "output_type": "stream",
     "text": [
      "15\n",
      "16\n"
     ]
    }
   ],
   "source": [
    "# 계산기 3번의 3을 더하기\n",
    "print( plus3(3) )\n",
    "\n",
    "# 계산기 3번의 5를 더하기\n",
    "print( plus3(1) )"
   ]
  },
  {
   "cell_type": "markdown",
   "metadata": {},
   "source": [
    "### [생각해보기] 계산기를 10대를 만들고 싶다. 어떻게 해야 할까?"
   ]
  },
  {
   "cell_type": "code",
   "execution_count": 11,
   "metadata": {},
   "outputs": [],
   "source": [
    "# 첫번째 계산기 \n",
    "result = 0\n",
    "def plus1(num):\n",
    "    global result\n",
    "    result += num\n",
    "    return result\n",
    "\n",
    "# 두번째 계산기 \n",
    "result1 = 0\n",
    "def plus2(num):\n",
    "    global result1\n",
    "    result1 += num\n",
    "    return result1"
   ]
  },
  {
   "cell_type": "code",
   "execution_count": 12,
   "metadata": {},
   "outputs": [
    {
     "data": {
      "text/plain": [
       "2"
      ]
     },
     "execution_count": 12,
     "metadata": {},
     "output_type": "execute_result"
    }
   ],
   "source": [
    "plus1(2)"
   ]
  },
  {
   "cell_type": "code",
   "execution_count": 13,
   "metadata": {},
   "outputs": [
    {
     "name": "stdout",
     "output_type": "stream",
     "text": [
      "7\n",
      "1\n"
     ]
    }
   ],
   "source": [
    "print( plus1(5) )\n",
    "print( plus2(1) )"
   ]
  },
  {
   "cell_type": "markdown",
   "metadata": {},
   "source": [
    "<h3 style='color:LightCoral'><a id='4'> 04 클래스을 활용한 계산기 만들기 </a></h3>  \n",
    "\n",
    "* 클래스를 이용하여 계산기를 만들어보자.\n",
    "\n",
    "<a href='#99'> 목차로 </a>"
   ]
  },
  {
   "cell_type": "code",
   "execution_count": 14,
   "metadata": {},
   "outputs": [],
   "source": [
    "class Cal:\n",
    "    result = 0\n",
    "    \n",
    "    def plus(self, num):\n",
    "        self.result += num\n",
    "        return self.result\n",
    "    \n",
    "    def minus(self, num):\n",
    "        self.result -= num\n",
    "        return self.result\n",
    "    \n",
    "    def divide(self, num):\n",
    "        self.result /= num\n",
    "        return self.result"
   ]
  },
  {
   "cell_type": "markdown",
   "metadata": {},
   "source": [
    "### 다섯대의 계산기 만들기"
   ]
  },
  {
   "cell_type": "code",
   "execution_count": 15,
   "metadata": {},
   "outputs": [],
   "source": [
    "# 인스턴스 (객체를 생성)\n",
    "c1 = Cal()\n",
    "c2 = Cal()\n",
    "c3 = Cal()\n",
    "c4 = Cal()\n",
    "c5 = Cal()"
   ]
  },
  {
   "cell_type": "code",
   "execution_count": 16,
   "metadata": {},
   "outputs": [
    {
     "name": "stdout",
     "output_type": "stream",
     "text": [
      "3\n",
      "6\n",
      "4\n",
      "8\n",
      "5\n",
      "10\n",
      "6\n",
      "12\n"
     ]
    }
   ],
   "source": [
    "# 계산기1에 3을 두번 더한다.\n",
    "print( c1.plus(3) )\n",
    "print( c1.plus(3) )\n",
    "\n",
    "# 계산기2에 4을 두번 더한다.\n",
    "print( c2.plus(4) )\n",
    "print( c2.plus(4) )\n",
    "\n",
    "# 계산기3에 5, 5을 연속으로 더한다.\n",
    "print( c3.plus(5) )\n",
    "print( c3.plus(5) )\n",
    "\n",
    "# 계산기4에 6, 6을 연속으로 더한다.\n",
    "print( c4.plus(6) )\n",
    "print( c4.plus(6) )"
   ]
  },
  {
   "cell_type": "markdown",
   "metadata": {},
   "source": [
    "### 5대의 현재 결과를 확인해 보기"
   ]
  },
  {
   "cell_type": "code",
   "execution_count": 17,
   "metadata": {},
   "outputs": [
    {
     "name": "stdout",
     "output_type": "stream",
     "text": [
      "계산기1 현재 결과 :  6\n",
      "계산기2 현재 결과 :  8\n",
      "계산기3 현재 결과 :  10\n",
      "계산기4 현재 결과 :  12\n",
      "계산기5 현재 결과 :  0\n"
     ]
    }
   ],
   "source": [
    "print( \"계산기1 현재 결과 : \" , c1.result )  # 0 + 3 + 3\n",
    "print( \"계산기2 현재 결과 : \" , c2.result )  # 0 + 4 + 4\n",
    "print( \"계산기3 현재 결과 : \" , c3.result )  # 0 + 5 + 5\n",
    "print( \"계산기4 현재 결과 : \" , c4.result )  # 0 + 6 + 6\n",
    "print( \"계산기5 현재 결과 : \" , c5.result )  # 0"
   ]
  },
  {
   "cell_type": "markdown",
   "metadata": {},
   "source": [
    "#### (실습 4-1) 내 계산기 클래스에 값을 빼주는 -와 /를 하는 연산을 추가해 보자."
   ]
  },
  {
   "cell_type": "markdown",
   "metadata": {},
   "source": [
    "### 개별 계산기 연산"
   ]
  },
  {
   "cell_type": "code",
   "execution_count": 18,
   "metadata": {},
   "outputs": [
    {
     "name": "stdout",
     "output_type": "stream",
     "text": [
      "계산기5 현재 결과 :  0\n",
      "4\n",
      "계산기5 현재 결과 :  4\n"
     ]
    }
   ],
   "source": [
    "# 5번 계산기에 4를 더하기\n",
    "print( \"계산기5 현재 결과 : \" , c5.result )\n",
    "print( c5.plus(4) )\n",
    "print( \"계산기5 현재 결과 : \" , c5.result )"
   ]
  },
  {
   "cell_type": "code",
   "execution_count": 19,
   "metadata": {},
   "outputs": [
    {
     "name": "stdout",
     "output_type": "stream",
     "text": [
      "계산기2 현재 결과 :  8\n",
      "계산기2 현재 결과 :  11\n"
     ]
    }
   ],
   "source": [
    "# 2번 계산기에 3를 더하기\n",
    "print( \"계산기2 현재 결과 : \" , c2.result )\n",
    "c2.plus(3)\n",
    "print( \"계산기2 현재 결과 : \" , c2.result )"
   ]
  },
  {
   "cell_type": "code",
   "execution_count": 20,
   "metadata": {},
   "outputs": [
    {
     "data": {
      "text/plain": [
       "3.6666666666666665"
      ]
     },
     "execution_count": 20,
     "metadata": {},
     "output_type": "execute_result"
    }
   ],
   "source": [
    "c2.divide(3)"
   ]
  },
  {
   "cell_type": "code",
   "execution_count": 21,
   "metadata": {},
   "outputs": [
    {
     "data": {
      "text/plain": [
       "1.6666666666666665"
      ]
     },
     "execution_count": 21,
     "metadata": {},
     "output_type": "execute_result"
    }
   ],
   "source": [
    "c2.minus(2)"
   ]
  },
  {
   "cell_type": "code",
   "execution_count": 22,
   "metadata": {},
   "outputs": [
    {
     "data": {
      "text/plain": [
       "13"
      ]
     },
     "execution_count": 22,
     "metadata": {},
     "output_type": "execute_result"
    }
   ],
   "source": [
    "c3.plus(3)"
   ]
  },
  {
   "cell_type": "markdown",
   "metadata": {},
   "source": [
    "### 예외 상황 발생"
   ]
  },
  {
   "cell_type": "code",
   "execution_count": 23,
   "metadata": {},
   "outputs": [
    {
     "ename": "ZeroDivisionError",
     "evalue": "division by zero",
     "output_type": "error",
     "traceback": [
      "\u001b[1;31m---------------------------------------------------------------------------\u001b[0m",
      "\u001b[1;31mZeroDivisionError\u001b[0m                         Traceback (most recent call last)",
      "\u001b[1;32m~\\AppData\\Local\\Temp\\ipykernel_30236\\1490046659.py\u001b[0m in \u001b[0;36m<module>\u001b[1;34m\u001b[0m\n\u001b[1;32m----> 1\u001b[1;33m \u001b[0mc3\u001b[0m\u001b[1;33m.\u001b[0m\u001b[0mdivide\u001b[0m\u001b[1;33m(\u001b[0m\u001b[1;36m0\u001b[0m\u001b[1;33m)\u001b[0m\u001b[1;33m\u001b[0m\u001b[1;33m\u001b[0m\u001b[0m\n\u001b[0m",
      "\u001b[1;32m~\\AppData\\Local\\Temp\\ipykernel_30236\\1537597794.py\u001b[0m in \u001b[0;36mdivide\u001b[1;34m(self, num)\u001b[0m\n\u001b[0;32m     11\u001b[0m \u001b[1;33m\u001b[0m\u001b[0m\n\u001b[0;32m     12\u001b[0m     \u001b[1;32mdef\u001b[0m \u001b[0mdivide\u001b[0m\u001b[1;33m(\u001b[0m\u001b[0mself\u001b[0m\u001b[1;33m,\u001b[0m \u001b[0mnum\u001b[0m\u001b[1;33m)\u001b[0m\u001b[1;33m:\u001b[0m\u001b[1;33m\u001b[0m\u001b[1;33m\u001b[0m\u001b[0m\n\u001b[1;32m---> 13\u001b[1;33m         \u001b[0mself\u001b[0m\u001b[1;33m.\u001b[0m\u001b[0mresult\u001b[0m \u001b[1;33m/=\u001b[0m \u001b[0mnum\u001b[0m\u001b[1;33m\u001b[0m\u001b[1;33m\u001b[0m\u001b[0m\n\u001b[0m\u001b[0;32m     14\u001b[0m         \u001b[1;32mreturn\u001b[0m \u001b[0mself\u001b[0m\u001b[1;33m.\u001b[0m\u001b[0mresult\u001b[0m\u001b[1;33m\u001b[0m\u001b[1;33m\u001b[0m\u001b[0m\n",
      "\u001b[1;31mZeroDivisionError\u001b[0m: division by zero"
     ]
    }
   ],
   "source": [
    "c3.divide(0)"
   ]
  },
  {
   "cell_type": "markdown",
   "metadata": {},
   "source": [
    "* [Error 내용] 0으로 나눌 수 없어 에러 발생"
   ]
  },
  {
   "cell_type": "markdown",
   "metadata": {},
   "source": [
    "<h3 style='color:LightCoral'><a id='5'> 05 에러를 개선한 계산기 </a></h3>  \n",
    "\n",
    "* 에러를 개선한 계산기를 만들어보자\n",
    "\n",
    "<a href='#99'> 목차로 </a>"
   ]
  },
  {
   "cell_type": "code",
   "execution_count": 24,
   "metadata": {},
   "outputs": [],
   "source": [
    "class Cal_change():\n",
    "    pass"
   ]
  },
  {
   "cell_type": "markdown",
   "metadata": {},
   "source": [
    "### [생각해 보기] 기존의 계산기를 다 다시 구현해야 할까? 아니면 다른 방법이 없을까?"
   ]
  },
  {
   "cell_type": "markdown",
   "metadata": {},
   "source": [
    "### [기본] 기존의 클래스의 기능 상속이 가능하다.\n",
    " * 기존의 클래스의 모든 기능에 대해 사용이 가능하다.\n",
    " * 기본 문법\n",
    "```\n",
    "class 클래스명(상속받을 클래스명):\n",
    "   추가할 실행문1\n",
    "   추가할 실행문2 \n",
    "```"
   ]
  },
  {
   "cell_type": "code",
   "execution_count": 25,
   "metadata": {},
   "outputs": [],
   "source": [
    "# 아무 것도 없다.\n",
    "# 어떤 클래스를 상속을 받아서, \n",
    "# 해당 클래스가 가진 변수 및 메소드를 사용 가능하다.\n",
    "class Cal_change(Cal):\n",
    "    pass"
   ]
  },
  {
   "cell_type": "code",
   "execution_count": 26,
   "metadata": {},
   "outputs": [
    {
     "name": "stdout",
     "output_type": "stream",
     "text": [
      "기능 개선 계산기 현재 결과 :  0\n",
      "기능 개선 계산기 현재 결과 :  3\n",
      "기능 개선 계산기 현재 결과 :  -2\n"
     ]
    }
   ],
   "source": [
    "c_ch1 = Cal_change()\n",
    "\n",
    "# 3을 더하고, 5를 빼기\n",
    "print( \"기능 개선 계산기 현재 결과 : \" , c_ch1.result )\n",
    "c_ch1.plus(3)\n",
    "print( \"기능 개선 계산기 현재 결과 : \" , c_ch1.result )\n",
    "c_ch1.minus(5)\n",
    "print( \"기능 개선 계산기 현재 결과 : \" , c_ch1.result )"
   ]
  },
  {
   "cell_type": "markdown",
   "metadata": {},
   "source": [
    "<h3 style='color:LightCoral'><a id='6'> 06 오버라이딩(overridding)을 이해하기 </a></h3>  \n",
    "\n",
    "* 상속의 개념을 이해해 보자.\n",
    "* 기존의 메소드(함수)와 동일한 이름으로 정의할 경우, 상속받은 기능보다 우선적으로 기능이 수행된다.\n",
    "* 기존에 0이 들어올 경우, 에러 발생하여, 이를 보완한 클래스 생성\n",
    "\n",
    "<a href='#99'> 목차로 </a>"
   ]
  },
  {
   "cell_type": "code",
   "execution_count": 27,
   "metadata": {},
   "outputs": [],
   "source": [
    "# 오버라이딩\n",
    "# 상속받아서 사용하는데, 기존에 상속받은 존재하는 메소드를 변경하는 것.\n",
    "class Cal_change(Cal):\n",
    "    def divide(self, num):\n",
    "        if num==0:\n",
    "            return \"0으로 나눌 수 없습니다.\"\n",
    "        else:\n",
    "            self.result /= num\n",
    "        return self.result"
   ]
  },
  {
   "cell_type": "code",
   "execution_count": 28,
   "metadata": {},
   "outputs": [
    {
     "name": "stdout",
     "output_type": "stream",
     "text": [
      "기능 개선 계산기 현재 결과 :  0\n",
      "3\n",
      "기능 개선 계산기 현재 결과 :  3\n",
      "-2\n",
      "기능 개선 계산기 현재 결과 :  -2\n",
      "0으로 나눌 수 없습니다.\n"
     ]
    }
   ],
   "source": [
    "c_ch2 = Cal_change()\n",
    "\n",
    "# 3을 더하고, 5를 빼기\n",
    "print( \"기능 개선 계산기 현재 결과 : \" , c_ch2.result )\n",
    "print( c_ch2.plus(3) )\n",
    "print( \"기능 개선 계산기 현재 결과 : \" , c_ch2.result )\n",
    "print( c_ch2.minus(5) )\n",
    "print( \"기능 개선 계산기 현재 결과 : \" , c_ch2.result )\n",
    "print( c_ch2.divide(0) )"
   ]
  },
  {
   "cell_type": "markdown",
   "metadata": {},
   "source": [
    "### (실습 4-2) Cal 클래스를 상속받아서, \n",
    " * 해당 클래스에 하나의 메소드(곱하기)를 추가해 봅시다.\n",
    " * 그리고 계산기에 C(0으로 세팅하는) 기능을 추가해 봅시다.\n",
    " \n",
    " * 생성한 계산기로 아래 연산을 수행해 보자.\n",
    "   * 초기값 + 10 / 0 * 5\n",
    "   * C를 눌러 초기화\n",
    "   * 결과값 + 5"
   ]
  },
  {
   "cell_type": "code",
   "execution_count": 29,
   "metadata": {},
   "outputs": [],
   "source": [
    "# 오버라이딩\n",
    "# 상속받아서 사용하는데, 기존에 상속받은 존재하는 메소드를 변경하는 것.\n",
    "class Cal_change(Cal):\n",
    "    def Czero(self):\n",
    "        self.result = 0\n",
    "        return self.result\n",
    "    \n",
    "    def mul(self, num):\n",
    "        self.result *= num\n",
    "        return self.result\n",
    "    \n",
    "    def divide(self, num):\n",
    "        if num==0:\n",
    "            return \"0으로 나눌 수 없습니다.\"\n",
    "        else:\n",
    "            self.result /= num\n",
    "        return self.result"
   ]
  },
  {
   "cell_type": "code",
   "execution_count": 30,
   "metadata": {},
   "outputs": [
    {
     "name": "stdout",
     "output_type": "stream",
     "text": [
      "10\n",
      "0으로 나눌 수 없습니다.\n",
      "50\n",
      "0\n",
      "5\n"
     ]
    }
   ],
   "source": [
    "c1 = Cal_change()\n",
    "print( c1.plus(10) )\n",
    "print( c1.divide(0) )\n",
    "print( c1.mul(5) )\n",
    "print( c1.Czero() )\n",
    "print( c1.plus(5))"
   ]
  },
  {
   "cell_type": "markdown",
   "metadata": {},
   "source": [
    "### [실습] tv class를 생성해 보자. \n",
    " * tv class 이름 : Tv_Basic\n",
    " * tv 채널 기본 : channel = 0\n",
    " * tv 채널 변경 : change_channel(self, num) : num 채널로 변경"
   ]
  },
  {
   "cell_type": "markdown",
   "metadata": {},
   "source": [
    "### [도전] 나만의 자동차 class를 만들어보자.\n",
    " * 자동차 색\n",
    " * 자동차 속도 변경\n",
    " * 자동차 전진, 후진, 오른쪽 회전, 왼쪽 회전"
   ]
  }
 ],
 "metadata": {
  "kernelspec": {
   "display_name": "Python 3 (ipykernel)",
   "language": "python",
   "name": "python3"
  },
  "language_info": {
   "codemirror_mode": {
    "name": "ipython",
    "version": 3
   },
   "file_extension": ".py",
   "mimetype": "text/x-python",
   "name": "python",
   "nbconvert_exporter": "python",
   "pygments_lexer": "ipython3",
   "version": "3.9.13"
  }
 },
 "nbformat": 4,
 "nbformat_minor": 4
}
