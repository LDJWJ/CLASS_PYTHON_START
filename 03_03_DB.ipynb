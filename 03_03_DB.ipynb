{
 "cells": [
  {
   "cell_type": "markdown",
   "id": "7531a08e",
   "metadata": {},
   "source": [
    "### Python과 DB 실습"
   ]
  },
  {
   "cell_type": "markdown",
   "id": "62d42b55",
   "metadata": {},
   "source": [
    "### 학습 목표"
   ]
  },
  {
   "cell_type": "markdown",
   "id": "1c0c7f3f",
   "metadata": {},
   "source": [
    "* 데이터 베이스의 실습을 통해 기본을 익히는 것을 목표로 한다.\n",
    "* 데이터 베이스에 테이블을 만들고, 삭제해 보는 것에 대해 알아본다.\n",
    "* 데이터 베이스에 연결하고 데이터를 넣고, 조회해 본다."
   ]
  },
  {
   "cell_type": "markdown",
   "id": "9b3a6b2e",
   "metadata": {},
   "source": [
    "### 01 데이터 베이스(DB)의 종류"
   ]
  },
  {
   "cell_type": "markdown",
   "id": "96234e50",
   "metadata": {},
   "source": [
    "데이터 베이스는 여러 종류가 있다. 자주 사용되는 데이터 베이스는 다음과 같습니다.\n",
    "\n",
    "```\n",
    "MySQL/MariaDB\n",
    "MongoDB(NoSQL)\n",
    "TinyDB(NoSQL)\n",
    "Microsoft SQL Server(상용)\n",
    "Oracle Database(상용)\n",
    "SQLite\n",
    "```"
   ]
  },
  {
   "cell_type": "markdown",
   "id": "435bf94b",
   "metadata": {},
   "source": [
    "### 02 DB 실습"
   ]
  },
  {
   "cell_type": "markdown",
   "id": "a06919ca",
   "metadata": {},
   "source": [
    "### DB 연결 및 생성"
   ]
  },
  {
   "cell_type": "code",
   "execution_count": 3,
   "id": "dc7f9696",
   "metadata": {},
   "outputs": [],
   "source": [
    "import sqlite3\n",
    "conn = sqlite3.connect('webtoon.db')"
   ]
  },
  {
   "cell_type": "markdown",
   "id": "7d44b27b",
   "metadata": {},
   "source": [
    "### 테이블 생성"
   ]
  },
  {
   "cell_type": "code",
   "execution_count": 4,
   "id": "3515ab23",
   "metadata": {},
   "outputs": [],
   "source": [
    "# SQL문 \n",
    "# name(이름), no(번호), addr(주소), gender(성별)\n",
    "sql = \"\"\"\n",
    "CREATE TABLE webtoon_list\n",
    "  (  \n",
    "    name text,\n",
    "    no integer,\n",
    "    subscriber integer,\n",
    "    rank integer,\n",
    "    genre text\n",
    "  )\n",
    "\"\"\""
   ]
  },
  {
   "cell_type": "code",
   "execution_count": 5,
   "id": "d76de37a",
   "metadata": {},
   "outputs": [],
   "source": [
    "# 테이블 생성하기\n",
    "c = conn.cursor()              # Connetion 객체를 이용하여 cursor를 만든다.\n",
    "c.execute(\"DROP TABLE IF EXISTS webtoon_list\") # student가 있으면 삭제해라.\n",
    "c.execute(sql)                            # 테이블 생성.\n",
    "c.close()"
   ]
  },
  {
   "cell_type": "markdown",
   "id": "14e10d55",
   "metadata": {},
   "source": [
    "### 데이터 넣기"
   ]
  },
  {
   "cell_type": "code",
   "execution_count": 6,
   "id": "447963d7",
   "metadata": {},
   "outputs": [],
   "source": [
    "sql = \"\"\"\n",
    "INSERT INTO webtoon_list VALUES\n",
    "  ('전지적관점1', 1, 230011, 13, 'action')\n",
    "\"\"\"\n",
    "c = conn.cursor()  # 객체 생성\n",
    "c.execute(sql)\n",
    "c.close()\n",
    "conn.commit()"
   ]
  },
  {
   "cell_type": "markdown",
   "id": "8b800efd",
   "metadata": {},
   "source": [
    "### 데이터 조회"
   ]
  },
  {
   "cell_type": "code",
   "execution_count": 7,
   "id": "7f20d1a9",
   "metadata": {},
   "outputs": [
    {
     "name": "stdout",
     "output_type": "stream",
     "text": [
      "('전지적관점1', 1, 230011, 13, 'action')\n"
     ]
    }
   ],
   "source": [
    "sql = 'select * from webtoon_list'\n",
    "c = conn.cursor()\n",
    "c.execute(sql)\n",
    "\n",
    "# 하나의 데이터\n",
    "print(c.fetchone())"
   ]
  },
  {
   "cell_type": "markdown",
   "id": "0c09fdd4",
   "metadata": {},
   "source": [
    "### 여러개의 데이터를 넣고 이를 조회하기"
   ]
  },
  {
   "cell_type": "markdown",
   "id": "68bd7503",
   "metadata": {},
   "source": [
    "* SQL의 데이터가 들어갈 자리에 '?'을 넣고 나중에 실행할 때 데이터를 넣는 방식\n",
    "* 데이터는 반드시 튜플 혹은 리스트 타입 형태의 데이터여야 한다.\n",
    "* execute는 하나의 데이터, executemany를 이용하면 다수의 데이터를 입력할 수 있음."
   ]
  },
  {
   "cell_type": "code",
   "execution_count": 8,
   "id": "2e95defa",
   "metadata": {},
   "outputs": [],
   "source": [
    "sql = \"\"\"\n",
    " INSERT INTO webtoon_list VALUES\n",
    "   (?, ?, ?, ?, ?)\n",
    "\"\"\"\n",
    "\n",
    "c = conn.cursor()   # 객체 생성\n",
    "c.execute(sql, ('피지컬농구', 2, 130011, 17, 'sport') )\n",
    "\n",
    "data = [\n",
    "    ('쇼미더머니짱', 3, 330011, 6, 'sport'),\n",
    "    ('요리쉐프', 4, 352231, 5, 'drama'),\n",
    "    ('황제와의데이트', 5, 70011, 19, 'love')\n",
    "]\n",
    "\n",
    "c.executemany(sql, data)\n",
    "c.close()\n",
    "conn.commit()"
   ]
  },
  {
   "cell_type": "code",
   "execution_count": 9,
   "id": "0fddc084",
   "metadata": {},
   "outputs": [
    {
     "name": "stdout",
     "output_type": "stream",
     "text": [
      "('전지적관점1', 1, 230011, 13, 'action')\n"
     ]
    }
   ],
   "source": [
    "sql = 'select * from webtoon_list'\n",
    "c = conn.cursor()\n",
    "c.execute(sql)\n",
    "\n",
    "# 하나의 데이터 확인\n",
    "print( c.fetchone() )"
   ]
  },
  {
   "cell_type": "code",
   "execution_count": 10,
   "id": "94b79508",
   "metadata": {},
   "outputs": [
    {
     "name": "stdout",
     "output_type": "stream",
     "text": [
      "('피지컬농구', 2, 130011, 17, 'sport')\n",
      "('쇼미더머니짱', 3, 330011, 6, 'sport')\n",
      "('요리쉐프', 4, 352231, 5, 'drama')\n",
      "('황제와의데이트', 5, 70011, 19, 'love')\n"
     ]
    }
   ],
   "source": [
    "for s in c.fetchmany(10):\n",
    "    print(s)"
   ]
  },
  {
   "cell_type": "code",
   "execution_count": 11,
   "id": "1fca79e0",
   "metadata": {},
   "outputs": [
    {
     "name": "stdout",
     "output_type": "stream",
     "text": [
      "('전지적관점1', 1, 230011, 13, 'action')\n",
      "('피지컬농구', 2, 130011, 17, 'sport')\n",
      "('쇼미더머니짱', 3, 330011, 6, 'sport')\n",
      "('요리쉐프', 4, 352231, 5, 'drama')\n",
      "('황제와의데이트', 5, 70011, 19, 'love')\n"
     ]
    }
   ],
   "source": [
    "sql = 'select * from webtoon_list'\n",
    "c = conn.cursor()\n",
    "c.execute(sql)\n",
    "\n",
    "for s in c.fetchall():\n",
    "    print(s)"
   ]
  },
  {
   "cell_type": "markdown",
   "id": "c3f42692",
   "metadata": {},
   "source": [
    "### 정리"
   ]
  },
  {
   "cell_type": "markdown",
   "id": "94eda993",
   "metadata": {},
   "source": [
    "- sqlite3.connect('student.db') - DB연결\n",
    "- 객체 생성 후, sql 실행\n",
    "```\n",
    "sql = \"\"\"\n",
    "INSERT INTO student VALUES\n",
    "  ('학생1', 1, \"서울 강남구 일원동\", 'male')\n",
    "\"\"\"\n",
    "c = conn.cursor()  # 객체 생성\n",
    "c.execute(sql)\n",
    "c.close()\n",
    "```"
   ]
  }
 ],
 "metadata": {
  "kernelspec": {
   "display_name": "Python 3 (ipykernel)",
   "language": "python",
   "name": "python3"
  },
  "language_info": {
   "codemirror_mode": {
    "name": "ipython",
    "version": 3
   },
   "file_extension": ".py",
   "mimetype": "text/x-python",
   "name": "python",
   "nbconvert_exporter": "python",
   "pygments_lexer": "ipython3",
   "version": "3.9.7"
  }
 },
 "nbformat": 4,
 "nbformat_minor": 5
}
