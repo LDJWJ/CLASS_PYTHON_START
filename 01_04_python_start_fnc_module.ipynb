{
 "cells": [
  {
   "cell_type": "markdown",
   "metadata": {},
   "source": [
    "## 함수 및 모듈 기본"
   ]
  },
  {
   "cell_type": "markdown",
   "metadata": {
    "id": "ztbXGMVq-zPB"
   },
   "source": [
    "### 학습 내용 및 목표\n",
    " * 함수에 대해 이해하고, 함수를 실습을 통해 알아봅니다.\n",
    " * 함수의 다양한 형태에 대해 알아봅니다.\n",
    " * 모듈에 대해 알아보고 직접 작성해 봅니다.\n",
    " * 많이 사용되는 외부 모듈을 불러와서 직접 사용해 봅니다.\n"
   ]
  },
  {
   "cell_type": "markdown",
   "metadata": {},
   "source": [
    "<h3 style='color:DodgerBlue'><a id='99'> 목차 </a></h3>\n",
    "\n",
    "<a href=\"#1\"> 1-1 함수에 대해 이해해보기  </a><br>\n",
    "<a href=\"#2\"> 1-2 함수의 다양한 형태  </a><br>\n",
    "<a href=\"#3\"> 1-3 모듈(module)  </a><br>\n",
    "<a href=\"#4\"> 2-1 외부 모듈(라이브러리) - os  </a><br>\n",
    "<a href=\"#5\"> 2-2 외부 모듈(라이브러리) - shutil  </a><br>\n",
    "<a href=\"#6\"> 2-3 외부 모듈(라이브러리) - time  </a><br>\n",
    "<a href=\"#7\"> 2-4 외부 모듈(라이브러리) - random  </a><br>"
   ]
  },
  {
   "cell_type": "markdown",
   "metadata": {},
   "source": [
    "<h3 style='color:LightCoral'><a id='1'> 1-1 함수에 대해 이해해보기 </a></h3>  \n",
    "\n",
    "* 어떤 일정한 실행을 반복할 때, 이를 함수로 만들어 효율적 관리유지가 가능하다.\n",
    "\n",
    "<a href='#99'> 목차로 </a>"
   ]
  },
  {
   "cell_type": "markdown",
   "metadata": {},
   "source": [
    "### input().split()  \n",
    " * 입력시에 공백으로 분리해 준다."
   ]
  },
  {
   "cell_type": "markdown",
   "metadata": {
    "id": "dP7tp2Z1_40s"
   },
   "source": [
    "* 생각해보기 - 두 값에 입력받고 3번의 더하기, 빼기, 곱하기 연산을 수행해 보기"
   ]
  },
  {
   "cell_type": "code",
   "execution_count": 3,
   "metadata": {
    "colab": {
     "base_uri": "https://localhost:8080/"
    },
    "id": "Ij5ktqe5AJ1U",
    "outputId": "62744071-1d68-43e0-ab44-0efd2d07e6d3"
   },
   "outputs": [
    {
     "name": "stdout",
     "output_type": "stream",
     "text": [
      "10 40\n",
      "10 40\n"
     ]
    }
   ],
   "source": [
    "a, b = input().split()  # 입력시에 공백을 두어 입력을 수행\n",
    "print(a, b)"
   ]
  },
  {
   "cell_type": "code",
   "execution_count": 6,
   "metadata": {
    "colab": {
     "base_uri": "https://localhost:8080/"
    },
    "id": "dmCxTR6dAYpM",
    "outputId": "48d0abc2-786f-451d-8c56-73a6ae38f44c"
   },
   "outputs": [
    {
     "name": "stdout",
     "output_type": "stream",
     "text": [
      "두 값 입력(구분은 ',' 이용)3, 10\n",
      "3  10\n"
     ]
    }
   ],
   "source": [
    "a, b = input(\"두 값 입력(구분은 ',' 이용)\").split(\",\")  # 입력시에 ','을 기준으로 두 개의 값으로 구분\n",
    "print(a, b)"
   ]
  },
  {
   "cell_type": "code",
   "execution_count": 7,
   "metadata": {
    "colab": {
     "base_uri": "https://localhost:8080/"
    },
    "id": "vlFWCxfJAgU4",
    "outputId": "0c3c8d06-005c-4db5-df97-b0bba8cac283"
   },
   "outputs": [
    {
     "name": "stdout",
     "output_type": "stream",
     "text": [
      "13\n",
      "-7\n",
      "30\n"
     ]
    }
   ],
   "source": [
    "a = int(a)\n",
    "b = int(b)\n",
    "\n",
    "print(a+b)\n",
    "print(a-b)\n",
    "print(a*b)"
   ]
  },
  {
   "cell_type": "markdown",
   "metadata": {
    "id": "ZFgXz3JtArlA"
   },
   "source": [
    "### 두개의 값 입력 후, 연산 실행"
   ]
  },
  {
   "cell_type": "code",
   "execution_count": 8,
   "metadata": {
    "colab": {
     "base_uri": "https://localhost:8080/"
    },
    "id": "CAf6ZTxHAoWl",
    "outputId": "bc55eb0e-1b9b-4e44-895d-905e3c3d3720"
   },
   "outputs": [
    {
     "name": "stdout",
     "output_type": "stream",
     "text": [
      "30 , 50\n",
      "80\n",
      "-20\n",
      "1500\n"
     ]
    }
   ],
   "source": [
    "a, b = input().split(\",\")  # 입력받은 값을 공백을 기준으로 분리\n",
    "\n",
    "a = int(a)\n",
    "b = int(b)\n",
    "\n",
    "print(a+b)\n",
    "print(a-b)\n",
    "print(a*b)"
   ]
  },
  {
   "cell_type": "markdown",
   "metadata": {
    "id": "_2HyqfX1AvP4"
   },
   "source": [
    "### 같은 행동이 반복적으로 수행될때,\n",
    "* 이를 함수화 시켜보자."
   ]
  },
  {
   "cell_type": "code",
   "execution_count": 9,
   "metadata": {
    "id": "qEYk-2h3Az7A"
   },
   "outputs": [],
   "source": [
    "def two_plus(a,b):\n",
    "  print(a + b)\n",
    "  print(a - b)\n",
    "  print(a * b)"
   ]
  },
  {
   "cell_type": "code",
   "execution_count": 10,
   "metadata": {
    "colab": {
     "base_uri": "https://localhost:8080/"
    },
    "id": "iUurV9__A7SR",
    "outputId": "9294f04c-a9ad-45af-d5f3-1cbfa9e758e0"
   },
   "outputs": [
    {
     "name": "stdout",
     "output_type": "stream",
     "text": [
      "30 , 100\n",
      "130\n",
      "-70\n",
      "3000\n"
     ]
    }
   ],
   "source": [
    "a, b = input().split(\",\")  # 입력받은 값을 공백을 기준으로 분리\n",
    "\n",
    "a = int(a)\n",
    "b = int(b)\n",
    "two_plus(a,b)"
   ]
  },
  {
   "cell_type": "markdown",
   "metadata": {
    "id": "-Oajyz2-A-UI"
   },
   "source": [
    "### [정리]\n",
    "함수화를 통해 코드의 반복을 줄일 수 있고, 추후 공동작업시에도 수정 및 기능 추가가 효율적이다."
   ]
  },
  {
   "cell_type": "markdown",
   "metadata": {
    "id": "QfuhJhosBIiq"
   },
   "source": [
    "### 기본 구조1\n",
    "\n",
    "```\n",
    "def 함수명():\n",
    "  실행문장1\n",
    "  실행문장1\n",
    "\n",
    "\n",
    "# 실행을 위해서는 함수명 재호출해야함.\n",
    "함수명()\n",
    "```"
   ]
  },
  {
   "cell_type": "markdown",
   "metadata": {
    "id": "GWisHUqCBRhT"
   },
   "source": [
    "### 기본 구조2\n",
    " * 함수를 호출시에 값을 전달할 수 있다.\n",
    " * 정의하는 곳에서는 이를 매개변수\n",
    " * 넘겨주는 쪽에서는 이를 인수라한다.\n",
    "\n",
    "```\n",
    "def 함수명(매개변수1, 매개변수2):\n",
    "  실행문장1\n",
    "  실행문장1\n",
    "\n",
    "\n",
    "# 실행을 위해서는 함수명 재호출해야함.\n",
    "함수명(인자1, 인자2)\n",
    "```"
   ]
  },
  {
   "cell_type": "code",
   "execution_count": 11,
   "metadata": {
    "id": "5Mmp1pLtBk9P"
   },
   "outputs": [],
   "source": [
    "def two_plus(a,b):  # a,b 는 매개변수\n",
    "  print(a + b)\n",
    "  print(a - b)\n",
    "  print(a * b)"
   ]
  },
  {
   "cell_type": "code",
   "execution_count": 12,
   "metadata": {
    "colab": {
     "base_uri": "https://localhost:8080/"
    },
    "id": "O9xSQM9UBmtQ",
    "outputId": "e8bd1cd7-3ac7-4f8d-a240-32b50b8f8f16"
   },
   "outputs": [
    {
     "name": "stdout",
     "output_type": "stream",
     "text": [
      "8\n",
      "-2\n",
      "15\n"
     ]
    }
   ],
   "source": [
    "a1 = 3\n",
    "b1 = 5\n",
    "two_plus(a1,b1)  #  a1, b1는 인수"
   ]
  },
  {
   "cell_type": "markdown",
   "metadata": {
    "id": "499QUNv7Bq6n"
   },
   "source": [
    "### 함께 해보기\n",
    " * 사칙 연산을 계산하는 함수를 작성해 보자.\n",
    " * +, -, *, /, //, % 등을 계산해보기"
   ]
  },
  {
   "cell_type": "markdown",
   "metadata": {
    "id": "4utFyxzSB01W"
   },
   "source": [
    "### 생각해 보기\n",
    " * 좀 더 나의 계산기를 업그레이드 시켜보자."
   ]
  },
  {
   "cell_type": "markdown",
   "metadata": {},
   "source": [
    "#### 추가 - eval() 함수를 이용하여 연산 가능"
   ]
  },
  {
   "cell_type": "code",
   "execution_count": 13,
   "metadata": {
    "colab": {
     "base_uri": "https://localhost:8080/"
    },
    "id": "4eOjXhXuB57q",
    "outputId": "bae7e2ef-6663-4241-ca37-669aad6a925f"
   },
   "outputs": [
    {
     "name": "stdout",
     "output_type": "stream",
     "text": [
      "8\n",
      "-12\n",
      "150\n"
     ]
    }
   ],
   "source": [
    "# 참고 예\n",
    "print( eval(\"3+5\") )\n",
    "print( eval(\"3-5-10\"))\n",
    "print( eval(\"3*5*10\"))"
   ]
  },
  {
   "cell_type": "markdown",
   "metadata": {
    "id": "Yy1YJyAgB7Ei"
   },
   "source": [
    "### 기본 구조3\n",
    " * 함수 정의 블록에서 return을 명령을 이용해서 함수 호출한 곳에 실행 후, 값을 전달할 수 있다.\n",
    "\n",
    "```\n",
    "def 함수명(매개변수1, 매개변수2):\n",
    "  실행문장1\n",
    "  실행문장1\n",
    "  return [전달내용]\n",
    "\n",
    "# 실행을 위해서는 함수명 재호출해야함.\n",
    "var = 함수명(인자1, 인자2)\n",
    "```"
   ]
  },
  {
   "cell_type": "code",
   "execution_count": 14,
   "metadata": {
    "id": "4a7ag6-cCdHM"
   },
   "outputs": [],
   "source": [
    "def two_plus(a,b):\n",
    "  num1 = a+b\n",
    "  return num1"
   ]
  },
  {
   "cell_type": "code",
   "execution_count": 15,
   "metadata": {
    "colab": {
     "base_uri": "https://localhost:8080/"
    },
    "id": "14GWCRI-CiuW",
    "outputId": "baeeb259-55d5-48ff-c553-6c9c4d02b30d"
   },
   "outputs": [
    {
     "name": "stdout",
     "output_type": "stream",
     "text": [
      "8\n"
     ]
    }
   ],
   "source": [
    "a = 3\n",
    "b = 5\n",
    "result = two_plus(a,b)\n",
    "print(result)"
   ]
  },
  {
   "cell_type": "markdown",
   "metadata": {},
   "source": [
    "<h3 style='color:LightCoral'><a id='2'> 1-2 함수의 다양한 형태 </a></h3>  \n",
    "\n",
    "<a href='#99'> 목차로 </a>"
   ]
  },
  {
   "cell_type": "code",
   "execution_count": 16,
   "metadata": {
    "id": "fszu-sesCpVV"
   },
   "outputs": [],
   "source": [
    "def two_op(a,b):\n",
    "  num1 = a+b\n",
    "  num2 = a-b\n",
    "  num3 = a*b\n",
    "  num4 = a/b\n",
    "  return num1, num2, num3, num4"
   ]
  },
  {
   "cell_type": "code",
   "execution_count": 17,
   "metadata": {
    "colab": {
     "base_uri": "https://localhost:8080/"
    },
    "id": "tFTg-MKjCuol",
    "outputId": "aa319783-7d94-429a-fb73-d78efb671065"
   },
   "outputs": [
    {
     "name": "stdout",
     "output_type": "stream",
     "text": [
      "더하기 : 8\n",
      "빼기   : -2\n",
      "곱하기 : 15\n",
      "나누기 : 0.6\n"
     ]
    }
   ],
   "source": [
    "a = 3\n",
    "b = 5\n",
    "r1, r2, r3, r4 = two_op(a,b)\n",
    "print(\"더하기 :\", r1)\n",
    "print(\"빼기   :\", r2)\n",
    "print(\"곱하기 :\", r3)\n",
    "print(\"나누기 :\", r4)"
   ]
  },
  {
   "cell_type": "markdown",
   "metadata": {},
   "source": [
    "### [실습] 두 값에 대한, 연산 ( //-몫, %-나머지, \\** 제곱연산)을 구하고 이의 값을 반환하는 함수를 구해보자."
   ]
  },
  {
   "cell_type": "markdown",
   "metadata": {
    "id": "CrQVylFsC5OP"
   },
   "source": [
    "### 기본 구조4\n",
    " * 전달되는 입력값이 몇 개인지 모를때는 다음과 같이 여러개의 값을 전달 가능하다.\n",
    " * 입력되는 값의 개수가 때에 따라 다를 경우\n",
    "\n",
    "```\n",
    "def 함수명(*매개변수):\n",
    "  실행문장1\n",
    "\n",
    "# 실행을 위해서는 함수명 재호출해야함.\n",
    "var = 함수명(인자1, 인자2)\n",
    "```"
   ]
  },
  {
   "cell_type": "code",
   "execution_count": 18,
   "metadata": {
    "id": "R6vw29MaDaDF"
   },
   "outputs": [],
   "source": [
    "def mul_op(*args):\n",
    "  sum = 0\n",
    "  for i in args:\n",
    "    sum += i\n",
    "  return sum"
   ]
  },
  {
   "cell_type": "code",
   "execution_count": 19,
   "metadata": {
    "colab": {
     "base_uri": "https://localhost:8080/"
    },
    "id": "UPcAlLLEDnK-",
    "outputId": "1301e970-1c99-4ad1-b9ce-f58c0058b69d"
   },
   "outputs": [
    {
     "data": {
      "text/plain": [
       "15"
      ]
     },
     "execution_count": 19,
     "metadata": {},
     "output_type": "execute_result"
    }
   ],
   "source": [
    "mul_op(1,2,3,4,5)"
   ]
  },
  {
   "cell_type": "code",
   "execution_count": 20,
   "metadata": {
    "colab": {
     "base_uri": "https://localhost:8080/"
    },
    "id": "tznpKQOoDoH6",
    "outputId": "552dc3b6-f80d-4546-d637-4c52f0c87092"
   },
   "outputs": [
    {
     "data": {
      "text/plain": [
       "12"
      ]
     },
     "execution_count": 20,
     "metadata": {},
     "output_type": "execute_result"
    }
   ],
   "source": [
    "mul_op(3,4,5)"
   ]
  },
  {
   "cell_type": "markdown",
   "metadata": {
    "id": "niZUaHahDqUc"
   },
   "source": [
    "### 기본 구조5\n",
    " * 매개변수의 초기값 설정이 가능하다.\n",
    " * 함수를 호출시에 해당 값이 전달이 되지 않으면 초기값으로 값을 가지게 된다.\n",
    "\n",
    "```\n",
    "def 함수명(매개변수1, 매개변수2=0):\n",
    "  실행문장1\n",
    "\n",
    "# 실행을 위해서는 함수명 재호출해야함.\n",
    "var = 함수명(인자1, 인자2)\n",
    "```"
   ]
  },
  {
   "cell_type": "code",
   "execution_count": 21,
   "metadata": {
    "id": "VblGbFCkD4OU"
   },
   "outputs": [],
   "source": [
    "def two_op2(a,b=0):\n",
    "  num1 = a+b\n",
    "  num2 = a-b\n",
    "  return num1, num2"
   ]
  },
  {
   "cell_type": "code",
   "execution_count": 22,
   "metadata": {
    "colab": {
     "base_uri": "https://localhost:8080/"
    },
    "id": "LNm6sM_zD_6N",
    "outputId": "3cee4072-064e-40c5-b8e6-73be3f9fca29"
   },
   "outputs": [
    {
     "name": "stdout",
     "output_type": "stream",
     "text": [
      "더하기 : 8\n",
      "빼기   : -2\n"
     ]
    }
   ],
   "source": [
    "a = 3\n",
    "b = 5\n",
    "r1, r2 = two_op2(a,b)\n",
    "print(\"더하기 :\", r1)\n",
    "print(\"빼기   :\", r2)"
   ]
  },
  {
   "cell_type": "markdown",
   "metadata": {
    "id": "BPLVh9LHEEwQ"
   },
   "source": [
    "### 함수의 매개변수 값, b가 없을 경우,"
   ]
  },
  {
   "cell_type": "code",
   "execution_count": 23,
   "metadata": {
    "colab": {
     "base_uri": "https://localhost:8080/"
    },
    "id": "z_D_lCxCEIIX",
    "outputId": "570d9abe-091d-43bf-fcfb-fd3867b57ab1"
   },
   "outputs": [
    {
     "name": "stdout",
     "output_type": "stream",
     "text": [
      "더하기 : 3\n",
      "빼기   : 3\n"
     ]
    }
   ],
   "source": [
    "a = 3\n",
    "r1, r2 = two_op2(a)  # 원래 인수가 없을 때는 함수에서 정의된 초기값을 쓴다.\n",
    "print(\"더하기 :\", r1)  # 3+0\n",
    "print(\"빼기   :\", r2)  # 3-0"
   ]
  },
  {
   "cell_type": "markdown",
   "metadata": {
    "id": "uGvuG7wpEJiN"
   },
   "source": [
    "### 함께 해보기"
   ]
  },
  {
   "cell_type": "markdown",
   "metadata": {
    "id": "6Jm_JSMtEfsL"
   },
   "source": [
    "* 함수 실습해보기"
   ]
  },
  {
   "cell_type": "markdown",
   "metadata": {},
   "source": [
    "<h3 style='color:LightCoral'><a id='3'> 1-3 모듈(module) </a></h3>  \n",
    "\n",
    "<a href='#99'> 목차로 </a>"
   ]
  },
  {
   "cell_type": "markdown",
   "metadata": {
    "id": "3Iu96SpvGh4u"
   },
   "source": [
    "* 모듈이란 **함수나 변수 또는 클래스를 모아놓은 파일**입니다.\n",
    "* 다른 파이썬 프로그램에서 불러와 사용할 수 있도록 만든 파이썬 파일로 보면 됩니다."
   ]
  },
  {
   "cell_type": "markdown",
   "metadata": {
    "id": "pLe9TSpHHbNJ"
   },
   "source": [
    "### 내가 직접 모듈을 만들어 사용해 보기"
   ]
  },
  {
   "cell_type": "markdown",
   "metadata": {
    "id": "LFMlL8OtG4ar"
   },
   "source": [
    "```\n",
    "파일 만들기 mymod.py\n",
    "\n",
    "default_val = 100\n",
    "\n",
    "def mod_two_op(a,b=0):\n",
    "  num1 = a+b\n",
    "  num2 = a-b\n",
    "  return num1, num2\n",
    "  \n",
    "class Cal:\n",
    "  result = 0\n",
    "  def plus(self, num1):\n",
    "    self.resutl += num1\n",
    "\n",
    "```"
   ]
  },
  {
   "cell_type": "markdown",
   "metadata": {
    "id": "uqxG7fYkIFw_"
   },
   "source": [
    "### 모듈을 불러오기 (import 명령을 이용)\n",
    "\n",
    "```\n",
    "[syntax] import 모듈이름\n",
    "```"
   ]
  },
  {
   "cell_type": "code",
   "execution_count": 24,
   "metadata": {
    "id": "BizSxIHQHOfh"
   },
   "outputs": [],
   "source": [
    "import mymod"
   ]
  },
  {
   "cell_type": "markdown",
   "metadata": {},
   "source": [
    "### 모듈의 변수값 출력"
   ]
  },
  {
   "cell_type": "code",
   "execution_count": 25,
   "metadata": {},
   "outputs": [
    {
     "name": "stdout",
     "output_type": "stream",
     "text": [
      "100\n"
     ]
    }
   ],
   "source": [
    "print(mymod.default_val)"
   ]
  },
  {
   "cell_type": "markdown",
   "metadata": {},
   "source": [
    "### 모듈의 함수를 이용하기"
   ]
  },
  {
   "cell_type": "code",
   "execution_count": 26,
   "metadata": {
    "colab": {
     "base_uri": "https://localhost:8080/"
    },
    "id": "-keiM2sSHQiM",
    "outputId": "4b646421-d9bc-4d88-e55b-6330fb9436b3"
   },
   "outputs": [
    {
     "name": "stdout",
     "output_type": "stream",
     "text": [
      "두 값의 합 :  15\n",
      "두 값의 차 :  -5\n"
     ]
    }
   ],
   "source": [
    "a = 5\n",
    "b = 10\n",
    "n1, n2 =  mymod.mod_two_op(a, b)\n",
    "\n",
    "print(\"두 값의 합 : \", n1)\n",
    "print(\"두 값의 차 : \", n2)"
   ]
  },
  {
   "cell_type": "markdown",
   "metadata": {},
   "source": [
    "### 모듈의 클래스를 이용하여 계산기 생성해 보기"
   ]
  },
  {
   "cell_type": "code",
   "execution_count": 27,
   "metadata": {},
   "outputs": [
    {
     "name": "stdout",
     "output_type": "stream",
     "text": [
      "계산기 현재 값 :  10\n"
     ]
    }
   ],
   "source": [
    "Cal1 = mymod.Cal()\n",
    "Cal1.plus(10)\n",
    "\n",
    "print(\"계산기 현재 값 : \", Cal1.result)"
   ]
  },
  {
   "cell_type": "markdown",
   "metadata": {},
   "source": [
    "* (실습해 보기) 모듈 mymod2.py를 만들어보자. 여기의 함수는 개수 상관없이 여러개의 값을 더하여 출력하는 함수를 추가해보자."
   ]
  },
  {
   "cell_type": "markdown",
   "metadata": {
    "id": "Xk1Ewm7UHWnZ"
   },
   "source": [
    "### 외부 모듈 사용해 보기"
   ]
  },
  {
   "cell_type": "markdown",
   "metadata": {
    "id": "BJhVuCnQHhGZ"
   },
   "source": [
    "* os 모듈 : 시스템의 디렉터리, 파일, os 자원을 제어할 수 있게 해주는 모듈\n",
    "* shutil 파일 복사 모듈\n",
    "* time : 시간관련 모듈\n",
    "* random : 난수(규칙이 없는 임의의 수)를 발생시키는 모듈"
   ]
  },
  {
   "cell_type": "markdown",
   "metadata": {},
   "source": [
    "<h3 style='color:LightCoral'><a id='4'> 2-1 외부 모듈(라이브러리) - os </a></h3>  \n",
    "\n",
    "<a href='#99'> 목차로 </a>"
   ]
  },
  {
   "cell_type": "code",
   "execution_count": 28,
   "metadata": {
    "colab": {
     "base_uri": "https://localhost:8080/"
    },
    "id": "x5stsLr8IEXe",
    "outputId": "a69ac5f3-b365-46eb-868e-b2a60c7e12c3"
   },
   "outputs": [
    {
     "name": "stdout",
     "output_type": "stream",
     "text": [
      "D:\\GitHub\\CLASS_PYTHON_START_Code\n"
     ]
    }
   ],
   "source": [
    "import os\n",
    "\n",
    "# 현재 위치 확인\n",
    "print(  os.getcwd()  )"
   ]
  },
  {
   "cell_type": "code",
   "execution_count": 29,
   "metadata": {
    "colab": {
     "base_uri": "https://localhost:8080/"
    },
    "id": "wzLv5mLTIPSp",
    "outputId": "fc30cdf9-0fc6-4e50-cc10-818833704adf"
   },
   "outputs": [
    {
     "name": "stdout",
     "output_type": "stream",
     "text": [
      "['.DS_Store', '.git', '.gitattributes', '.idea', '.ipynb_checkpoints', '01_01_python_start.ipynb', '01_02_python_start_if_for_list.ipynb', '01_03_file_dat', '01_03_python_start_file.html', '01_04_class_example', '01_04_python_start_classA.ipynb', '01_04_python_start_classA.py', '01_04_python_start_classB.ipynb', '01_04_python_start_classB.py', '01_04_python_start_fnc_module.ipynb', '01_04_python_start_fnc_module_220407.py', '02_01_programming', '02_01_programming.ipynb', '02_02_programmingA_turtle.py', '02_02_programmingB_turtle.py', '02_02_programmingB_turtle02.py', '02_02_programmingC_turtle.py', '02_02_programmingE_set.py', '02_02_programmingF_wordcount.py', '02_02_programmingF_wordcount02.py', '02_02_programmingG_login.py', '02_03A_class_contactList', '02_03B_kakao_msg_send', '02_03C_programming_class_contactList', '02_03D_translation', '02_03D_translation01.ipynb', '02_03D_translation02XX.ipynb', '02_04_programmingA_contact_all.py', '02_04_programmingB_contact_update.py', '03_01_programmingA_imgfile_copy_size.py', '03_02_ml_start.ipynb', '03_03_DB.ipynb', 'class_code', 'eng_dat', 'file01.txt', 'hello_utf.txt', 'img', 'mydata.txt', 'mydata_bak.txt', 'mymod.py', 'mymod1.py', 'pdf_html', 'PYLIB_01_03_html', 'Python_Basic_Summary 복사본.pptx', 'Python_Basic_Summary.pptx', 'Python_Basic_v10_1911.pptx', 'README.md', 'sample_code', 'test.txt', 'unit08_package', 'unit09_tkinter_programming', '__pycache__', '~$Python_Basic_Summary 복사본.pptx', '데이터분석을위한파이썬_16h_v01_202202_커리큘럼.pdf', '데이터분석을위한파이썬_16h_v01_202202_커리큘럼.pptx']\n"
     ]
    }
   ],
   "source": [
    "# 현재 위치의 디렉터리 및 파일 확인\n",
    "print(  os.listdir()  )"
   ]
  },
  {
   "cell_type": "code",
   "execution_count": 30,
   "metadata": {
    "colab": {
     "base_uri": "https://localhost:8080/"
    },
    "id": "4Do80yYCISh9",
    "outputId": "53c64671-ba23-41f2-8fb6-ab9304b37fae"
   },
   "outputs": [
    {
     "name": "stdout",
     "output_type": "stream",
     "text": [
      "None\n",
      "['.DS_Store', '.git', '.gitattributes', '.idea', '.ipynb_checkpoints', '01_01_python_start.ipynb', '01_02_python_start_if_for_list.ipynb', '01_03_file_dat', '01_03_python_start_file.html', '01_04_class_example', '01_04_python_start_classA.ipynb', '01_04_python_start_classA.py', '01_04_python_start_classB.ipynb', '01_04_python_start_classB.py', '01_04_python_start_fnc_module.ipynb', '01_04_python_start_fnc_module_220407.py', '02_01_programming', '02_01_programming.ipynb', '02_02_programmingA_turtle.py', '02_02_programmingB_turtle.py', '02_02_programmingB_turtle02.py', '02_02_programmingC_turtle.py', '02_02_programmingE_set.py', '02_02_programmingF_wordcount.py', '02_02_programmingF_wordcount02.py', '02_02_programmingG_login.py', '02_03A_class_contactList', '02_03B_kakao_msg_send', '02_03C_programming_class_contactList', '02_03D_translation', '02_03D_translation01.ipynb', '02_03D_translation02XX.ipynb', '02_04_programmingA_contact_all.py', '02_04_programmingB_contact_update.py', '03_01_programmingA_imgfile_copy_size.py', '03_02_ml_start.ipynb', '03_03_DB.ipynb', 'class_code', 'eng_dat', 'file01.txt', 'hello_utf.txt', 'img', 'mydata.txt', 'mydata_bak.txt', 'mydir', 'mymod.py', 'mymod1.py', 'pdf_html', 'PYLIB_01_03_html', 'Python_Basic_Summary 복사본.pptx', 'Python_Basic_Summary.pptx', 'Python_Basic_v10_1911.pptx', 'README.md', 'sample_code', 'test.txt', 'unit08_package', 'unit09_tkinter_programming', '__pycache__', '~$Python_Basic_Summary 복사본.pptx', '데이터분석을위한파이썬_16h_v01_202202_커리큘럼.pdf', '데이터분석을위한파이썬_16h_v01_202202_커리큘럼.pptx']\n"
     ]
    }
   ],
   "source": [
    "# 현재 위치에 새로운 디렉터리 만들기\n",
    "print(  os.mkdir(\"mydir\")  )\n",
    "print(  os.listdir()  )"
   ]
  },
  {
   "cell_type": "code",
   "execution_count": 31,
   "metadata": {
    "colab": {
     "base_uri": "https://localhost:8080/"
    },
    "id": "lHwDRT5eIgfm",
    "outputId": "26313ecd-4d71-40e7-b1d4-0c3e88ec2724"
   },
   "outputs": [
    {
     "name": "stdout",
     "output_type": "stream",
     "text": [
      "None\n",
      "['.DS_Store', '.git', '.gitattributes', '.idea', '.ipynb_checkpoints', '01_01_python_start.ipynb', '01_02_python_start_if_for_list.ipynb', '01_03_file_dat', '01_03_python_start_file.html', '01_04_class_example', '01_04_python_start_classA.ipynb', '01_04_python_start_classA.py', '01_04_python_start_classB.ipynb', '01_04_python_start_classB.py', '01_04_python_start_fnc_module.ipynb', '01_04_python_start_fnc_module_220407.py', '02_01_programming', '02_01_programming.ipynb', '02_02_programmingA_turtle.py', '02_02_programmingB_turtle.py', '02_02_programmingB_turtle02.py', '02_02_programmingC_turtle.py', '02_02_programmingE_set.py', '02_02_programmingF_wordcount.py', '02_02_programmingF_wordcount02.py', '02_02_programmingG_login.py', '02_03A_class_contactList', '02_03B_kakao_msg_send', '02_03C_programming_class_contactList', '02_03D_translation', '02_03D_translation01.ipynb', '02_03D_translation02XX.ipynb', '02_04_programmingA_contact_all.py', '02_04_programmingB_contact_update.py', '03_01_programmingA_imgfile_copy_size.py', '03_02_ml_start.ipynb', '03_03_DB.ipynb', 'class_code', 'eng_dat', 'file01.txt', 'hello_utf.txt', 'img', 'mydata.txt', 'mydata_bak.txt', 'mymod.py', 'mymod1.py', 'pdf_html', 'PYLIB_01_03_html', 'Python_Basic_Summary 복사본.pptx', 'Python_Basic_Summary.pptx', 'Python_Basic_v10_1911.pptx', 'README.md', 'sample_code', 'test.txt', 'unit08_package', 'unit09_tkinter_programming', '__pycache__', '~$Python_Basic_Summary 복사본.pptx', '데이터분석을위한파이썬_16h_v01_202202_커리큘럼.pdf', '데이터분석을위한파이썬_16h_v01_202202_커리큘럼.pptx']\n"
     ]
    }
   ],
   "source": [
    "# 현재 위치에 디렉터리 삭제\n",
    "print(  os.rmdir(\"mydir\")  )\n",
    "print(  os.listdir()  )"
   ]
  },
  {
   "cell_type": "markdown",
   "metadata": {},
   "source": [
    "<h3 style='color:LightCoral'><a id='5'> 2-2 외부 모듈(라이브러리) - shutil </a></h3>  \n",
    "\n",
    "<a href='#99'> 목차로 </a><br>\n"
   ]
  },
  {
   "cell_type": "markdown",
   "metadata": {},
   "source": [
    "* 파일을 복사해 주는 파이썬 모듈"
   ]
  },
  {
   "cell_type": "code",
   "execution_count": 32,
   "metadata": {
    "colab": {
     "base_uri": "https://localhost:8080/"
    },
    "id": "tT2uP5hwIzYj",
    "outputId": "47682246-2b14-4e24-81a9-ea608349bf38"
   },
   "outputs": [
    {
     "name": "stdout",
     "output_type": "stream",
     "text": [
      "['.DS_Store', '.git', '.gitattributes', '.idea', '.ipynb_checkpoints', '01_01_python_start.ipynb', '01_02_python_start_if_for_list.ipynb', '01_03_file_dat', '01_03_python_start_file.html', '01_04_class_example', '01_04_python_start_classA.ipynb', '01_04_python_start_classA.py', '01_04_python_start_classB.ipynb', '01_04_python_start_classB.py', '01_04_python_start_fnc_module.ipynb', '01_04_python_start_fnc_module_220407.py', '02_01_programming', '02_01_programming.ipynb', '02_02_programmingA_turtle.py', '02_02_programmingB_turtle.py', '02_02_programmingB_turtle02.py', '02_02_programmingC_turtle.py', '02_02_programmingE_set.py', '02_02_programmingF_wordcount.py', '02_02_programmingF_wordcount02.py', '02_02_programmingG_login.py', '02_03A_class_contactList', '02_03B_kakao_msg_send', '02_03C_programming_class_contactList', '02_03D_translation', '02_03D_translation01.ipynb', '02_03D_translation02XX.ipynb', '02_04_programmingA_contact_all.py', '02_04_programmingB_contact_update.py', '03_01_programmingA_imgfile_copy_size.py', '03_02_ml_start.ipynb', '03_03_DB.ipynb', 'class_code', 'eng_dat', 'file01.txt', 'hello_utf.txt', 'img', 'mydata.txt', 'mydata_bak.txt', 'mymod.py', 'mymod1.py', 'pdf_html', 'PYLIB_01_03_html', 'Python_Basic_Summary 복사본.pptx', 'Python_Basic_Summary.pptx', 'Python_Basic_v10_1911.pptx', 'README.md', 'sample_code', 'test.txt', 'unit08_package', 'unit09_tkinter_programming', '__pycache__', '~$Python_Basic_Summary 복사본.pptx', '데이터분석을위한파이썬_16h_v01_202202_커리큘럼.pdf', '데이터분석을위한파이썬_16h_v01_202202_커리큘럼.pptx']\n"
     ]
    }
   ],
   "source": [
    "print(  os.listdir()  )  "
   ]
  },
  {
   "cell_type": "code",
   "execution_count": 33,
   "metadata": {
    "colab": {
     "base_uri": "https://localhost:8080/"
    },
    "id": "bAwnLY6iI8oZ",
    "outputId": "d96162dc-b7fc-4749-b11a-738b575fdb3c"
   },
   "outputs": [
    {
     "name": "stdout",
     "output_type": "stream",
     "text": [
      "['.DS_Store', '.git', '.gitattributes', '.idea', '.ipynb_checkpoints', '01_01_python_start.ipynb', '01_02_python_start_if_for_list.ipynb', '01_03_file_dat', '01_03_python_start_file.html', '01_04_class_example', '01_04_python_start_classA.ipynb', '01_04_python_start_classA.py', '01_04_python_start_classB.ipynb', '01_04_python_start_classB.py', '01_04_python_start_fnc_module.ipynb', '01_04_python_start_fnc_module_220407.py', '02_01_programming', '02_01_programming.ipynb', '02_02_programmingA_turtle.py', '02_02_programmingB_turtle.py', '02_02_programmingB_turtle02.py', '02_02_programmingC_turtle.py', '02_02_programmingE_set.py', '02_02_programmingF_wordcount.py', '02_02_programmingF_wordcount02.py', '02_02_programmingG_login.py', '02_03A_class_contactList', '02_03B_kakao_msg_send', '02_03C_programming_class_contactList', '02_03D_translation', '02_03D_translation01.ipynb', '02_03D_translation02XX.ipynb', '02_04_programmingA_contact_all.py', '02_04_programmingB_contact_update.py', '03_01_programmingA_imgfile_copy_size.py', '03_02_ml_start.ipynb', '03_03_DB.ipynb', 'class_code', 'eng_dat', 'file01.txt', 'hello_utf.txt', 'img', 'mydata.txt', 'mydata_bak.txt', 'mymod.py', 'mymod1.py', 'pdf_html', 'PYLIB_01_03_html', 'Python_Basic_Summary 복사본.pptx', 'Python_Basic_Summary.pptx', 'Python_Basic_v10_1911.pptx', 'README.md', 'sample_code', 'test.txt', 'unit08_package', 'unit09_tkinter_programming', '__pycache__', '~$Python_Basic_Summary 복사본.pptx', '데이터분석을위한파이썬_16h_v01_202202_커리큘럼.pdf', '데이터분석을위한파이썬_16h_v01_202202_커리큘럼.pptx']\n"
     ]
    }
   ],
   "source": [
    "import shutil\n",
    "\n",
    "# 백업 파일 복사\n",
    "shutil.copy(\"mydata.txt\", \"mydata_bak.txt\")\n",
    "print(  os.listdir()  )"
   ]
  },
  {
   "cell_type": "code",
   "execution_count": 34,
   "metadata": {
    "colab": {
     "base_uri": "https://localhost:8080/"
    },
    "id": "GW1hCI7gJK0w",
    "outputId": "2bfa8557-30ae-4b84-e2ea-81a73c182149"
   },
   "outputs": [
    {
     "name": "stdout",
     "output_type": "stream",
     "text": [
      "['.DS_Store', '.git', '.gitattributes', '.idea', '.ipynb_checkpoints', '01_01_python_start.ipynb', '01_02_python_start_if_for_list.ipynb', '01_03_file_dat', '01_03_python_start_file.html', '01_04_class_example', '01_04_python_start_classA.ipynb', '01_04_python_start_classA.py', '01_04_python_start_classB.ipynb', '01_04_python_start_classB.py', '01_04_python_start_fnc_module.ipynb', '01_04_python_start_fnc_module_220407.py', '02_01_programming', '02_01_programming.ipynb', '02_02_programmingA_turtle.py', '02_02_programmingB_turtle.py', '02_02_programmingB_turtle02.py', '02_02_programmingC_turtle.py', '02_02_programmingE_set.py', '02_02_programmingF_wordcount.py', '02_02_programmingF_wordcount02.py', '02_02_programmingG_login.py', '02_03A_class_contactList', '02_03B_kakao_msg_send', '02_03C_programming_class_contactList', '02_03D_translation', '02_03D_translation01.ipynb', '02_03D_translation02XX.ipynb', '02_04_programmingA_contact_all.py', '02_04_programmingB_contact_update.py', '03_01_programmingA_imgfile_copy_size.py', '03_02_ml_start.ipynb', '03_03_DB.ipynb', 'class_code', 'eng_dat', 'file01.txt', 'hello_utf.txt', 'img', 'mydata.txt', 'mydata_bak.txt', 'mymod.py', 'mymod1.py', 'pdf_html', 'PYLIB_01_03_html', 'Python_Basic_Summary 복사본.pptx', 'Python_Basic_Summary.pptx', 'Python_Basic_v10_1911.pptx', 'README.md', 'sample_code', 'test.txt', 'unit08_package', 'unit09_tkinter_programming', '__pycache__', '~$Python_Basic_Summary 복사본.pptx', '데이터분석을위한파이썬_16h_v01_202202_커리큘럼.pdf', '데이터분석을위한파이썬_16h_v01_202202_커리큘럼.pptx']\n"
     ]
    }
   ],
   "source": [
    "shutil.copy(\"mymod.py\", \"mymod1.py\")\n",
    "print(  os.listdir()  )"
   ]
  },
  {
   "cell_type": "markdown",
   "metadata": {},
   "source": [
    "<h3 style='color:LightCoral'><a id='6'> 2-3 외부 모듈(라이브러리) - time </a></h3>  \n",
    "\n",
    "<a href='#99'> 목차로 </a>"
   ]
  },
  {
   "cell_type": "markdown",
   "metadata": {},
   "source": [
    "* 시간과 관련된 다양한 기능"
   ]
  },
  {
   "cell_type": "code",
   "execution_count": 35,
   "metadata": {
    "id": "U0fYDEr4JlJQ"
   },
   "outputs": [],
   "source": [
    "import time"
   ]
  },
  {
   "cell_type": "code",
   "execution_count": 36,
   "metadata": {
    "colab": {
     "base_uri": "https://localhost:8080/"
    },
    "id": "1NLYjuGIJbQr",
    "outputId": "5fb88ae1-8ee8-47c1-dd57-246e2bad61fa"
   },
   "outputs": [
    {
     "data": {
      "text/plain": [
       "1682522696.69535"
      ]
     },
     "execution_count": 36,
     "metadata": {},
     "output_type": "execute_result"
    }
   ],
   "source": [
    "# 현재 시간을 실수형태로 표현\n",
    "time.time()"
   ]
  },
  {
   "cell_type": "code",
   "execution_count": 37,
   "metadata": {
    "colab": {
     "base_uri": "https://localhost:8080/"
    },
    "id": "h52w21umJnB2",
    "outputId": "4b2ed2b6-d38c-4396-9929-4b04846a1d58"
   },
   "outputs": [
    {
     "data": {
      "text/plain": [
       "time.struct_time(tm_year=2023, tm_mon=4, tm_mday=27, tm_hour=0, tm_min=24, tm_sec=57, tm_wday=3, tm_yday=117, tm_isdst=0)"
      ]
     },
     "execution_count": 37,
     "metadata": {},
     "output_type": "execute_result"
    }
   ],
   "source": [
    "# 현재 시간을 실수형태로 표현된 것을 년월일시분초로 표현\n",
    "a = time.time()\n",
    "time.localtime(a)"
   ]
  },
  {
   "cell_type": "code",
   "execution_count": 38,
   "metadata": {
    "colab": {
     "base_uri": "https://localhost:8080/",
     "height": 35
    },
    "id": "JQa4itNiJuTu",
    "outputId": "a39f5c58-ca73-45b7-db1c-14dde1d47be5"
   },
   "outputs": [
    {
     "data": {
      "text/plain": [
       "'2023/04/27 00/24/57'"
      ]
     },
     "execution_count": 38,
     "metadata": {},
     "output_type": "execute_result"
    }
   ],
   "source": [
    "# 원하는 포맷으로 출력\n",
    "# 자세한 포맷은 링크 참조 : https://wikidocs.net/33\n",
    "loc_time = time.localtime(time.time())\n",
    "time.strftime(\"%Y/%m/%d %H/%M/%S\", loc_time)"
   ]
  },
  {
   "cell_type": "code",
   "execution_count": 39,
   "metadata": {
    "colab": {
     "base_uri": "https://localhost:8080/"
    },
    "id": "G0bYbLkkKZGf",
    "outputId": "b07a2550-58f0-4f33-fd40-850f48cb2da7"
   },
   "outputs": [
    {
     "name": "stdout",
     "output_type": "stream",
     "text": [
      "지금부터 5초\n",
      "5초후 출력\n"
     ]
    }
   ],
   "source": [
    "### 몇초동안 실행을 지연시킨다.\n",
    "import time\n",
    "\n",
    "print(\"지금부터 5초\")\n",
    "time.sleep(5)\n",
    "print(\"5초후 출력\")"
   ]
  },
  {
   "cell_type": "markdown",
   "metadata": {},
   "source": [
    "<h3 style='color:LightCoral'><a id='7'> 2-4 외부 모듈(라이브러리) - random </a></h3>  \n",
    "\n",
    "<a href='#99'> 목차로 </a>"
   ]
  },
  {
   "cell_type": "code",
   "execution_count": 40,
   "metadata": {
    "id": "jKAR3xKxK7JN"
   },
   "outputs": [],
   "source": [
    "import random"
   ]
  },
  {
   "cell_type": "code",
   "execution_count": 41,
   "metadata": {
    "colab": {
     "base_uri": "https://localhost:8080/"
    },
    "id": "rl8HqrT5K9-u",
    "outputId": "c0fed411-a7fd-4475-8aba-26212d18bec1"
   },
   "outputs": [
    {
     "data": {
      "text/plain": [
       "0.05634686622852414"
      ]
     },
     "execution_count": 41,
     "metadata": {},
     "output_type": "execute_result"
    }
   ],
   "source": [
    "# 0.0에서 1.0사이의 실수 중에서 난수값을 발생\n",
    "random.random()"
   ]
  },
  {
   "cell_type": "code",
   "execution_count": 42,
   "metadata": {
    "colab": {
     "base_uri": "https://localhost:8080/"
    },
    "id": "JtD-vrJiLDKH",
    "outputId": "4c420474-64ba-4fcc-b13e-491e7a74481b"
   },
   "outputs": [
    {
     "data": {
      "text/plain": [
       "2"
      ]
     },
     "execution_count": 42,
     "metadata": {},
     "output_type": "execute_result"
    }
   ],
   "source": [
    "# 1,10 사이의 정수 중에서 난수 발생\n",
    "random.randint(1,10)"
   ]
  },
  {
   "cell_type": "code",
   "execution_count": 43,
   "metadata": {
    "colab": {
     "base_uri": "https://localhost:8080/"
    },
    "id": "O0jarSjuLGmk",
    "outputId": "433823a5-54d3-48bb-876c-32e1daef9425"
   },
   "outputs": [
    {
     "data": {
      "text/plain": [
       "18"
      ]
     },
     "execution_count": 43,
     "metadata": {},
     "output_type": "execute_result"
    }
   ],
   "source": [
    "# 1,30 사이의 정수 중에서 난수 값 발생\n",
    "random.randint(1,30)"
   ]
  },
  {
   "cell_type": "code",
   "execution_count": 44,
   "metadata": {
    "colab": {
     "base_uri": "https://localhost:8080/"
    },
    "id": "0IT619MpLMZM",
    "outputId": "c80c3213-cf3e-4da5-fdb3-ea8c245a6293"
   },
   "outputs": [
    {
     "name": "stdout",
     "output_type": "stream",
     "text": [
      "가위\n"
     ]
    }
   ],
   "source": [
    "# 가위바위보 중에 하나 난수 발생\n",
    "a = ['가위', '바위', '보']\n",
    "\n",
    "num1 = random.randint(0,2)\n",
    "print(a[num1])"
   ]
  },
  {
   "cell_type": "markdown",
   "metadata": {
    "id": "hmLqAWurLbDb"
   },
   "source": [
    "### 응용 프로그램\n",
    " * 가위바위보 게임을 만들어보자."
   ]
  },
  {
   "cell_type": "code",
   "execution_count": 45,
   "metadata": {
    "colab": {
     "base_uri": "https://localhost:8080/"
    },
    "id": "AdDS4GO9LfgT",
    "outputId": "fc5f6ab4-d60c-44b0-8ba2-f440f227b626"
   },
   "outputs": [
    {
     "name": "stdout",
     "output_type": "stream",
     "text": [
      "가위(0)/바위(1)/보(2) 중의 하나를 선택해 주세요(0,1,2) : 1\n",
      "컴퓨터 :  바위\n",
      "선택 :  바위\n",
      "비겼습니다.\n"
     ]
    }
   ],
   "source": [
    "# 가위바위보 중에 하나 난수 발생\n",
    "a = ['가위', '바위', '보']\n",
    "\n",
    "me = int( input(\"가위(0)/바위(1)/보(2) 중의 하나를 선택해 주세요(0,1,2) : \"))\n",
    "\n",
    "num1 = random.randint(0,2)\n",
    "print(\"컴퓨터 : \" ,a[num1])\n",
    "print(\"선택 : \" ,a[me])\n",
    "\n",
    "if a[me]==a[num1]:\n",
    "  print(\"비겼습니다.\")\n",
    "elif (a[me]==\"가위\") and (a[num1]==\"바위\"):\n",
    "  print(\"졌어요.\")\n",
    "elif (a[me]==\"바위\") and (a[num1]==\"가위\"):\n",
    "  print(\"이겼어요\")\n",
    "else:\n",
    "  print(\"잘못된 값을 입력했어요.\")"
   ]
  },
  {
   "cell_type": "markdown",
   "metadata": {
    "id": "KR6Mm-k5MWpq"
   },
   "source": [
    "### 실습 \n",
    "  * 위의 가위바위보 프로그램은 일부만 동작하고 일부는 동작하지 않습니다. 보완해 주세요."
   ]
  }
 ],
 "metadata": {
  "colab": {
   "name": "04_python_start_ fnc_module.ipynb",
   "provenance": []
  },
  "kernelspec": {
   "display_name": "Python 3 (ipykernel)",
   "language": "python",
   "name": "python3"
  },
  "language_info": {
   "codemirror_mode": {
    "name": "ipython",
    "version": 3
   },
   "file_extension": ".py",
   "mimetype": "text/x-python",
   "name": "python",
   "nbconvert_exporter": "python",
   "pygments_lexer": "ipython3",
   "version": "3.9.13"
  }
 },
 "nbformat": 4,
 "nbformat_minor": 1
}
