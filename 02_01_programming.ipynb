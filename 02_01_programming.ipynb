{
 "cells": [
  {
   "cell_type": "markdown",
   "metadata": {},
   "source": [
    "### 파이썬 기본 실전 프로그래밍"
   ]
  },
  {
   "cell_type": "markdown",
   "metadata": {},
   "source": [
    "### 01 구구단 프로그램 만들기"
   ]
  },
  {
   "cell_type": "code",
   "execution_count": 1,
   "metadata": {},
   "outputs": [
    {
     "name": "stdout",
     "output_type": "stream",
     "text": [
      "1 x 1 = 1\n",
      "1 x 2 = 2\n",
      "1 x 3 = 3\n",
      "1 x 4 = 4\n",
      "1 x 5 = 5\n",
      "1 x 6 = 6\n",
      "1 x 7 = 7\n",
      "1 x 8 = 8\n",
      "1 x 9 = 9\n",
      "\n",
      "2 x 1 = 2\n",
      "2 x 2 = 4\n",
      "2 x 3 = 6\n",
      "2 x 4 = 8\n",
      "2 x 5 = 10\n",
      "2 x 6 = 12\n",
      "2 x 7 = 14\n",
      "2 x 8 = 16\n",
      "2 x 9 = 18\n",
      "\n",
      "3 x 1 = 3\n",
      "3 x 2 = 6\n",
      "3 x 3 = 9\n",
      "3 x 4 = 12\n",
      "3 x 5 = 15\n",
      "3 x 6 = 18\n",
      "3 x 7 = 21\n",
      "3 x 8 = 24\n",
      "3 x 9 = 27\n",
      "\n",
      "4 x 1 = 4\n",
      "4 x 2 = 8\n",
      "4 x 3 = 12\n",
      "4 x 4 = 16\n",
      "4 x 5 = 20\n",
      "4 x 6 = 24\n",
      "4 x 7 = 28\n",
      "4 x 8 = 32\n",
      "4 x 9 = 36\n",
      "\n",
      "5 x 1 = 5\n",
      "5 x 2 = 10\n",
      "5 x 3 = 15\n",
      "5 x 4 = 20\n",
      "5 x 5 = 25\n",
      "5 x 6 = 30\n",
      "5 x 7 = 35\n",
      "5 x 8 = 40\n",
      "5 x 9 = 45\n",
      "\n",
      "6 x 1 = 6\n",
      "6 x 2 = 12\n",
      "6 x 3 = 18\n",
      "6 x 4 = 24\n",
      "6 x 5 = 30\n",
      "6 x 6 = 36\n",
      "6 x 7 = 42\n",
      "6 x 8 = 48\n",
      "6 x 9 = 54\n",
      "\n",
      "7 x 1 = 7\n",
      "7 x 2 = 14\n",
      "7 x 3 = 21\n",
      "7 x 4 = 28\n",
      "7 x 5 = 35\n",
      "7 x 6 = 42\n",
      "7 x 7 = 49\n",
      "7 x 8 = 56\n",
      "7 x 9 = 63\n",
      "\n",
      "8 x 1 = 8\n",
      "8 x 2 = 16\n",
      "8 x 3 = 24\n",
      "8 x 4 = 32\n",
      "8 x 5 = 40\n",
      "8 x 6 = 48\n",
      "8 x 7 = 56\n",
      "8 x 8 = 64\n",
      "8 x 9 = 72\n",
      "\n",
      "9 x 1 = 9\n",
      "9 x 2 = 18\n",
      "9 x 3 = 27\n",
      "9 x 4 = 36\n",
      "9 x 5 = 45\n",
      "9 x 6 = 54\n",
      "9 x 7 = 63\n",
      "9 x 8 = 72\n",
      "9 x 9 = 81\n",
      "\n"
     ]
    }
   ],
   "source": [
    "for i in range(1, 10):\n",
    "    for j in range(1, 10):\n",
    "        print(\"{} x {} = {}\".format(i, j, i*j))\n",
    "    print()"
   ]
  },
  {
   "cell_type": "markdown",
   "metadata": {},
   "source": [
    "### 02. 게시물의 페이지 확인 계산 프로그램"
   ]
  },
  {
   "cell_type": "markdown",
   "metadata": {},
   "source": [
    "### 한 페이지에 표시할 수 있는 게시물을 입력했을 때, 게시물 페이지는 얼마인가?"
   ]
  },
  {
   "cell_type": "code",
   "execution_count": 3,
   "metadata": {},
   "outputs": [],
   "source": [
    "def NumPage(m, n):\n",
    "    return m // n+1"
   ]
  },
  {
   "cell_type": "code",
   "execution_count": 4,
   "metadata": {},
   "outputs": [
    {
     "name": "stdout",
     "output_type": "stream",
     "text": [
      "1 페이지에 표시됩니다.\n"
     ]
    }
   ],
   "source": [
    "contents = 5  # 현재 게시물 수\n",
    "one_page = 10 # 한 페이지 표시 가능 건수\n",
    "\n",
    "print( NumPage(contents, one_page), \"페이지에 표시됩니다.\")   # 5건, 표시할 건수 10"
   ]
  },
  {
   "cell_type": "code",
   "execution_count": 5,
   "metadata": {},
   "outputs": [
    {
     "name": "stdout",
     "output_type": "stream",
     "text": [
      "5 페이지에 표시됩니다.\n"
     ]
    }
   ],
   "source": [
    "contents = 45  # 현재 게시물 수\n",
    "one_page = 10  # 한 페이지 표시 가능 건수\n",
    "\n",
    "print( NumPage(contents, one_page), \"페이지에 표시됩니다.\")   # 5건, 표시할 건수 10"
   ]
  },
  {
   "cell_type": "markdown",
   "metadata": {},
   "source": [
    "### [실습] 추가 기능\n",
    " * m(건수), n(표시할 건수)를 입력받는다.\n",
    " * 페이지 수와 마지막 페이지에 표시될 건수를 확인하는 프로그램을 만들어보자."
   ]
  },
  {
   "cell_type": "code",
   "execution_count": 7,
   "metadata": {},
   "outputs": [],
   "source": [
    "def NumPage(m, n):\n",
    "    page = m // n+1\n",
    "    last_page_num = m % n\n",
    "    return page, last_page_num"
   ]
  },
  {
   "cell_type": "code",
   "execution_count": 8,
   "metadata": {},
   "outputs": [
    {
     "name": "stdout",
     "output_type": "stream",
     "text": [
      "총 게시물 수 : 85\n",
      "한 페이지 게시물 건수 :10\n",
      "게시물 전체 페이지 : 9, 마지막 페이지 게시물 건수 : 5\n"
     ]
    }
   ],
   "source": [
    "m1 = int(input(\"총 게시물 수 : \"))\n",
    "n1 = int(input(\"한 페이지 게시물 건수 : \"))\n",
    "\n",
    "page, last_num = NumPage(m1, n1)\n",
    "print()\n",
    "print(f\"게시물 전체 페이지 : {page} 마지막 페이지 게시물 건수 : {last_num}\" )"
   ]
  },
  {
   "cell_type": "markdown",
   "metadata": {},
   "source": [
    "### 03 하위 디렉터리 검색 후, 원하는 파일 형태만 출력\n",
    " * 내용 : 확장자가 html인 파일만 출력시켜보기"
   ]
  },
  {
   "cell_type": "markdown",
   "metadata": {},
   "source": [
    "* os.walk(대상경로) : 하위의 폴더들을 반복적으로 탐색\n",
    " * 인자로 전달된 경로에 대해 3개의 값의 tuple로 넘겨준다.\n",
    "   * path : dir과 files가 있는 경로\n",
    "   * dirs : path아래에 있는 폴더들\n",
    "   * files : root아래에 있는 파일들"
   ]
  },
  {
   "cell_type": "markdown",
   "metadata": {},
   "source": [
    "* os.path.splitext(filename) : 파일의 확장자를 알아보기\n",
    "  * 예제 결과 : ('D:\\Github\\CLASS_PYTHON_START01_python_start', '.html')\n",
    "  * 두번째 값이 파일의 확장자"
   ]
  },
  {
   "cell_type": "code",
   "execution_count": 18,
   "metadata": {},
   "outputs": [
    {
     "name": "stdout",
     "output_type": "stream",
     "text": [
      "D:\\Github\\CLASS_PYTHON_START01_01_python_start.html\n",
      "D:\\Github\\CLASS_PYTHON_START01_02_python_start_if_for_list.html\n",
      "D:\\Github\\CLASS_PYTHON_START01_03_python_start_file_220408.html\n",
      "D:\\Github\\CLASS_PYTHON_START01_04_python_start_classA.html\n",
      "D:\\Github\\CLASS_PYTHON_START01_04_python_start_classB_2204.html\n",
      "D:\\Github\\CLASS_PYTHON_START01_04_python_start_fnc_module_220412.html\n",
      "D:\\Github\\CLASS_PYTHON_START02_01_programming_2204.html\n",
      "D:\\Github\\CLASS_PYTHON_START03_01_Seaborn_Basic.html\n",
      "D:\\Github\\CLASS_PYTHON_START03_02_ml_start.html\n",
      "D:\\Github\\CLASS_PYTHON_START03_03_DB.html\n"
     ]
    }
   ],
   "source": [
    "import os \n",
    "\n",
    "# 확인하고자 하는 대상 폴더\n",
    "test_path = \"D:\\Github\\CLASS_PYTHON_START\"\n",
    "\n",
    "for (path, dir, files) in os.walk(test_path):\n",
    "    for filename in files:\n",
    "        ext = os.path.splitext(filename)[-1]  # 경로와 확장자로 구분\n",
    "        if ext=='.html':   # 확장자명\n",
    "            print(\"%s%s\" % (path, filename))"
   ]
  },
  {
   "cell_type": "markdown",
   "metadata": {},
   "source": [
    "### 04 정보의 암호화 하기 - 일반적 방법"
   ]
  },
  {
   "cell_type": "code",
   "execution_count": 19,
   "metadata": {},
   "outputs": [],
   "source": [
    "# 사전 확인\n",
    "# 문자열.isdigit() : 숫자인지 확인하는 함수\n",
    "# 리스트.append() : 숫자인지 확인하는 함수"
   ]
  },
  {
   "cell_type": "code",
   "execution_count": 20,
   "metadata": {},
   "outputs": [],
   "source": [
    "data = \"\"\"\n",
    "park,10234-1422351\n",
    "lim ,22342-1422251\n",
    "\"\"\""
   ]
  },
  {
   "cell_type": "code",
   "execution_count": 21,
   "metadata": {},
   "outputs": [
    {
     "name": "stdout",
     "output_type": "stream",
     "text": [
      "\n",
      "park 10234--*******\n",
      "lim  22342--*******\n",
      "\n"
     ]
    }
   ],
   "source": [
    "result = []\n",
    "for line in data.split(\"\\n\"):  # 한줄 단위로 구분\n",
    "    word_result = []\n",
    "    \n",
    "    one_line = line.split(\",\")  # 한줄 데이터를 공백으로 나누기\n",
    "\n",
    "    for word in one_line:\n",
    "        if len(word) == 13 and word[:5].isdigit() and word[6:].isdigit():\n",
    "            word = word[:6] + \"-\" + \"*******\"\n",
    "        word_result.append(word)\n",
    "    result.append(\" \".join(word_result))\n",
    "print(\"\\n\".join(result))"
   ]
  },
  {
   "cell_type": "markdown",
   "metadata": {},
   "source": [
    "### 04 정보의 암호화 하기 - 정규 표현식"
   ]
  },
  {
   "cell_type": "code",
   "execution_count": 12,
   "metadata": {},
   "outputs": [
    {
     "name": "stdout",
     "output_type": "stream",
     "text": [
      "\n",
      "park 80112-*******\n",
      "lim  81012-*******\n",
      "\n"
     ]
    }
   ],
   "source": [
    "import re \n",
    "\n",
    "data = \"\"\"\n",
    "park 80112-1422351\n",
    "lim  81012-1422251\n",
    "\"\"\"\n",
    "\n",
    "pat = re.compile(\"(\\d{5})[-]\\d{7}\")  # 숫자 5개, 숫자 7개\n",
    "print(pat.sub(\"\\g<1>-*******\", data))"
   ]
  },
  {
   "cell_type": "markdown",
   "metadata": {},
   "source": [
    "### 05 예외처리 exception 알아보기"
   ]
  },
  {
   "cell_type": "markdown",
   "metadata": {},
   "source": [
    "### 5-1 문자로 나눌 때, 이에 대한 에러 메시지 출력하기"
   ]
  },
  {
   "cell_type": "code",
   "execution_count": 13,
   "metadata": {},
   "outputs": [
    {
     "name": "stdout",
     "output_type": "stream",
     "text": [
      "모든 인자는 숫자여야 합니다.\n"
     ]
    }
   ],
   "source": [
    "def divide(a, b):\n",
    "    return a/b\n",
    "\n",
    "try:\n",
    "    c = divide(5, 'string')\n",
    "except ZeroDivisionError:\n",
    "    print(\"두번째 인자는 0이어서는 안됩니다.\")\n",
    "except TypeError:\n",
    "    print(\"모든 인자는 숫자여야 합니다.\")\n",
    "except:\n",
    "    print(\"무슨 에러?\")"
   ]
  },
  {
   "cell_type": "code",
   "execution_count": 14,
   "metadata": {},
   "outputs": [
    {
     "name": "stdout",
     "output_type": "stream",
     "text": [
      "모든 인자는 숫자여야 합니다.\n"
     ]
    }
   ],
   "source": [
    "def divide(a, b):\n",
    "    return a/b\n",
    "\n",
    "try:\n",
    "    c = divide(5, 'kkk')\n",
    "except ZeroDivisionError:\n",
    "    print(\"두번째 인자는 0이어서는 안됩니다.\")\n",
    "except TypeError:\n",
    "    print(\"모든 인자는 숫자여야 합니다.\")\n",
    "except Exception:\n",
    "    print(\"무슨 에러?\")"
   ]
  },
  {
   "cell_type": "markdown",
   "metadata": {},
   "source": [
    "* (실습해보기) 나누는 값을 0으로 할 때는 어떻게 되는가?"
   ]
  },
  {
   "cell_type": "markdown",
   "metadata": {},
   "source": [
    "### 5-2 예외처리 try, except, else, finally\n",
    "```\n",
    "try:\n",
    "    실행할 코드\n",
    "except:\n",
    "    예외가 발생했을 때 처리하는 코드\n",
    "else:\n",
    "    예외가 발생하지 않았을 때 실행할 코드\n",
    "finally:\n",
    "    예외 발생 여부와 상관없이 항상 실행할 코드\n",
    "```"
   ]
  },
  {
   "cell_type": "code",
   "execution_count": 15,
   "metadata": {},
   "outputs": [
    {
     "name": "stdout",
     "output_type": "stream",
     "text": [
      "예외 발생 없이 정상 실행\n",
      "모든 프로그램 정상 실행하였음\n"
     ]
    }
   ],
   "source": [
    "def divide(a, b):\n",
    "    return a/b\n",
    "\n",
    "try:\n",
    "    c = divide(5, 1)\n",
    "except ZeroDivisionError:\n",
    "    print(\"두번째 인자는 0이어서는 안됩니다.\")\n",
    "except TypeError:\n",
    "    print(\"모든 인자는 숫자여야 합니다.\")\n",
    "else:\n",
    "    print(\"예외 발생 없이 정상 실행\")\n",
    "finally:\n",
    "    print(\"모든 프로그램 정상 실행하였음\")"
   ]
  },
  {
   "cell_type": "markdown",
   "metadata": {},
   "source": [
    "### 5-3 예외 발생시키기\n"
   ]
  },
  {
   "cell_type": "markdown",
   "metadata": {},
   "source": [
    "### 기본 구조\n",
    "```\n",
    "try:\n",
    "    ...\n",
    "except [발생 오류[as 오류 메시지 변수]]:\n",
    "    ...\n",
    "```\n",
    "\n",
    "try 블록 수행 중 오류가 발생하면 except 블록이 수행됩니다.\n",
    "다만, try 블록에서 오류가 발생하지 않는다면 except 블록은 수행되지 않습니다."
   ]
  },
  {
   "cell_type": "markdown",
   "metadata": {},
   "source": [
    "### 기본 구조\n",
    "\n",
    "```\n",
    "try:\n",
    "    # 실행문\n",
    "except:\n",
    "    # 오류 밣생시 실행\n",
    "\n",
    "\n",
    "try:\n",
    "    # 실행문\n",
    "except 발생 오류:\n",
    "    # 오류 밣생시 실행\n",
    "    \n",
    "try:\n",
    "    # 실행문\n",
    "except 발생 오류 as 오류 메시지 변수:\n",
    "    # 오류 밣생시 실행\n",
    "```"
   ]
  },
  {
   "cell_type": "markdown",
   "metadata": {},
   "source": [
    "### raise 는 강제로 에러를 발생시킬 때 사용한다.\n",
    "  * raise [에러이름]\n",
    "     * raise문에 의해 [에러] Error가 발생\n",
    "  * raise Exception\n",
    "     * raise문에 의해 Exception Error가 발생"
   ]
  },
  {
   "cell_type": "code",
   "execution_count": 35,
   "metadata": {},
   "outputs": [
    {
     "name": "stdout",
     "output_type": "stream",
     "text": [
      "5의 배수를 입력하세요: 33\n",
      "예외가 발생했습니다. 5의 배수가 아닙니다.\n"
     ]
    }
   ],
   "source": [
    "try:\n",
    "    x = int(input('5의 배수를 입력하세요: '))\n",
    "    if x % 5 != 0:                                 # x가 3의 배수가 아니면\n",
    "        raise Exception('5의 배수가 아닙니다.')    # 예외를 발생시킴\n",
    "    print(x)\n",
    "except Exception as e:                             # 예외가 발생했을 때 실행됨\n",
    "    print('예외가 발생했습니다.', e)"
   ]
  },
  {
   "cell_type": "markdown",
   "metadata": {},
   "source": [
    "### 특정 오류 회피시에"
   ]
  },
  {
   "cell_type": "code",
   "execution_count": 38,
   "metadata": {},
   "outputs": [
    {
     "name": "stdout",
     "output_type": "stream",
     "text": [
      "5의 배수를 입력하세요: aaaa\n"
     ]
    },
    {
     "ename": "ValueError",
     "evalue": "invalid literal for int() with base 10: 'aaaa'",
     "output_type": "error",
     "traceback": [
      "\u001b[1;31m---------------------------------------------------------------------------\u001b[0m",
      "\u001b[1;31mValueError\u001b[0m                                Traceback (most recent call last)",
      "\u001b[1;32m<ipython-input-38-3fd676ef797d>\u001b[0m in \u001b[0;36m<module>\u001b[1;34m\u001b[0m\n\u001b[0;32m      1\u001b[0m \u001b[1;31m# 입력시에 문자열을 입력\u001b[0m\u001b[1;33m\u001b[0m\u001b[1;33m\u001b[0m\u001b[1;33m\u001b[0m\u001b[0m\n\u001b[1;32m----> 2\u001b[1;33m \u001b[0mx\u001b[0m \u001b[1;33m=\u001b[0m \u001b[0mint\u001b[0m\u001b[1;33m(\u001b[0m\u001b[0minput\u001b[0m\u001b[1;33m(\u001b[0m\u001b[1;34m'5의 배수를 입력하세요: '\u001b[0m\u001b[1;33m)\u001b[0m\u001b[1;33m)\u001b[0m\u001b[1;33m\u001b[0m\u001b[1;33m\u001b[0m\u001b[0m\n\u001b[0m\u001b[0;32m      3\u001b[0m \u001b[0mprint\u001b[0m\u001b[1;33m(\u001b[0m\u001b[0mx\u001b[0m\u001b[1;33m)\u001b[0m\u001b[1;33m\u001b[0m\u001b[1;33m\u001b[0m\u001b[0m\n",
      "\u001b[1;31mValueError\u001b[0m: invalid literal for int() with base 10: 'aaaa'"
     ]
    }
   ],
   "source": [
    "# 입력시에 문자열을 입력\n",
    "x = int(input('5의 배수를 입력하세요: '))\n",
    "print(x)"
   ]
  },
  {
   "cell_type": "code",
   "execution_count": 39,
   "metadata": {},
   "outputs": [
    {
     "name": "stdout",
     "output_type": "stream",
     "text": [
      "5의 배수를 입력하세요: aaa\n"
     ]
    }
   ],
   "source": [
    "try:\n",
    "    x = int(input('5의 배수를 입력하세요: '))\n",
    "    print(x)\n",
    "except ValueError:            # 특정 오류 회피할때\n",
    "    pass"
   ]
  },
  {
   "cell_type": "markdown",
   "metadata": {},
   "source": [
    "### 어떤 에러 메시지인지 알 수 있을까?\n",
    " * Exception : 예외 발생 해당되는 에러가 없을 때 실행된다.\n",
    " * Exception as e : 이 구문을 통해 에러 내용을 e를 통해 출력 가능"
   ]
  },
  {
   "cell_type": "code",
   "execution_count": 40,
   "metadata": {},
   "outputs": [
    {
     "name": "stdout",
     "output_type": "stream",
     "text": [
      "5의 배수를 입력하세요: aaab\n",
      "예외가 발생했습니다. \n",
      "[에러내용] invalid literal for int() with base 10: 'aaab'\n"
     ]
    }
   ],
   "source": [
    "try:\n",
    "    x = int(input('5의 배수를 입력하세요: '))\n",
    "    print(\"내가 입력한 값 : \", x)\n",
    "except Exception as e:                             # 예외가 발생했을 때 실행됨\n",
    "    print('예외가 발생했습니다. \\n[에러내용]', e)"
   ]
  },
  {
   "cell_type": "markdown",
   "metadata": {},
   "source": [
    "### 다중 except"
   ]
  },
  {
   "cell_type": "code",
   "execution_count": 2,
   "metadata": {},
   "outputs": [
    {
     "name": "stdout",
     "output_type": "stream",
     "text": [
      "0으로 나누면 안됩니다. division by zero\n",
      "프로그램의 정상 종료!\n"
     ]
    }
   ],
   "source": [
    "try:\n",
    "    3 / 0\n",
    "except IndexError as e:\n",
    "    print(\"인덱스가 안 맞습니다.\", e)\n",
    "except ZeroDivisionError as e:\n",
    "    print(\"0으로 나누면 안됩니다.\", e)  \n",
    "\n",
    "print(\"프로그램의 정상 종료!\")"
   ]
  },
  {
   "cell_type": "markdown",
   "metadata": {},
   "source": [
    "### else절\n",
    " * 예외가 발생하지 않았을 때, 실행되는 부분"
   ]
  },
  {
   "cell_type": "code",
   "execution_count": 4,
   "metadata": {},
   "outputs": [
    {
     "name": "stdout",
     "output_type": "stream",
     "text": [
      "예외가 발생 안됨!\n",
      "프로그램이 정상적으로 종료됩니다!\n"
     ]
    }
   ],
   "source": [
    "try:\n",
    "    age=int(input('나이를 입력하세요: '))\n",
    "except:\n",
    "    print('입력이 정확하지 않습니다.')\n",
    "else:\n",
    "    if age <= 18:\n",
    "        print('미성년자는 출입금지입니다.')\n",
    "    else:\n",
    "        print('입장 가능합니다.') "
   ]
  },
  {
   "cell_type": "markdown",
   "metadata": {},
   "source": [
    "### finally 절은 예외와 상관없이 언제나 실행\n",
    "```\n",
    "try:\n",
    "   실행문1\n",
    "except 발생 오류1:\n",
    "   실행문2\n",
    "except 발생 오류2:\n",
    "   실행문3\n",
    "finally:\n",
    "   실행문\n",
    "```"
   ]
  },
  {
   "cell_type": "code",
   "execution_count": 28,
   "metadata": {},
   "outputs": [
    {
     "name": "stdout",
     "output_type": "stream",
     "text": [
      "0으로 나누면 안됩니다. division by zero\n",
      "예외에 상관없이 언제나 실행!\n",
      "프로그램이 정상적으로 종료됩니다!\n"
     ]
    }
   ],
   "source": [
    "try:\n",
    "    3 / 0\n",
    "except IndexError as e:\n",
    "    print(\"인덱스가 안 맞습니다.\", e)\n",
    "except ZeroDivisionError as e:\n",
    "    print(\"0으로 나누면 안됩니다.\", e) \n",
    "finally:\n",
    "    print(\"예외에 상관없이 언제나 실행!\")  \n",
    "\n",
    "print(\"프로그램이 정상적으로 종료됩니다!\")"
   ]
  },
  {
   "cell_type": "markdown",
   "metadata": {},
   "source": [
    "### 보통 finally절은 사용한 리소스를 close해야 할 때에 많이 사용"
   ]
  },
  {
   "cell_type": "code",
   "execution_count": 29,
   "metadata": {},
   "outputs": [],
   "source": [
    "f = open('test.txt', 'w')\n",
    "try:\n",
    "    f.write(\"ttt\")\n",
    "finally:\n",
    "    f.close()"
   ]
  }
 ],
 "metadata": {
  "kernelspec": {
   "display_name": "Python 3",
   "language": "python",
   "name": "python3"
  },
  "language_info": {
   "codemirror_mode": {
    "name": "ipython",
    "version": 3
   },
   "file_extension": ".py",
   "mimetype": "text/x-python",
   "name": "python",
   "nbconvert_exporter": "python",
   "pygments_lexer": "ipython3",
   "version": "3.8.5"
  }
 },
 "nbformat": 4,
 "nbformat_minor": 5
}
