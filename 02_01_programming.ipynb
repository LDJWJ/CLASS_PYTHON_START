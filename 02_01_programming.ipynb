{
 "cells": [
  {
   "cell_type": "markdown",
   "id": "3f7c0734",
   "metadata": {},
   "source": [
    "### 실전 프로그래밍"
   ]
  },
  {
   "cell_type": "markdown",
   "id": "5a710603",
   "metadata": {},
   "source": [
    "### 01 구구단 프로그램 만들기"
   ]
  },
  {
   "cell_type": "code",
   "execution_count": 1,
   "id": "ed03804b",
   "metadata": {},
   "outputs": [
    {
     "name": "stdout",
     "output_type": "stream",
     "text": [
      "1 x 1 = 1\n",
      "1 x 2 = 2\n",
      "1 x 3 = 3\n",
      "1 x 4 = 4\n",
      "1 x 5 = 5\n",
      "1 x 6 = 6\n",
      "1 x 7 = 7\n",
      "1 x 8 = 8\n",
      "1 x 9 = 9\n",
      "\n",
      "2 x 1 = 2\n",
      "2 x 2 = 4\n",
      "2 x 3 = 6\n",
      "2 x 4 = 8\n",
      "2 x 5 = 10\n",
      "2 x 6 = 12\n",
      "2 x 7 = 14\n",
      "2 x 8 = 16\n",
      "2 x 9 = 18\n",
      "\n",
      "3 x 1 = 3\n",
      "3 x 2 = 6\n",
      "3 x 3 = 9\n",
      "3 x 4 = 12\n",
      "3 x 5 = 15\n",
      "3 x 6 = 18\n",
      "3 x 7 = 21\n",
      "3 x 8 = 24\n",
      "3 x 9 = 27\n",
      "\n",
      "4 x 1 = 4\n",
      "4 x 2 = 8\n",
      "4 x 3 = 12\n",
      "4 x 4 = 16\n",
      "4 x 5 = 20\n",
      "4 x 6 = 24\n",
      "4 x 7 = 28\n",
      "4 x 8 = 32\n",
      "4 x 9 = 36\n",
      "\n",
      "5 x 1 = 5\n",
      "5 x 2 = 10\n",
      "5 x 3 = 15\n",
      "5 x 4 = 20\n",
      "5 x 5 = 25\n",
      "5 x 6 = 30\n",
      "5 x 7 = 35\n",
      "5 x 8 = 40\n",
      "5 x 9 = 45\n",
      "\n",
      "6 x 1 = 6\n",
      "6 x 2 = 12\n",
      "6 x 3 = 18\n",
      "6 x 4 = 24\n",
      "6 x 5 = 30\n",
      "6 x 6 = 36\n",
      "6 x 7 = 42\n",
      "6 x 8 = 48\n",
      "6 x 9 = 54\n",
      "\n",
      "7 x 1 = 7\n",
      "7 x 2 = 14\n",
      "7 x 3 = 21\n",
      "7 x 4 = 28\n",
      "7 x 5 = 35\n",
      "7 x 6 = 42\n",
      "7 x 7 = 49\n",
      "7 x 8 = 56\n",
      "7 x 9 = 63\n",
      "\n",
      "8 x 1 = 8\n",
      "8 x 2 = 16\n",
      "8 x 3 = 24\n",
      "8 x 4 = 32\n",
      "8 x 5 = 40\n",
      "8 x 6 = 48\n",
      "8 x 7 = 56\n",
      "8 x 8 = 64\n",
      "8 x 9 = 72\n",
      "\n",
      "9 x 1 = 9\n",
      "9 x 2 = 18\n",
      "9 x 3 = 27\n",
      "9 x 4 = 36\n",
      "9 x 5 = 45\n",
      "9 x 6 = 54\n",
      "9 x 7 = 63\n",
      "9 x 8 = 72\n",
      "9 x 9 = 81\n",
      "\n"
     ]
    }
   ],
   "source": [
    "for i in range(1, 10):\n",
    "    for j in range(1, 10):\n",
    "        print(\"{} x {} = {}\".format(i, j, i*j))\n",
    "    print()"
   ]
  },
  {
   "cell_type": "markdown",
   "id": "c0cf42f4",
   "metadata": {},
   "source": [
    "### 02. 게시물의 페이지 확인 계산 프로그램"
   ]
  },
  {
   "cell_type": "markdown",
   "id": "161b4cd2",
   "metadata": {},
   "source": [
    "```\n",
    "게시물(m)건과 1페이지의 표시할 게시물 수(n)을 입력했을 때,\n",
    "총 몇페이지가 될까? 계산하는 프로그램을 작성해보자.\n",
    "```"
   ]
  },
  {
   "cell_type": "code",
   "execution_count": 2,
   "id": "c5a67c7c",
   "metadata": {},
   "outputs": [],
   "source": [
    "def NumPage(m, n):\n",
    "    return m // n+1"
   ]
  },
  {
   "cell_type": "code",
   "execution_count": 3,
   "id": "7903242e",
   "metadata": {},
   "outputs": [
    {
     "name": "stdout",
     "output_type": "stream",
     "text": [
      "1 페이지\n"
     ]
    }
   ],
   "source": [
    "print(NumPage(5, 10), \"페이지\")   # 5건, 표시할 건수 10"
   ]
  },
  {
   "cell_type": "code",
   "execution_count": 4,
   "id": "079c81d2",
   "metadata": {},
   "outputs": [
    {
     "name": "stdout",
     "output_type": "stream",
     "text": [
      "2 페이지\n",
      "2 페이지\n"
     ]
    }
   ],
   "source": [
    "print(NumPage(15, 10), \"페이지\")  # 15건, 표시할 건수 10\n",
    "print(NumPage(30, 20), \"페이지\")  # 30건, 표시할 건수 20"
   ]
  },
  {
   "cell_type": "markdown",
   "id": "6ad5b92d",
   "metadata": {},
   "source": [
    "### [실습] 추가 기능\n",
    " * m(건수), n(표시할 건수)를 입력받는다.\n",
    " * 페이지 수와 마지막 페이지에 표시될 건수를 확인하는 프로그램을 만들어보자."
   ]
  },
  {
   "cell_type": "code",
   "execution_count": 5,
   "id": "c90ef500",
   "metadata": {},
   "outputs": [],
   "source": [
    "def NumPage(m, n):\n",
    "    page = m // n+1\n",
    "    div_sp = m % n\n",
    "    return page, div_sp"
   ]
  },
  {
   "cell_type": "code",
   "execution_count": 6,
   "id": "1dd37a3c",
   "metadata": {},
   "outputs": [
    {
     "name": "stdout",
     "output_type": "stream",
     "text": [
      "총 게시물 수 : 100\n",
      "한 페이지 표시 건수 :7\n",
      "총 페이지 : 15, 마지막 페이지 게시물 건수 : 2\n"
     ]
    }
   ],
   "source": [
    "m1 = int(input(\"총 게시물 수 : \"))\n",
    "n1 = int(input(\"한 페이지 표시 건수 :\"))\n",
    "\n",
    "page, div_sp = NumPage(m1, n1)\n",
    "print(\"총 페이지 : {}, 마지막 페이지 게시물 건수 : {}\".format(page, div_sp) )"
   ]
  },
  {
   "cell_type": "markdown",
   "id": "8e0e9745",
   "metadata": {},
   "source": [
    "### 03 하위 디렉터리 검색 후, 원하는 파일 형태만 출력\n",
    " * html 파일만 출력"
   ]
  },
  {
   "cell_type": "code",
   "execution_count": 12,
   "id": "eec7e752",
   "metadata": {},
   "outputs": [
    {
     "name": "stdout",
     "output_type": "stream",
     "text": [
      "D:\\Github\\CLASS_PYTHON_START01_python_start.html\n",
      "D:\\Github\\CLASS_PYTHON_START02_python_start_if_for_list.html\n",
      "D:\\Github\\CLASS_PYTHON_START03_python_start_file.html\n",
      "D:\\Github\\CLASS_PYTHON_START04_python_start__fnc_module.html\n",
      "D:\\Github\\CLASS_PYTHON_START05_Seaborn_Basic.html\n",
      "D:\\Github\\CLASS_PYTHON_START06_ml_start.html\n"
     ]
    }
   ],
   "source": [
    "import os \n",
    "\n",
    "for (path, dir, files) in os.walk(\"D:\\Github\\CLASS_PYTHON_START\"):\n",
    "    for filename in files:\n",
    "        ext = os.path.splitext(filename)[-1]\n",
    "        if ext=='.html':\n",
    "            print(\"%s%s\" % (path, filename))"
   ]
  },
  {
   "cell_type": "markdown",
   "id": "f379a167",
   "metadata": {},
   "source": [
    "### 04 정보의 암호화 하기 - 일반적 방법"
   ]
  },
  {
   "cell_type": "code",
   "execution_count": 13,
   "id": "b27db942",
   "metadata": {},
   "outputs": [],
   "source": [
    "data = \"\"\"\n",
    "park,10234-1422351\n",
    "lim ,22342-1422251\n",
    "\"\"\""
   ]
  },
  {
   "cell_type": "code",
   "execution_count": 14,
   "id": "06febbf8",
   "metadata": {},
   "outputs": [
    {
     "name": "stdout",
     "output_type": "stream",
     "text": [
      "\n",
      "park 10234--*******\n",
      "lim  22342--*******\n",
      "\n"
     ]
    }
   ],
   "source": [
    "result = []\n",
    "for line in data.split(\"\\n\"):  # 한줄 단위로 구분\n",
    "    word_result = []\n",
    "    \n",
    "    one_line = line.split(\",\")  # 한줄 데이터를 공백으로 나누기\n",
    "\n",
    "    for word in one_line:\n",
    "        if len(word) == 13 and word[:5].isdigit() and word[6:].isdigit():\n",
    "            word = word[:6] + \"-\" + \"*******\"\n",
    "        word_result.append(word)\n",
    "    result.append(\" \".join(word_result))\n",
    "print(\"\\n\".join(result))"
   ]
  },
  {
   "cell_type": "markdown",
   "id": "d583efeb",
   "metadata": {},
   "source": [
    "### 04 정보의 암호화 하기 - 정규 표현식"
   ]
  },
  {
   "cell_type": "code",
   "execution_count": 15,
   "id": "43fa073b",
   "metadata": {},
   "outputs": [
    {
     "name": "stdout",
     "output_type": "stream",
     "text": [
      "\n",
      "park 80112-*******\n",
      "lim  81012-*******\n",
      "\n"
     ]
    }
   ],
   "source": [
    "import re \n",
    "\n",
    "data = \"\"\"\n",
    "park 80112-1422351\n",
    "lim  81012-1422251\n",
    "\"\"\"\n",
    "\n",
    "pat = re.compile(\"(\\d{5})[-]\\d{7}\")  # 숫자 5개, 숫자 7개\n",
    "print(pat.sub(\"\\g<1>-*******\", data))"
   ]
  }
 ],
 "metadata": {
  "kernelspec": {
   "display_name": "Python 3 (ipykernel)",
   "language": "python",
   "name": "python3"
  },
  "language_info": {
   "codemirror_mode": {
    "name": "ipython",
    "version": 3
   },
   "file_extension": ".py",
   "mimetype": "text/x-python",
   "name": "python",
   "nbconvert_exporter": "python",
   "pygments_lexer": "ipython3",
   "version": "3.9.7"
  }
 },
 "nbformat": 4,
 "nbformat_minor": 5
}
