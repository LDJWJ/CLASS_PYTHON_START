{
 "cells": [
  {
   "cell_type": "markdown",
   "metadata": {
    "id": "zF8HK881txab"
   },
   "source": [
    "### 학습 내용 및 목표\n",
    " * if문에 대해 대해 알아보고 실습해 본다.\n",
    " * for문에 대해 대해 알아보고 실습해 본다.\n",
    " * 파이썬의 자료형에 대해 알아보고 실습해 본다."
   ]
  },
  {
   "cell_type": "markdown",
   "metadata": {
    "id": "clFInufnSdzy"
   },
   "source": [
    "### 1-1 if"
   ]
  },
  {
   "cell_type": "markdown",
   "metadata": {
    "id": "cdoJAjB3SxXV"
   },
   "source": [
    " * 기본 구조1\n",
    "\n",
    "```\n",
    "if (조건식):\n",
    "  실행문1\n",
    "\n",
    "\n",
    "```"
   ]
  },
  {
   "cell_type": "markdown",
   "metadata": {
    "id": "8o6cQjuLS3uf"
   },
   "source": [
    " * 기본 구조2\n",
    "\n",
    "```\n",
    "if (조건식):\n",
    "  실행문1\n",
    "else:\n",
    "  실행문2\n",
    "```"
   ]
  },
  {
   "cell_type": "markdown",
   "metadata": {
    "id": "xf0yD1RvS6l9"
   },
   "source": [
    " * 기본 구조3\n",
    "\n",
    "```\n",
    "if (조건식) & (조건식):\n",
    "  실행문1\n",
    "  실행문2\n",
    "else:\n",
    "  실행문3\n",
    "  실행문4\n",
    "```"
   ]
  },
  {
   "cell_type": "markdown",
   "metadata": {
    "id": "NXVENsdIVFZA"
   },
   "source": [
    " * 기본 구조4\n",
    "\n",
    "```\n",
    "if (조건식) & (조건식):\n",
    "  실행문1\n",
    "  실행문2\n",
    "elif (조건식):\n",
    "  실행문3\n",
    "elif (조건식):\n",
    "  실행문4\n",
    "else:\n",
    "  실행문3\n",
    "  실행문4\n",
    "```"
   ]
  },
  {
   "cell_type": "code",
   "execution_count": 3,
   "metadata": {
    "colab": {
     "base_uri": "https://localhost:8080/",
     "height": 136
    },
    "id": "7lbNaWljVMbz",
    "outputId": "22bf5c25-46d1-4e37-abcb-7bba08c5d318"
   },
   "outputs": [
    {
     "ename": "IndentationError",
     "evalue": "ignored",
     "output_type": "error",
     "traceback": [
      "\u001b[0;36m  File \u001b[0;32m\"<ipython-input-3-a5b51e4e91fc>\"\u001b[0;36m, line \u001b[0;32m5\u001b[0m\n\u001b[0;31m    print(\"사람이 10명이상입니다.\") # 이 줄은 인덴트(들여쓰기) 공간이 다르다. 에러 발생.\u001b[0m\n\u001b[0m    ^\u001b[0m\n\u001b[0;31mIndentationError\u001b[0m\u001b[0;31m:\u001b[0m unexpected indent\n"
     ]
    }
   ],
   "source": [
    "people = 10\n",
    "\n",
    "# 인덴트가 다를 경우, 에러가 발생.\n",
    "if people >= 10:\n",
    "  print(\"사람이 10명이상입니다.\") # indent라고 한다. 동일하게 해 준다. \n",
    "   print(\"사람이 10명이상입니다.\") # 이 줄은 인덴트(들여쓰기) 공간이 다르다. 에러 발생.\n",
    "  print(\"사람이 10명이상입니다.\") "
   ]
  },
  {
   "cell_type": "code",
   "execution_count": 4,
   "metadata": {
    "colab": {
     "base_uri": "https://localhost:8080/"
    },
    "id": "3wmz2oE1VShe",
    "outputId": "84336516-f345-4523-92de-f75647051ff4"
   },
   "outputs": [
    {
     "name": "stdout",
     "output_type": "stream",
     "text": [
      "사람이 10명이상입니다.\n",
      "사람이 10명이상입니다.\n",
      "사람이 10명이상입니다.\n"
     ]
    }
   ],
   "source": [
    "people = 10\n",
    "\n",
    "# 인덴트가 다를 경우, 에러가 발생.\n",
    "if people >= 10:\n",
    "  print(\"사람이 10명이상입니다.\") # indent라고 한다. 동일하게 해 준다. \n",
    "  print(\"사람이 10명이상입니다.\") # 이 줄은 인덴트(들여쓰기) 공간이 다르다. 에러 발생.\n",
    "  print(\"사람이 10명이상입니다.\") "
   ]
  },
  {
   "cell_type": "markdown",
   "metadata": {
    "id": "SwV3o6gdVUbY"
   },
   "source": [
    "* (생각해 보기) 사람의 수를 입력받아, \n",
    " * 10명 이상이면, 10명 이상입니다. 출력\n",
    " * 10명 미만이면, 10명 미만입니다. 출력"
   ]
  },
  {
   "cell_type": "code",
   "execution_count": 5,
   "metadata": {
    "colab": {
     "base_uri": "https://localhost:8080/"
    },
    "id": "XNR3nnPUVlYG",
    "outputId": "f7a275ac-bc81-46f0-ddf6-a7babb195e7f"
   },
   "outputs": [
    {
     "name": "stdout",
     "output_type": "stream",
     "text": [
      "사람의 수는 :9\n",
      "사람이 10명 미만입니다\n"
     ]
    }
   ],
   "source": [
    "num = int( input(\"사람의 수는 :\") )\n",
    "if num >= 10:\n",
    " print(\"사람이 10명이상입니다.\") # indent라고 한다. 동일하게 해 준다. \n",
    " print(\"사람이 10명이상입니다.\")\n",
    "else:\n",
    " print(\"사람이 10명 미만입니다\")\n"
   ]
  },
  {
   "cell_type": "markdown",
   "metadata": {
    "id": "nntBOYv8Vp8b"
   },
   "source": [
    "* 영화관 입장 판정 프로그램 작성\n",
    " * 입구의 안내원 또는 티켓 판매 기계가 물어봅니다. \n",
    "  * '나이가 어떻게 되나요?' 질문\n",
    "   * 15세 이하는 영화관 입장 불가\n",
    "   * 15세 이상은 다음 단계 진행"
   ]
  },
  {
   "cell_type": "code",
   "execution_count": 6,
   "metadata": {
    "colab": {
     "base_uri": "https://localhost:8080/"
    },
    "id": "w12Q6585X8vW",
    "outputId": "4d79123d-91bc-4a24-d507-9ce81a4e2008"
   },
   "outputs": [
    {
     "name": "stdout",
     "output_type": "stream",
     "text": [
      "나이가 어떻게 되나요?17\n",
      "입장 가능합니다. 어떤 영화 티켓을 구매하시겠어요?\n"
     ]
    }
   ],
   "source": [
    "age = int(input(\"나이가 어떻게 되나요?\"))\n",
    "\n",
    "if (age>=15):\n",
    " print(\"입장 가능합니다. 어떤 영화 티켓을 구매하시겠어요?\")\n",
    "else:\n",
    " print(\"입장이 불가합니다. 15세이상만 입장이 가능합니다.\")\n"
   ]
  },
  {
   "cell_type": "markdown",
   "metadata": {
    "id": "xbQtR8jAYOwT"
   },
   "source": [
    "* 학점 판정 프로그램 만들어보기\n",
    " * 4.5 이면 A+\n",
    " * 4.0 이상이면 A\n",
    " * 3.5 이상이면 B+\n",
    " * 3.0 이상이면 B\n",
    " * 2.5 이상이면 C+\n",
    " * 나머지 F"
   ]
  },
  {
   "cell_type": "code",
   "execution_count": 9,
   "metadata": {
    "colab": {
     "base_uri": "https://localhost:8080/"
    },
    "id": "Q5NzMTcSYqgn",
    "outputId": "d37d47d6-1952-4f47-cb63-ecc6d767250b"
   },
   "outputs": [
    {
     "name": "stdout",
     "output_type": "stream",
     "text": [
      "학점입력해 주세요 : 4.\n",
      "당신의 학점은  A 입니다.\n"
     ]
    }
   ],
   "source": [
    "score = float( input(\"학점입력해 주세요 : \") )\n",
    "\n",
    "if score==4.5:\n",
    " grade = 'A+'\n",
    "elif score>=4.0:\n",
    " grade = 'A'\n",
    "elif score>=3.5:\n",
    " grade = 'B+'\n",
    "else:\n",
    " grade = 'F'\n",
    "\n",
    "print(\"당신의 학점은 \", grade , \"입니다.\")"
   ]
  },
  {
   "cell_type": "markdown",
   "metadata": {
    "id": "3qfKhxJrZBwm"
   },
   "source": [
    "* 실습 - 아래와 같이 판정하는 프로그램을 작성해 보자. \n",
    "  * 점수가 90점 이상이면 A\n",
    "  * 점수가 80점 이상이면 B\n",
    "  * 점수가 70점 이상이면 C\n",
    "  * 나머지 점수는 F\n"
   ]
  },
  {
   "cell_type": "markdown",
   "metadata": {
    "id": "Abe71V7dZd92"
   },
   "source": [
    "### 1-2 for"
   ]
  },
  {
   "cell_type": "markdown",
   "metadata": {
    "id": "l3IhpG0DZpuv"
   },
   "source": [
    " * 기본 구조1\n",
    "\n",
    "```\n",
    "for 변수 in range(시작값, 끝값, 증감값):\n",
    "  실행문1\n",
    "\n",
    "\n",
    "```"
   ]
  },
  {
   "cell_type": "markdown",
   "metadata": {
    "id": "wXCmfzsAelj4"
   },
   "source": [
    "* 1-10까치 출력하는 프로그램 만들기"
   ]
  },
  {
   "cell_type": "code",
   "execution_count": 10,
   "metadata": {
    "colab": {
     "base_uri": "https://localhost:8080/"
    },
    "id": "2L7Dn6kPZzWM",
    "outputId": "9bbba7d7-8a9b-4f43-d869-d5f0c1947ebd"
   },
   "outputs": [
    {
     "name": "stdout",
     "output_type": "stream",
     "text": [
      "1\n",
      "2\n",
      "3\n",
      "4\n",
      "5\n",
      "6\n",
      "7\n",
      "8\n",
      "9\n",
      "10\n"
     ]
    }
   ],
   "source": [
    "for num in range(1,11,1):\n",
    "  print(num)"
   ]
  },
  {
   "cell_type": "code",
   "execution_count": 11,
   "metadata": {
    "colab": {
     "base_uri": "https://localhost:8080/"
    },
    "id": "JYc-0j4Ieq8N",
    "outputId": "b0ea050e-5a7f-4195-cd60-9213541f74ec"
   },
   "outputs": [
    {
     "name": "stdout",
     "output_type": "stream",
     "text": [
      "1\n",
      "2\n",
      "3\n",
      "4\n",
      "5\n",
      "6\n",
      "7\n",
      "8\n",
      "9\n",
      "10\n"
     ]
    }
   ],
   "source": [
    "for num in range(1,11):  # 마지막 증감값 1은 기본값으로 생략되면 1씩 증가\n",
    "  print(num)"
   ]
  },
  {
   "cell_type": "markdown",
   "metadata": {
    "id": "wh4ya2scewge"
   },
   "source": [
    " * 기본 구조2\n",
    "  * 변수의 값은 for문 루프안에서 사용이 가능.\n",
    "  * range 부분에 자료형(리스트, 딕셔너리)이 들어가는 것이 가능.\n",
    "\n",
    "```\n",
    "for 변수 in ['하나', '둘', '셋', '넷', '다섯']:\n",
    "  실행문1\n",
    "  실행문2\n",
    "```"
   ]
  },
  {
   "cell_type": "markdown",
   "metadata": {
    "id": "R3I60y72fBWf"
   },
   "source": [
    "* 리스트 자료형"
   ]
  },
  {
   "cell_type": "code",
   "execution_count": 13,
   "metadata": {
    "id": "v9aqv9Aiff6S"
   },
   "outputs": [],
   "source": [
    "al = ['하나', '둘', '셋', '넷', '다섯']"
   ]
  },
  {
   "cell_type": "code",
   "execution_count": 14,
   "metadata": {
    "colab": {
     "base_uri": "https://localhost:8080/"
    },
    "id": "2-7TGTNxfXHa",
    "outputId": "99998c02-66b7-41a6-c822-c8fd427f877d"
   },
   "outputs": [
    {
     "name": "stdout",
     "output_type": "stream",
     "text": [
      "하나\n",
      "둘\n",
      "셋\n",
      "넷\n",
      "다섯\n"
     ]
    }
   ],
   "source": [
    "al = ['하나', '둘', '셋', '넷', '다섯']\n",
    "\n",
    "for one in al:\n",
    "  print(one)"
   ]
  },
  {
   "cell_type": "code",
   "execution_count": 16,
   "metadata": {
    "colab": {
     "base_uri": "https://localhost:8080/"
    },
    "id": "0U8yXEvYfdgc",
    "outputId": "bc6032c7-669e-4c33-ddab-f08ba39deeb6"
   },
   "outputs": [
    {
     "name": "stdout",
     "output_type": "stream",
     "text": [
      "one\n",
      "two\n",
      "three\n",
      "four\n",
      "five\n"
     ]
    }
   ],
   "source": [
    "num = {'one':'하나', 'two':'둘', 'three':'셋', 'four':'넷', 'five':'다섯'}\n",
    "\n",
    "for one in num:\n",
    "  print(one)"
   ]
  },
  {
   "cell_type": "code",
   "execution_count": 18,
   "metadata": {
    "colab": {
     "base_uri": "https://localhost:8080/"
    },
    "id": "pGoasm_lgIUG",
    "outputId": "b57484df-9cc9-47bb-9fdd-791c753b1d53"
   },
   "outputs": [
    {
     "name": "stdout",
     "output_type": "stream",
     "text": [
      "one 하나\n",
      "two 둘\n",
      "three 셋\n",
      "four 넷\n",
      "five 다섯\n"
     ]
    }
   ],
   "source": [
    "num = {'one':'하나', 'two':'둘', 'three':'셋', 'four':'넷', 'five':'다섯'}\n",
    "\n",
    "for one in num:\n",
    "  print(one, num[one])"
   ]
  },
  {
   "cell_type": "markdown",
   "metadata": {
    "id": "PoL4AgFvgQdz"
   },
   "source": [
    "### 1-3 자료형 - 문자열"
   ]
  },
  {
   "cell_type": "markdown",
   "metadata": {
    "id": "w8Avv5ujgfa5"
   },
   "source": [
    "* 문자열"
   ]
  },
  {
   "cell_type": "code",
   "execution_count": 19,
   "metadata": {
    "colab": {
     "base_uri": "https://localhost:8080/",
     "height": 35
    },
    "id": "kNoVzsn-gh0a",
    "outputId": "e2c78cba-1735-4e7c-c386-b6a9ce2b0f79"
   },
   "outputs": [
    {
     "data": {
      "application/vnd.google.colaboratory.intrinsic+json": {
       "type": "string"
      },
      "text/plain": [
       "'H'"
      ]
     },
     "execution_count": 19,
     "metadata": {},
     "output_type": "execute_result"
    }
   ],
   "source": [
    "string = \"Hello World!\"\n",
    "string[0] # 첫번째 선택 (파이썬은 숫자 0부터 시작)"
   ]
  },
  {
   "cell_type": "markdown",
   "metadata": {
    "id": "5hlaXtVCgj1j"
   },
   "source": [
    "* slicing - 일부 선택"
   ]
  },
  {
   "cell_type": "code",
   "execution_count": 21,
   "metadata": {
    "colab": {
     "base_uri": "https://localhost:8080/",
     "height": 35
    },
    "id": "09rgYFREgnv7",
    "outputId": "022a303b-69a5-45d5-9322-66a13637a94d"
   },
   "outputs": [
    {
     "data": {
      "application/vnd.google.colaboratory.intrinsic+json": {
       "type": "string"
      },
      "text/plain": [
       "'Hello'"
      ]
     },
     "execution_count": 21,
     "metadata": {},
     "output_type": "execute_result"
    }
   ],
   "source": [
    "# Hello 선택\n",
    "# : 을 기준으로 앞이 시작값, 뒤에값이 끝나는 값.\n",
    "string[0:5] # 첫번째(0)부터 다섯번째(4)까지 선택 (파이썬은 숫자 0부터 시작)"
   ]
  },
  {
   "cell_type": "code",
   "execution_count": 23,
   "metadata": {
    "colab": {
     "base_uri": "https://localhost:8080/",
     "height": 35
    },
    "id": "5PDY8GPigyVE",
    "outputId": "bb14f5fd-833f-45f7-8266-3570ccabaafa"
   },
   "outputs": [
    {
     "data": {
      "application/vnd.google.colaboratory.intrinsic+json": {
       "type": "string"
      },
      "text/plain": [
       "'Hello'"
      ]
     },
     "execution_count": 23,
     "metadata": {},
     "output_type": "execute_result"
    }
   ],
   "source": [
    "# Hello 선택\n",
    "string[ :5] # 처음부터 다섯번째(4)까지 선택 (파이썬은 숫자 0부터 시작)"
   ]
  },
  {
   "cell_type": "code",
   "execution_count": 26,
   "metadata": {
    "colab": {
     "base_uri": "https://localhost:8080/",
     "height": 35
    },
    "id": "9JcgMUb5g2ZF",
    "outputId": "398ae6f6-2c65-449a-d7a8-673196968feb"
   },
   "outputs": [
    {
     "data": {
      "application/vnd.google.colaboratory.intrinsic+json": {
       "type": "string"
      },
      "text/plain": [
       "'Hello World!'"
      ]
     },
     "execution_count": 26,
     "metadata": {},
     "output_type": "execute_result"
    }
   ],
   "source": [
    "# 전체 선택\n",
    "string[ : ] # 전체를 선택"
   ]
  },
  {
   "cell_type": "code",
   "execution_count": 27,
   "metadata": {
    "colab": {
     "base_uri": "https://localhost:8080/",
     "height": 35
    },
    "id": "WgJUVgDXgpNE",
    "outputId": "9a790a5d-8075-48fe-b788-fc7b2a5983e9"
   },
   "outputs": [
    {
     "data": {
      "application/vnd.google.colaboratory.intrinsic+json": {
       "type": "string"
      },
      "text/plain": [
       "'llo'"
      ]
     },
     "execution_count": 27,
     "metadata": {},
     "output_type": "execute_result"
    }
   ],
   "source": [
    "string[2:5] # 세번째(2)부터 다섯번째(4)까지 선택 (파이썬은 숫자 0부터 시작)"
   ]
  },
  {
   "cell_type": "code",
   "execution_count": 28,
   "metadata": {
    "id": "KnfH3OlFgwOh"
   },
   "outputs": [],
   "source": [
    "## 인덱싱(Indexing) : 값을 하나 하나 선택\n",
    "## 슬라이싱(slicing) : 값을 조각 단위로 선택"
   ]
  },
  {
   "cell_type": "markdown",
   "metadata": {
    "id": "j0zKWo_ug8rm"
   },
   "source": [
    "* 실습해 보기\n",
    " * 나의 이름을 입력받아(input), 앞의 3자리를 출력해 보자."
   ]
  },
  {
   "cell_type": "markdown",
   "metadata": {
    "id": "ReUy7g1chENh"
   },
   "source": [
    "### 1-4 자료형 - 리스트"
   ]
  },
  {
   "cell_type": "code",
   "execution_count": 38,
   "metadata": {
    "colab": {
     "base_uri": "https://localhost:8080/"
    },
    "id": "KW4h2P0bhJ1U",
    "outputId": "54694592-5b68-4e63-ee84-2d49160d1c2b"
   },
   "outputs": [
    {
     "name": "stdout",
     "output_type": "stream",
     "text": [
      "[1, 2, 3, 4, 5]\n"
     ]
    }
   ],
   "source": [
    "a = [1,2,3,4,5]\n",
    "print(a)"
   ]
  },
  {
   "cell_type": "code",
   "execution_count": 39,
   "metadata": {
    "colab": {
     "base_uri": "https://localhost:8080/"
    },
    "id": "yGOaMJ96hMeA",
    "outputId": "bafac3ad-a616-498a-d804-2abf54b7d942"
   },
   "outputs": [
    {
     "name": "stdout",
     "output_type": "stream",
     "text": [
      "[1, 2, 'a', 3, 'b']\n"
     ]
    }
   ],
   "source": [
    "a = [1,2,'a',3,'b']\n",
    "print(a)"
   ]
  },
  {
   "cell_type": "code",
   "execution_count": 40,
   "metadata": {
    "colab": {
     "base_uri": "https://localhost:8080/"
    },
    "id": "LF3p8wbnhRcF",
    "outputId": "cb529b64-5c84-40f1-cb17-9461779eba7e"
   },
   "outputs": [
    {
     "name": "stdout",
     "output_type": "stream",
     "text": [
      "2\n"
     ]
    }
   ],
   "source": [
    "print( a[1] )  # 0부터 시작하여 1은 두번째 요소를 가르킴"
   ]
  },
  {
   "cell_type": "code",
   "execution_count": 41,
   "metadata": {
    "colab": {
     "base_uri": "https://localhost:8080/"
    },
    "id": "njgueNG_hUvN",
    "outputId": "09a4a783-4893-4bb6-a6e9-15e1257afc5a"
   },
   "outputs": [
    {
     "name": "stdout",
     "output_type": "stream",
     "text": [
      "['a', 3, 'b']\n"
     ]
    }
   ],
   "source": [
    "print( a[2:5] )"
   ]
  },
  {
   "cell_type": "code",
   "execution_count": 42,
   "metadata": {
    "colab": {
     "base_uri": "https://localhost:8080/"
    },
    "id": "JV3CRISBhZue",
    "outputId": "ed1948f1-c153-43ce-ce1e-20116a677dc3"
   },
   "outputs": [
    {
     "name": "stdout",
     "output_type": "stream",
     "text": [
      "b\n"
     ]
    }
   ],
   "source": [
    "a = [1,2,'a',3,'b']\n",
    "print( a[-1] )"
   ]
  },
  {
   "cell_type": "code",
   "execution_count": 43,
   "metadata": {
    "colab": {
     "base_uri": "https://localhost:8080/"
    },
    "id": "kH6Ftnb3hnn_",
    "outputId": "f512c840-e978-4260-ac46-076545160010"
   },
   "outputs": [
    {
     "name": "stdout",
     "output_type": "stream",
     "text": [
      "a\n"
     ]
    }
   ],
   "source": [
    "# 뒤에서부터 3개 가져오기\n",
    "print( a[-3] )"
   ]
  },
  {
   "cell_type": "code",
   "execution_count": 44,
   "metadata": {
    "colab": {
     "base_uri": "https://localhost:8080/"
    },
    "id": "qKrB7U3Fhq15",
    "outputId": "1529d016-38b7-4716-ab11-dca2d7aa45fc"
   },
   "outputs": [
    {
     "name": "stdout",
     "output_type": "stream",
     "text": [
      "[2, 3]\n",
      "3\n"
     ]
    }
   ],
   "source": [
    "a = [ [1,2], \n",
    "      [2,3],\n",
    "      [4,5]\n",
    " ]\n",
    "print(a[1]) # 2번째 값([2,3])\n",
    "print(a[1][1]) # 2번째 값중의 2번째 값을 가져오기\n"
   ]
  },
  {
   "cell_type": "markdown",
   "metadata": {
    "id": "Di3eFzT7hzow"
   },
   "source": [
    "### 생각해보기 & 실습해 보기\n",
    " * 2차 리스트를 만들고, 각각의 원소는 3개씩으로 하기.\n",
    "   * 2번째 행의 3번째 값을 출력해 주세요."
   ]
  },
  {
   "cell_type": "markdown",
   "metadata": {
    "id": "ciWLkz69h-W2"
   },
   "source": [
    "### 리스트의 연산"
   ]
  },
  {
   "cell_type": "code",
   "execution_count": 48,
   "metadata": {
    "colab": {
     "base_uri": "https://localhost:8080/"
    },
    "id": "fp5WBcIFiItv",
    "outputId": "79315e61-d114-40b9-dd00-61282f71613a"
   },
   "outputs": [
    {
     "name": "stdout",
     "output_type": "stream",
     "text": [
      "[1, 2, 3]\n"
     ]
    }
   ],
   "source": [
    "list1 = [1,2,3]\n",
    "print( list1 )"
   ]
  },
  {
   "cell_type": "markdown",
   "metadata": {
    "id": "Omf5EQREiKbU"
   },
   "source": [
    "* 하나의 값을 추가"
   ]
  },
  {
   "cell_type": "code",
   "execution_count": 49,
   "metadata": {
    "colab": {
     "base_uri": "https://localhost:8080/"
    },
    "id": "63fl_iUEiNkP",
    "outputId": "a20f02a1-c85e-4ff1-e68b-266a520b219b"
   },
   "outputs": [
    {
     "name": "stdout",
     "output_type": "stream",
     "text": [
      "[1, 2, 3, 4]\n"
     ]
    }
   ],
   "source": [
    "list1.append(4)\n",
    "print( list1)"
   ]
  },
  {
   "cell_type": "code",
   "execution_count": 50,
   "metadata": {
    "colab": {
     "base_uri": "https://localhost:8080/"
    },
    "id": "sg_9iBgZiNzB",
    "outputId": "b1f8059d-1263-44ab-d857-35a1f257071f"
   },
   "outputs": [
    {
     "data": {
      "text/plain": [
       "[1, 1, 2, 2]"
      ]
     },
     "execution_count": 50,
     "metadata": {},
     "output_type": "execute_result"
    }
   ],
   "source": [
    "[1,1] + [2,2]"
   ]
  },
  {
   "cell_type": "code",
   "execution_count": 54,
   "metadata": {
    "colab": {
     "base_uri": "https://localhost:8080/"
    },
    "id": "ENaNXmWKiSKc",
    "outputId": "ffe32dbe-233c-4fe8-b230-53202b7bdff4"
   },
   "outputs": [
    {
     "data": {
      "text/plain": [
       "[1, 3, 2]"
      ]
     },
     "execution_count": 54,
     "metadata": {},
     "output_type": "execute_result"
    }
   ],
   "source": [
    "list2 = [1,2,3,2]\n",
    "list2.remove(2)  # 요소중에 2의 값을 하나 삭제(앞에서부터 봤을때)\n",
    "list2"
   ]
  },
  {
   "cell_type": "code",
   "execution_count": 55,
   "metadata": {
    "colab": {
     "base_uri": "https://localhost:8080/"
    },
    "id": "fmjefDWZiVyZ",
    "outputId": "2722321f-1694-4483-b345-39d88c041068"
   },
   "outputs": [
    {
     "name": "stdout",
     "output_type": "stream",
     "text": [
      "[1, 2, 3, [3, 4]]\n"
     ]
    }
   ],
   "source": [
    "## 두개의 값을 한꺼번에 추가하기\n",
    "list3 = [1,2,3]\n",
    "list3.append([3,4])\n",
    "print(list3)"
   ]
  },
  {
   "cell_type": "code",
   "execution_count": 56,
   "metadata": {
    "colab": {
     "base_uri": "https://localhost:8080/"
    },
    "id": "Urt3jarfig5b",
    "outputId": "3abe12ce-d5e6-49f3-ee9f-b6ca20b5c191"
   },
   "outputs": [
    {
     "name": "stdout",
     "output_type": "stream",
     "text": [
      "[1, 2, 3, 3, 4]\n"
     ]
    }
   ],
   "source": [
    "## 두개의 값을 한꺼번에 추가하기\n",
    "list4 = [1,2,3]\n",
    "list4.extend([3,4])\n",
    "print(list4)"
   ]
  },
  {
   "cell_type": "markdown",
   "metadata": {
    "id": "dhK8t6wJjkUj"
   },
   "source": [
    "### 1-5 리스트와 for문"
   ]
  },
  {
   "cell_type": "code",
   "execution_count": 58,
   "metadata": {
    "colab": {
     "base_uri": "https://localhost:8080/"
    },
    "id": "zjQrU8SCjp9J",
    "outputId": "4ddd4c85-f7d2-46be-bc40-8d1b12a65f95"
   },
   "outputs": [
    {
     "name": "stdout",
     "output_type": "stream",
     "text": [
      "1 2 3 4 5 11 22 33 44 55 "
     ]
    }
   ],
   "source": [
    "list1 = [1,2,3,4,5,11,22,33,44,55]\n",
    "for i in list1:\n",
    "  print(i, end=\" \")  # 출력 후, 한칸을 띄우고 다음번 진행"
   ]
  },
  {
   "cell_type": "code",
   "execution_count": 59,
   "metadata": {
    "colab": {
     "base_uri": "https://localhost:8080/"
    },
    "id": "I-dsyRUBjvOH",
    "outputId": "26069eb6-6ce3-488f-d6ca-fa1aef0557c7"
   },
   "outputs": [
    {
     "name": "stdout",
     "output_type": "stream",
     "text": [
      "0 1 2 3 4 5 6 7 8 9 "
     ]
    }
   ],
   "source": [
    "# range(시작값,끝값,증가값)\n",
    "for i in range(0,10,1):\n",
    "  print(i, end=\" \")"
   ]
  },
  {
   "cell_type": "code",
   "execution_count": 60,
   "metadata": {
    "colab": {
     "base_uri": "https://localhost:8080/"
    },
    "id": "CJucATYfj3lO",
    "outputId": "ab5a6edd-cfeb-403f-a60d-efe471ec0f04"
   },
   "outputs": [
    {
     "name": "stdout",
     "output_type": "stream",
     "text": [
      "0 1 2 3 4 5 6 7 8 9 "
     ]
    }
   ],
   "source": [
    "for i in range(10):\n",
    "  print(i, end=\" \")"
   ]
  },
  {
   "cell_type": "code",
   "execution_count": 61,
   "metadata": {
    "colab": {
     "base_uri": "https://localhost:8080/"
    },
    "id": "bhwkKoNUj6EB",
    "outputId": "52ca7843-dfa3-4115-b9c8-e35ec4dc2a25"
   },
   "outputs": [
    {
     "name": "stdout",
     "output_type": "stream",
     "text": [
      "5 4 3 2 1 "
     ]
    }
   ],
   "source": [
    "for i in range(5, 0,-1):\n",
    "  print(i, end=\" \")"
   ]
  },
  {
   "cell_type": "code",
   "execution_count": 63,
   "metadata": {
    "colab": {
     "base_uri": "https://localhost:8080/"
    },
    "id": "xZNZCH8Kj9Lz",
    "outputId": "ea16b603-75b6-434b-b776-198a22a94e42"
   },
   "outputs": [
    {
     "name": "stdout",
     "output_type": "stream",
     "text": [
      "season의 요소의 개수 :  4\n",
      "봄\n",
      "여름\n",
      "가을\n",
      "겨울\n"
     ]
    }
   ],
   "source": [
    "season = ['봄','여름','가을', '겨울']\n",
    "print(\"season의 요소의 개수 : \", len(season))\n",
    "for one in season:\n",
    "  print(one)\n"
   ]
  },
  {
   "cell_type": "markdown",
   "metadata": {
    "id": "dQAz-UvgkCr_"
   },
   "source": [
    "### 1-6 딕셔너리(dict)\n",
    "  * \\[ ] : 리스트 => 값의 변경이 가능하다. 수정이 가능하다. 추가가능\n",
    "  * ( ) : 튜플   => 값의 변경이 불가. 속도가 좀 더 빠르다.\n",
    "  * { } : 딕셔너리 => 한쌍의 데이터가 이루어져 있다. 키:값"
   ]
  },
  {
   "cell_type": "markdown",
   "metadata": {
    "id": "AQtkG5HFkVlL"
   },
   "source": [
    "* 딕셔너리는 {}로 둘러싸이며, 키:값이 한쌍을 이루고, ','를 기준으로 구분된다."
   ]
  },
  {
   "cell_type": "code",
   "execution_count": 64,
   "metadata": {
    "id": "cMbUKpmgkk5p"
   },
   "outputs": [],
   "source": [
    "dictdat1 = { 'key1':\"value1\", 'key2':\"value2\", 'key3':'value3'}\n",
    "dictdat2 = { 11:\"value1\", 22:\"value2\", 33:'value3'}\n",
    "dictdat3 = { 'key1':\"value1\", 'key2':(1,2,3,4,5), 'key3':[1,2,3,4,5] }"
   ]
  },
  {
   "cell_type": "code",
   "execution_count": 65,
   "metadata": {
    "colab": {
     "base_uri": "https://localhost:8080/",
     "height": 35
    },
    "id": "rlvqSXwmknI_",
    "outputId": "06a937f5-cd83-42d3-c097-ab856419e9b6"
   },
   "outputs": [
    {
     "data": {
      "application/vnd.google.colaboratory.intrinsic+json": {
       "type": "string"
      },
      "text/plain": [
       "'value3'"
      ]
     },
     "execution_count": 65,
     "metadata": {},
     "output_type": "execute_result"
    }
   ],
   "source": [
    "# dictdat3['키값']\n",
    "dictdat1['key3']"
   ]
  },
  {
   "cell_type": "code",
   "execution_count": 66,
   "metadata": {
    "colab": {
     "base_uri": "https://localhost:8080/"
    },
    "id": "lHgMe2C8kpSw",
    "outputId": "4a74e758-0655-4b10-85fc-19db5263c1ee"
   },
   "outputs": [
    {
     "data": {
      "text/plain": [
       "[1, 2, 3, 4, 5]"
      ]
     },
     "execution_count": 66,
     "metadata": {},
     "output_type": "execute_result"
    }
   ],
   "source": [
    "# dictdat3['키값']\n",
    "dictdat3['key3']"
   ]
  },
  {
   "cell_type": "markdown",
   "metadata": {
    "id": "gF-OBIg-kro6"
   },
   "source": [
    "### 1-7 튜플(tuple)\n",
    " * 리스트와 달리 값이 변경과 수정이 어렵다.\n",
    " * 장점은 필요한 기능이 줄기때문에 리스트에 비해 상대적으로 빠르다."
   ]
  },
  {
   "cell_type": "code",
   "execution_count": 67,
   "metadata": {
    "colab": {
     "base_uri": "https://localhost:8080/"
    },
    "id": "kxVZ2S1Xk0Yh",
    "outputId": "95a2ae10-48cc-49f7-816d-80c1a345a763"
   },
   "outputs": [
    {
     "data": {
      "text/plain": [
       "(1, 2, 3)"
      ]
     },
     "execution_count": 67,
     "metadata": {},
     "output_type": "execute_result"
    }
   ],
   "source": [
    "tuple1 = (1,2,3)\n",
    "tuple1"
   ]
  },
  {
   "cell_type": "code",
   "execution_count": 68,
   "metadata": {
    "colab": {
     "base_uri": "https://localhost:8080/"
    },
    "id": "Zi1_Lb3Kk21E",
    "outputId": "2ca86976-4447-432e-d905-e92f33f6c443"
   },
   "outputs": [
    {
     "data": {
      "text/plain": [
       "2"
      ]
     },
     "execution_count": 68,
     "metadata": {},
     "output_type": "execute_result"
    }
   ],
   "source": [
    "tuple1[1]"
   ]
  },
  {
   "cell_type": "code",
   "execution_count": 70,
   "metadata": {
    "colab": {
     "base_uri": "https://localhost:8080/",
     "height": 173
    },
    "id": "v4FAhqKnk7JA",
    "outputId": "129597d6-533f-41b2-9c20-f425341c63c4"
   },
   "outputs": [
    {
     "ename": "TypeError",
     "evalue": "ignored",
     "output_type": "error",
     "traceback": [
      "\u001b[0;31m---------------------------------------------------------------------------\u001b[0m",
      "\u001b[0;31mTypeError\u001b[0m                                 Traceback (most recent call last)",
      "\u001b[0;32m<ipython-input-70-4eb5dd8d8af4>\u001b[0m in \u001b[0;36m<module>\u001b[0;34m()\u001b[0m\n\u001b[0;32m----> 1\u001b[0;31m \u001b[0mtuple1\u001b[0m\u001b[0;34m[\u001b[0m\u001b[0;36m1\u001b[0m\u001b[0;34m]\u001b[0m \u001b[0;34m=\u001b[0m \u001b[0;36m20\u001b[0m  \u001b[0;31m# 에러 발생\u001b[0m\u001b[0;34m\u001b[0m\u001b[0;34m\u001b[0m\u001b[0m\n\u001b[0m",
      "\u001b[0;31mTypeError\u001b[0m: 'tuple' object does not support item assignment"
     ]
    }
   ],
   "source": [
    "tuple1[1] = 20  # 에러 발생"
   ]
  },
  {
   "cell_type": "code",
   "execution_count": 71,
   "metadata": {
    "id": "bmAl6Hv0qHxQ"
   },
   "outputs": [],
   "source": [
    "tuple1 = (1,2,3)\n",
    "list1 = [1,2,3]"
   ]
  },
  {
   "cell_type": "markdown",
   "metadata": {
    "id": "bdXhVPt_qLB6"
   },
   "source": [
    "### 리스트와 튜플의 사용 객체 확인하기"
   ]
  },
  {
   "cell_type": "code",
   "execution_count": 73,
   "metadata": {
    "colab": {
     "base_uri": "https://localhost:8080/"
    },
    "id": "kGvbUknOqPgY",
    "outputId": "16707c5c-b312-4bc6-dd94-f186f9b8a0a8"
   },
   "outputs": [
    {
     "name": "stdout",
     "output_type": "stream",
     "text": [
      "48\n"
     ]
    },
    {
     "data": {
      "text/plain": [
       "['__add__',\n",
       " '__class__',\n",
       " '__contains__',\n",
       " '__delattr__',\n",
       " '__dir__',\n",
       " '__doc__',\n",
       " '__eq__',\n",
       " '__format__',\n",
       " '__ge__',\n",
       " '__getattribute__',\n",
       " '__getitem__',\n",
       " '__getnewargs__',\n",
       " '__gt__',\n",
       " '__hash__',\n",
       " '__init__',\n",
       " '__init_subclass__',\n",
       " '__iter__',\n",
       " '__le__',\n",
       " '__len__',\n",
       " '__lt__',\n",
       " '__mul__',\n",
       " '__ne__',\n",
       " '__new__',\n",
       " '__reduce__',\n",
       " '__reduce_ex__',\n",
       " '__repr__',\n",
       " '__rmul__',\n",
       " '__setattr__',\n",
       " '__sizeof__',\n",
       " '__str__',\n",
       " '__subclasshook__',\n",
       " 'count',\n",
       " 'index']"
      ]
     },
     "execution_count": 73,
     "metadata": {},
     "output_type": "execute_result"
    }
   ],
   "source": [
    "print(tuple1.__sizeof__())\n",
    "dir(tuple1)"
   ]
  },
  {
   "cell_type": "code",
   "execution_count": 75,
   "metadata": {
    "colab": {
     "base_uri": "https://localhost:8080/"
    },
    "id": "EgQja97JqQ9J",
    "outputId": "98e72889-c6f8-41f8-920d-ed88b62070e3"
   },
   "outputs": [
    {
     "name": "stdout",
     "output_type": "stream",
     "text": [
      "64\n"
     ]
    },
    {
     "data": {
      "text/plain": [
       "['__add__',\n",
       " '__class__',\n",
       " '__contains__',\n",
       " '__delattr__',\n",
       " '__delitem__',\n",
       " '__dir__',\n",
       " '__doc__',\n",
       " '__eq__',\n",
       " '__format__',\n",
       " '__ge__',\n",
       " '__getattribute__',\n",
       " '__getitem__',\n",
       " '__gt__',\n",
       " '__hash__',\n",
       " '__iadd__',\n",
       " '__imul__',\n",
       " '__init__',\n",
       " '__init_subclass__',\n",
       " '__iter__',\n",
       " '__le__',\n",
       " '__len__',\n",
       " '__lt__',\n",
       " '__mul__',\n",
       " '__ne__',\n",
       " '__new__',\n",
       " '__reduce__',\n",
       " '__reduce_ex__',\n",
       " '__repr__',\n",
       " '__reversed__',\n",
       " '__rmul__',\n",
       " '__setattr__',\n",
       " '__setitem__',\n",
       " '__sizeof__',\n",
       " '__str__',\n",
       " '__subclasshook__',\n",
       " 'append',\n",
       " 'clear',\n",
       " 'copy',\n",
       " 'count',\n",
       " 'extend',\n",
       " 'index',\n",
       " 'insert',\n",
       " 'pop',\n",
       " 'remove',\n",
       " 'reverse',\n",
       " 'sort']"
      ]
     },
     "execution_count": 75,
     "metadata": {},
     "output_type": "execute_result"
    }
   ],
   "source": [
    "print(list1.__sizeof__())\n",
    "dir(list1)"
   ]
  },
  {
   "cell_type": "markdown",
   "metadata": {
    "id": "kcXPOtuQtOMI"
   },
   "source": [
    "### 1-8 다음시간 내용 살펴보기 - 함수"
   ]
  },
  {
   "cell_type": "code",
   "execution_count": 81,
   "metadata": {
    "id": "DSd_el67tTJQ"
   },
   "outputs": [],
   "source": [
    "def two_num_plus(a,b):\n",
    "  print(\"두 값의 합은 :\", a+b)"
   ]
  },
  {
   "cell_type": "code",
   "execution_count": 82,
   "metadata": {
    "colab": {
     "base_uri": "https://localhost:8080/"
    },
    "id": "MSCNVB46tY8A",
    "outputId": "68d03949-c358-4e14-a2c7-311bb55804fd"
   },
   "outputs": [
    {
     "name": "stdout",
     "output_type": "stream",
     "text": [
      "두 값의 합은 : 8\n"
     ]
    }
   ],
   "source": [
    "two_num_plus(3,5)"
   ]
  },
  {
   "cell_type": "markdown",
   "metadata": {
    "id": "gD2eLN9qqfnN"
   },
   "source": [
    "### 생각해보기 & 실습1\n",
    " * 복권 당첨 프로그램을 만들어보기\n",
    " * [1,2,3,4,5,6,7,8,9,10]\n",
    " * 당첨번호는 1등, 2등, 3등은 임의로 사용자가 선정\n",
    " * input()을 이용하여 사용자가 1-10 중의 하나를 선택\n",
    " * 선택된 번호로 1등, 2등, 3등, 그리고 꽝을 출력해보자."
   ]
  },
  {
   "cell_type": "markdown",
   "metadata": {
    "id": "NhPDgx_uqjiF"
   },
   "source": [
    "### 생각해보기 & 실습2\n",
    " * 말하는 대화 로봇을 만들기\n",
    " * '안녕' 을 입력하면 말하는 로봇은 '반가워 나는 toto야'으로 대답\n",
    " * 몇가지 대화를 만들고, 이에 맞는 단어가 나오면 답변해 보자."
   ]
  },
  {
   "cell_type": "code",
   "execution_count": 77,
   "metadata": {
    "colab": {
     "base_uri": "https://localhost:8080/"
    },
    "id": "44Ugl7yzrgeB",
    "outputId": "b58c7273-a989-4daa-8710-88c1f651d820"
   },
   "outputs": [
    {
     "name": "stdout",
     "output_type": "stream",
     "text": [
      "dict_keys(['안녕', '날씨는 좋구나'])\n"
     ]
    }
   ],
   "source": [
    "robot = {'안녕':'반가워 난 에프라고해.', '날씨는 좋구나':'그래 날씨도 좋고, 너도 만나서 기쁘다 좋은 날이야.'}\n",
    "\n",
    "print(robot.keys())"
   ]
  },
  {
   "cell_type": "code",
   "execution_count": 80,
   "metadata": {
    "colab": {
     "base_uri": "https://localhost:8080/"
    },
    "id": "NDEp5ffYsCHa",
    "outputId": "42883c0b-41b8-4ea5-abc0-cc4d6c821d50"
   },
   "outputs": [
    {
     "name": "stdout",
     "output_type": "stream",
     "text": [
      "대화를 입력해 주세요?(종료:q) q\n"
     ]
    }
   ],
   "source": [
    "for i in range(10):\n",
    "  word = input(\"대화를 입력해 주세요?(종료:q) \")\n",
    "  if word in robot.keys():\n",
    "    print(robot[word])\n",
    "  else:\n",
    "    print(\"무슨이야기인지 아직 모르겠어. 미안\")"
   ]
  },
  {
   "cell_type": "markdown",
   "metadata": {
    "id": "gxs7BwmosM7g"
   },
   "source": [
    "* 실습 3\n",
    "  * 위의 실습2에 종료기능을 추가해 보자. q를 입력하면 더 이상 묻지 않고, 끝내기"
   ]
  }
 ],
 "metadata": {
  "colab": {
   "name": "02_python_start_if_for_list.ipynb",
   "provenance": []
  },
  "kernelspec": {
   "display_name": "Python 3 (ipykernel)",
   "language": "python",
   "name": "python3"
  },
  "language_info": {
   "codemirror_mode": {
    "name": "ipython",
    "version": 3
   },
   "file_extension": ".py",
   "mimetype": "text/x-python",
   "name": "python",
   "nbconvert_exporter": "python",
   "pygments_lexer": "ipython3",
   "version": "3.9.7"
  }
 },
 "nbformat": 4,
 "nbformat_minor": 1
}
