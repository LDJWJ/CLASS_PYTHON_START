{
 "cells": [
  {
   "cell_type": "markdown",
   "metadata": {
    "id": "91Ek3oGNuFnr"
   },
   "source": [
    "### 학습 내용 및 목표\n",
    " * print(), input() 함수에 대해 알아본다.\n",
    " * 연산자에 대해 알아본다."
   ]
  },
  {
   "cell_type": "markdown",
   "metadata": {
    "id": "khY_Ko4udlY6"
   },
   "source": [
    "### 1-1 Python 시작하기"
   ]
  },
  {
   "cell_type": "code",
   "execution_count": null,
   "metadata": {
    "colab": {
     "base_uri": "https://localhost:8080/"
    },
    "id": "vizQtrSFdz4Q",
    "outputId": "68da89f3-0f7c-475e-fef6-6fc3ed94ff1f"
   },
   "outputs": [
    {
     "name": "stdout",
     "output_type": "stream",
     "text": [
      "Hello\n"
     ]
    }
   ],
   "source": [
    "### Hello 문자열 출력\n",
    "print(\"Hello\")"
   ]
  },
  {
   "cell_type": "code",
   "execution_count": null,
   "metadata": {
    "colab": {
     "base_uri": "https://localhost:8080/"
    },
    "id": "3Fd3M8eKd-uJ",
    "outputId": "d15a9ba6-6dcd-4139-eabf-e19203b0b490"
   },
   "outputs": [
    {
     "name": "stdout",
     "output_type": "stream",
     "text": [
      "Hello\n",
      "HelloHello\n"
     ]
    }
   ],
   "source": [
    "### 'end' 매개변수의 역할\n",
    "print(\"Hello\", end='\\n')\n",
    "print(\"Hello\", end='')\n",
    "print(\"Hello\")"
   ]
  },
  {
   "cell_type": "markdown",
   "metadata": {
    "id": "T32vqzSbeOMc"
   },
   "source": [
    "### 1-2 변수 사용하기"
   ]
  },
  {
   "cell_type": "code",
   "execution_count": null,
   "metadata": {
    "id": "Nd9ZOxMveRdY"
   },
   "outputs": [],
   "source": [
    "### 동물의 다리의 개수는?\n",
    "animal_leg = 4"
   ]
  },
  {
   "cell_type": "code",
   "execution_count": null,
   "metadata": {
    "colab": {
     "base_uri": "https://localhost:8080/"
    },
    "id": "c9qAU5J7eXV6",
    "outputId": "db2b889b-b79b-4533-ec4c-811082b1a168"
   },
   "outputs": [
    {
     "name": "stdout",
     "output_type": "stream",
     "text": [
      "4\n"
     ]
    }
   ],
   "source": [
    "print(animal_leg)"
   ]
  },
  {
   "cell_type": "markdown",
   "metadata": {
    "id": "34WRe9v2eawi"
   },
   "source": [
    "* 변수에 문자열을 넣기"
   ]
  },
  {
   "cell_type": "code",
   "execution_count": null,
   "metadata": {
    "colab": {
     "base_uri": "https://localhost:8080/"
    },
    "id": "j60k0nCLef2-",
    "outputId": "af06d5ec-1585-4b94-944d-4df80a8aa57f"
   },
   "outputs": [
    {
     "name": "stdout",
     "output_type": "stream",
     "text": [
      "my name\n"
     ]
    }
   ],
   "source": [
    "str1 = 'my'\n",
    "str2 = 'name'\n",
    "print(str1, str2)"
   ]
  },
  {
   "cell_type": "markdown",
   "metadata": {
    "id": "ouWMc2pDenSd"
   },
   "source": [
    "* 여러줄의 문자열을 저장 및 출력\n",
    " * ''' 내용 '''\n",
    " * \"\"\" 내용 \"\"\""
   ]
  },
  {
   "cell_type": "code",
   "execution_count": null,
   "metadata": {
    "colab": {
     "base_uri": "https://localhost:8080/"
    },
    "id": "lnHoHqV5etKP",
    "outputId": "c4627cc1-7dad-46a9-e42b-35ac5e12d37a"
   },
   "outputs": [
    {
     "name": "stdout",
     "output_type": "stream",
     "text": [
      "\n",
      "line1\n",
      "line2\n",
      "line3\n",
      "\n"
     ]
    }
   ],
   "source": [
    "str1 = '''\n",
    "line1\n",
    "line2\n",
    "line3\n",
    "'''\n",
    "\n",
    "print(str1)"
   ]
  },
  {
   "cell_type": "markdown",
   "metadata": {
    "id": "d64hKWsge3ud"
   },
   "source": [
    "* print 명령을 이용해서 줄 바꿔보기"
   ]
  },
  {
   "cell_type": "code",
   "execution_count": null,
   "metadata": {
    "colab": {
     "base_uri": "https://localhost:8080/"
    },
    "id": "CPrzK2tffBZh",
    "outputId": "71011659-1739-4211-9b5c-b86c98c99239"
   },
   "outputs": [
    {
     "name": "stdout",
     "output_type": "stream",
     "text": [
      "Line1 \n",
      "Line2 \n",
      "Line3 \n",
      "\n"
     ]
    }
   ],
   "source": [
    "# '\\n'은 줄을 바꿈의 명령의 내용을 전달한다.\n",
    "print(\"Line1 \\nLine2 \\nLine3 \\n\")"
   ]
  },
  {
   "cell_type": "markdown",
   "metadata": {
    "id": "mpS00ZzufF54"
   },
   "source": [
    "* 문자열과 문자열을 어떻게 연결시킬까?"
   ]
  },
  {
   "cell_type": "code",
   "execution_count": null,
   "metadata": {
    "colab": {
     "base_uri": "https://localhost:8080/"
    },
    "id": "llhpgRcDfV1-",
    "outputId": "b207d5ca-4896-43d7-d7b8-86e2685f11b5"
   },
   "outputs": [
    {
     "name": "stdout",
     "output_type": "stream",
     "text": [
      "myname\n"
     ]
    }
   ],
   "source": [
    "str12 = \"my\" + \"name\"\n",
    "print(str12)"
   ]
  },
  {
   "cell_type": "markdown",
   "metadata": {
    "id": "8-SOuGDefcFA"
   },
   "source": [
    "### 1-3 문자열을 입력받고, 내용을 출력시키기"
   ]
  },
  {
   "cell_type": "code",
   "execution_count": null,
   "metadata": {
    "colab": {
     "base_uri": "https://localhost:8080/"
    },
    "id": "igdCpNx-fizb",
    "outputId": "2b5289df-ed31-4811-c084-39ebf301d7bf"
   },
   "outputs": [
    {
     "name": "stdout",
     "output_type": "stream",
     "text": [
      "당신의 이름은 ?toto\n",
      "toto\n"
     ]
    }
   ],
   "source": [
    "name = input(\"당신의 이름은 ?\")\n",
    "print(name)"
   ]
  },
  {
   "cell_type": "code",
   "execution_count": null,
   "metadata": {
    "colab": {
     "base_uri": "https://localhost:8080/"
    },
    "id": "F_IC4h9kfoGF",
    "outputId": "f8d886d0-7117-4a4a-8dd1-c45e2d408032"
   },
   "outputs": [
    {
     "name": "stdout",
     "output_type": "stream",
     "text": [
      "당신의 이름은 ?toto\n",
      "my name is toto\n"
     ]
    }
   ],
   "source": [
    "str1 = \"my\" + \" name is\"\n",
    "name = input(\"당신의 이름은 ?\")\n",
    "print(str1, name)"
   ]
  },
  {
   "cell_type": "markdown",
   "metadata": {
    "id": "OhCcwKH7fw2C"
   },
   "source": [
    "* 다른 형태 출력"
   ]
  },
  {
   "cell_type": "code",
   "execution_count": null,
   "metadata": {
    "colab": {
     "base_uri": "https://localhost:8080/"
    },
    "id": "7c_WmCdpgA8k",
    "outputId": "8fc524da-c46d-4d0c-e92e-11b7c79e62d1"
   },
   "outputs": [
    {
     "name": "stdout",
     "output_type": "stream",
     "text": [
      "당신의 이름은 ?superman\n",
      "당신의 이름은superman입니다.\n"
     ]
    }
   ],
   "source": [
    "name = input(\"당신의 이름은 ?\")\n",
    "print(\"당신의 이름은\" + name + \"입니다.\")"
   ]
  },
  {
   "cell_type": "markdown",
   "metadata": {
    "id": "rJ63VE7TgGj8"
   },
   "source": [
    "* 나이도 입력받아, 출력시켜보자."
   ]
  },
  {
   "cell_type": "code",
   "execution_count": null,
   "metadata": {
    "colab": {
     "base_uri": "https://localhost:8080/"
    },
    "id": "9Q0i9U-QgNZq",
    "outputId": "17b5196d-eece-4376-d7ba-2a13b7d693d5"
   },
   "outputs": [
    {
     "name": "stdout",
     "output_type": "stream",
     "text": [
      "나이는 ?30\n",
      "당신의 나이는 30입니다.\n"
     ]
    }
   ],
   "source": [
    "age = input(\"나이는 ?\")\n",
    "print(\"당신의 나이는 \" + age + \"입니다.\")"
   ]
  },
  {
   "cell_type": "markdown",
   "metadata": {
    "id": "qpc57BFrgT0i"
   },
   "source": [
    "* age의 자료형은 무엇일까"
   ]
  },
  {
   "cell_type": "code",
   "execution_count": null,
   "metadata": {
    "colab": {
     "base_uri": "https://localhost:8080/"
    },
    "id": "rKBZSd4Ygaee",
    "outputId": "099baf4d-b881-4cb4-8041-df3ee067bf92"
   },
   "outputs": [
    {
     "name": "stdout",
     "output_type": "stream",
     "text": [
      "<class 'str'>\n"
     ]
    }
   ],
   "source": [
    "print(type(age))"
   ]
  },
  {
   "cell_type": "markdown",
   "metadata": {
    "id": "I5Eia0Vdga8L"
   },
   "source": [
    "### (생각해보기) 그렇다면 나이에 10을 더해서 출력해 보기"
   ]
  },
  {
   "cell_type": "code",
   "execution_count": null,
   "metadata": {
    "colab": {
     "base_uri": "https://localhost:8080/"
    },
    "id": "VdTDOg1NUt-F",
    "outputId": "b587731a-2a9e-4b53-e7e4-cd2879fd32d4"
   },
   "outputs": [
    {
     "name": "stdout",
     "output_type": "stream",
     "text": [
      "나이는 : 35\n",
      "당신의 10년 후의 나이는 45입니다.\n"
     ]
    }
   ],
   "source": [
    "age = int( input(\"나이는 : \") ) # 입력 후, 정수형 변환\n",
    "\n",
    "# sep는 ','가 갖는 한칸 공백을 없애준다.\n",
    "print(\"당신의 10년 후의 나이는 \" , age+10 ,\"입니다.\", sep=\"\") "
   ]
  },
  {
   "cell_type": "markdown",
   "metadata": {
    "id": "_CA_J1D_UwWF"
   },
   "source": [
    "### 1-4 연산자\n",
    " * 사칙 연산자 : +, -, *, /\n",
    " * 기타 연산자 : **(제곱), %(나머지), //(몫)"
   ]
  },
  {
   "cell_type": "code",
   "execution_count": 1,
   "metadata": {
    "colab": {
     "base_uri": "https://localhost:8080/"
    },
    "id": "EICpvbZFVMi3",
    "outputId": "6f1c1423-04d6-4acc-81d1-0b97b9a1c531"
   },
   "outputs": [
    {
     "name": "stdout",
     "output_type": "stream",
     "text": [
      "19\n",
      "-1\n",
      "6.0\n",
      "15\n",
      "32\n",
      "1\n",
      "4\n"
     ]
    }
   ],
   "source": [
    "print(9 + 10) # 더하기\n",
    "print(9 - 10) # 빼기\n",
    "print(30 / 5) # 나누기\n",
    "print(5 * 3) # 곱하기\n",
    "print(2**5) # 제곱 연산 2*2*2*2*2\n",
    "print(17 % 4) # 나머지 1\n",
    "print(17//4) # 몫 4"
   ]
  },
  {
   "cell_type": "markdown",
   "metadata": {
    "id": "TZBEqD2wVbju"
   },
   "source": [
    "* 비교 연산자\n",
    " * 같다 \"==\"\n",
    " * 다르다 \"!=\"\n",
    " * 크거나 같다 \">=\"\n",
    " * 작거나 같다 \"<=\"\n",
    " * 크다 \">\"\n",
    " * 작다 \"<\""
   ]
  },
  {
   "cell_type": "code",
   "execution_count": null,
   "metadata": {
    "colab": {
     "base_uri": "https://localhost:8080/"
    },
    "id": "anqLcW8IVe2a",
    "outputId": "c423f9ef-23a0-48b3-9615-fa2fffe03877"
   },
   "outputs": [
    {
     "name": "stdout",
     "output_type": "stream",
     "text": [
      "True\n",
      "False\n",
      "True\n",
      "False\n"
     ]
    }
   ],
   "source": [
    "print( 3 == 3 )  # True (1이상)\n",
    "print( 3 != 3 )   # False (0)\n",
    "print( 3 >= 1 )\n",
    "print( 3 <= 1 )\n",
    "# 1 => 1 # 에러 => =이 먼저오면 에러 발생"
   ]
  },
  {
   "cell_type": "code",
   "execution_count": null,
   "metadata": {
    "colab": {
     "base_uri": "https://localhost:8080/"
    },
    "id": "WO7cJgvhVxFV",
    "outputId": "c9980426-8d62-4daf-d072-0c0e88bf31ab"
   },
   "outputs": [
    {
     "name": "stdout",
     "output_type": "stream",
     "text": [
      "False\n",
      "True\n",
      "False\n"
     ]
    }
   ],
   "source": [
    "print(5 != 5) # False\n",
    "age = 18\n",
    "print(age >= 15) # True\n",
    "age = 13\n",
    "print(age >= 15) # False"
   ]
  },
  {
   "cell_type": "markdown",
   "metadata": {
    "id": "7XUpMsNiV7_B"
   },
   "source": [
    "### 연산자 and, or, not, in\n",
    " * True는 참을 의미, False는 거짓을 의미\n",
    " * A and B : A와 B가 참이면 True, 둘 중 하나라도 False이면 False\n",
    " * A or B  : A또는 B가 True이면 True, 둘 다 False일 경우 False\n",
    " * not A   : A가 True이면 False, A가 False이면 True\n",
    " * 임의의값 in [자료형] : 임의의 값이 해당 자료형에 있으면 True, 아니면 False"
   ]
  },
  {
   "cell_type": "code",
   "execution_count": 1,
   "metadata": {
    "colab": {
     "base_uri": "https://localhost:8080/"
    },
    "id": "GA64Dt2WWS3h",
    "outputId": "60ae7b11-7c41-4438-b833-3cccef1876d6"
   },
   "outputs": [
    {
     "name": "stdout",
     "output_type": "stream",
     "text": [
      "True\n",
      "3\n",
      "0\n",
      "False\n",
      "True\n"
     ]
    }
   ],
   "source": [
    "print(True and True)\n",
    "print(1 and 3)\n",
    "print(1 and 0)\n",
    "print(True and False)\n",
    "print(1 in [1,2,3,4])"
   ]
  },
  {
   "cell_type": "code",
   "execution_count": null,
   "metadata": {
    "colab": {
     "base_uri": "https://localhost:8080/"
    },
    "id": "OAjgxjRXWQX-",
    "outputId": "6e6a2467-582d-4bba-ced1-6667794aeec7"
   },
   "outputs": [
    {
     "data": {
      "text/plain": [
       "True"
      ]
     },
     "execution_count": 25,
     "metadata": {},
     "output_type": "execute_result"
    }
   ],
   "source": [
    "(1 == 1) and (1 > 0)"
   ]
  },
  {
   "cell_type": "code",
   "execution_count": null,
   "metadata": {
    "colab": {
     "base_uri": "https://localhost:8080/"
    },
    "id": "coCkIWRZWdmu",
    "outputId": "38fe40f1-1b40-42fc-f503-36fcd521676d"
   },
   "outputs": [
    {
     "name": "stdout",
     "output_type": "stream",
     "text": [
      "True\n",
      "True\n"
     ]
    }
   ],
   "source": [
    "print((1 == 1) or (1 > 0) )\n",
    "print((1 == 1) | (1 > 0) )"
   ]
  },
  {
   "cell_type": "code",
   "execution_count": null,
   "metadata": {
    "colab": {
     "base_uri": "https://localhost:8080/"
    },
    "id": "In_YPUevWgzP",
    "outputId": "d9c5a2bd-4004-46c0-d62a-a6cbfb390048"
   },
   "outputs": [
    {
     "name": "stdout",
     "output_type": "stream",
     "text": [
      "False\n",
      "True\n"
     ]
    }
   ],
   "source": [
    "print( not 1 ) # False\n",
    "print( not False) # True"
   ]
  },
  {
   "cell_type": "code",
   "execution_count": null,
   "metadata": {
    "colab": {
     "base_uri": "https://localhost:8080/"
    },
    "id": "nyvHhLwSWjCH",
    "outputId": "4ef4ed4a-4074-4b24-e949-022950ef5b6a"
   },
   "outputs": [
    {
     "name": "stdout",
     "output_type": "stream",
     "text": [
      "True\n"
     ]
    }
   ],
   "source": [
    "## A or B : A와 B중에 하나라도 True가 있으면 결론적으로 True가 된다.그 외에는 False\n",
    "print(5!=5 or 5>=3) # False and True => True"
   ]
  },
  {
   "cell_type": "markdown",
   "metadata": {
    "id": "Pbf-GE4rWqMa"
   },
   "source": [
    "* 19세이하 영화 입장 금지 프로그램"
   ]
  },
  {
   "cell_type": "code",
   "execution_count": null,
   "metadata": {
    "colab": {
     "base_uri": "https://localhost:8080/"
    },
    "id": "glBAks88Wo4A",
    "outputId": "b1ae2fd3-d506-4315-8243-ba499220e4d7"
   },
   "outputs": [
    {
     "name": "stdout",
     "output_type": "stream",
     "text": [
      "False\n"
     ]
    }
   ],
   "source": [
    "## 19세 입장 금지 영화\n",
    "## 출입조건 19세 이상이고, 남자 입장 가능\n",
    "age = 17\n",
    "sex = \"M\"\n",
    "print(age >= 19 and sex==\"M\") # True : 입장 불가"
   ]
  },
  {
   "cell_type": "markdown",
   "metadata": {
    "id": "MxCHxG22W5j5"
   },
   "source": [
    "* 예외조건 : 19세 이상 또는 아이가 부모와 함께 올 경우, 가능"
   ]
  },
  {
   "cell_type": "code",
   "execution_count": null,
   "metadata": {
    "colab": {
     "base_uri": "https://localhost:8080/"
    },
    "id": "HbySd-vwWtgX",
    "outputId": "2a3d4406-0a06-4837-f1d1-ae397072aef8"
   },
   "outputs": [
    {
     "name": "stdout",
     "output_type": "stream",
     "text": [
      "True\n"
     ]
    }
   ],
   "source": [
    "## 출입조건 19세 이상이거나(또는) 아이가 있는 친구는 가능한 영화\n",
    "age = 17\n",
    "gubun = \"P\" # 부모\n",
    "print(age >= 19 or gubun==\"P\") # False or True => True : 입장"
   ]
  },
  {
   "cell_type": "markdown",
   "metadata": {
    "id": "wBhN_H0WW-mF"
   },
   "source": [
    "### 1-5 연산자를 이용한 계산"
   ]
  },
  {
   "cell_type": "code",
   "execution_count": null,
   "metadata": {
    "colab": {
     "base_uri": "https://localhost:8080/"
    },
    "id": "u2GnIKPlXH6N",
    "outputId": "4200182a-3d40-4334-abf2-751665464cb3"
   },
   "outputs": [
    {
     "name": "stdout",
     "output_type": "stream",
     "text": [
      "합은 5 입니다.\n",
      "5 와 2의 합은 7 입니다.\n",
      "5 와 2의 합은 7입니다.\n",
      "5 와 2의 나눈 값은 2.50입니다.\n"
     ]
    }
   ],
   "source": [
    "a = 5\n",
    "b = 2\n",
    "plus = a + b\n",
    "mul = a * b\n",
    "div = a / b # 결과값 형변환 5/2 = 2.5\n",
    "remainder = a % b\n",
    "power = a ** b\n",
    "\n",
    "print(\"합은 %d 입니다.\" % a)\n",
    "print(\"%d 와 %d의 합은 %d 입니다.\" % (a, b, plus))\n",
    "print(\"{} 와 {}의 합은 {}입니다.\".format(a, b, plus))\n",
    "print(\"{} 와 {}의 나눈 값은 {:.2f}입니다.\".format(a, b, div))"
   ]
  },
  {
   "cell_type": "markdown",
   "metadata": {
    "id": "UwRWxm3YXKAO"
   },
   "source": [
    "* print문의 여러가지 출력"
   ]
  },
  {
   "cell_type": "code",
   "execution_count": null,
   "metadata": {
    "colab": {
     "base_uri": "https://localhost:8080/"
    },
    "id": "AHabByh2XQqU",
    "outputId": "cda4fe7f-e663-42a0-9454-7d542e062ea7"
   },
   "outputs": [
    {
     "name": "stdout",
     "output_type": "stream",
     "text": [
      "7 와 5의 합은 2입니다.\n"
     ]
    }
   ],
   "source": [
    "print(\"{2} 와 {1}의 합은 {0}입니다.\".format(2, 5, 7))"
   ]
  },
  {
   "cell_type": "code",
   "execution_count": null,
   "metadata": {
    "colab": {
     "base_uri": "https://localhost:8080/"
    },
    "id": "7MoNCD_NXQ7K",
    "outputId": "d846a556-4472-4ff6-b84f-775f27d5b49e"
   },
   "outputs": [
    {
     "name": "stdout",
     "output_type": "stream",
     "text": [
      "5 와 2의 나눈 값은 2.5입니다.\n"
     ]
    }
   ],
   "source": [
    "print(\"{0} 와 {1}의 나눈 값은 {2}입니다.\".format(a, b, div))"
   ]
  },
  {
   "cell_type": "markdown",
   "metadata": {
    "id": "gAOuxlFOXWdY"
   },
   "source": [
    "### 1-6 if문 미리 실습해보기"
   ]
  },
  {
   "cell_type": "markdown",
   "metadata": {
    "id": "LNdPuu8aQUaL"
   },
   "source": [
    "### 숙박 인원이 10명 이상이면 \n",
    " * 두개의 방으로 나누어서 예약해야 합니다.\n",
    " * 10명 이하이면 하나의 방으로 숙박 가능합니다."
   ]
  },
  {
   "cell_type": "code",
   "execution_count": 2,
   "metadata": {
    "colab": {
     "base_uri": "https://localhost:8080/"
    },
    "id": "DIW6bU8FXTNv",
    "outputId": "1cb81ff5-7675-450f-aebd-c386d65adde0"
   },
   "outputs": [
    {
     "name": "stdout",
     "output_type": "stream",
     "text": [
      "두개의 방을 예약해야 합니다.\n"
     ]
    }
   ],
   "source": [
    "people = 10\n",
    "\n",
    "if people >= 10:\n",
    "  print(\"두개의 방을 예약해야 합니다.\")\n",
    "else:\n",
    "  print(\"305호실 예약 가능합니다.\")"
   ]
  },
  {
   "cell_type": "markdown",
   "metadata": {
    "id": "7VM_E4yYQnvC"
   },
   "source": [
    "### 1-7 for문 미리 실습해 보기"
   ]
  },
  {
   "cell_type": "code",
   "execution_count": 4,
   "metadata": {
    "colab": {
     "base_uri": "https://localhost:8080/"
    },
    "id": "fOulW48cQ25k",
    "outputId": "4c632fbd-0199-4fd4-f000-c491225834ae"
   },
   "outputs": [
    {
     "name": "stdout",
     "output_type": "stream",
     "text": [
      "하나\n",
      "둘\n"
     ]
    }
   ],
   "source": [
    "for one in ['하나', '둘']:\n",
    "  print(one)"
   ]
  },
  {
   "cell_type": "markdown",
   "metadata": {
    "id": "w_1WNNsbRYeR"
   },
   "source": [
    "### 생각해보기 & 실습 1\n",
    "* '+'연산자와 아래 여러줄 입력과 출력을 이용하여 str1, str2로 line1~line6까지 출력해 보자.\n",
    "\n",
    "```\n",
    "str1 = '''\n",
    "line1\n",
    "line2\n",
    "line3\n",
    "'''\n",
    "\n",
    "print(str1)\n",
    "\n",
    "```"
   ]
  },
  {
   "cell_type": "markdown",
   "metadata": {
    "id": "jeNPWJvVRbJN"
   },
   "source": [
    "### 생각해보기 & 실습 2\n",
    "\n",
    "* 나이를 입력받고, 8세 이상이면 학교에 입학이 가능합니다. 아니면 아직 입학이 힘듭니다. 출력해 보기"
   ]
  }
 ],
 "metadata": {
  "colab": {
   "collapsed_sections": [],
   "name": "01_python_start.ipynb",
   "provenance": []
  },
  "kernelspec": {
   "display_name": "Python 3 (ipykernel)",
   "language": "python",
   "name": "python3"
  },
  "language_info": {
   "codemirror_mode": {
    "name": "ipython",
    "version": 3
   },
   "file_extension": ".py",
   "mimetype": "text/x-python",
   "name": "python",
   "nbconvert_exporter": "python",
   "pygments_lexer": "ipython3",
   "version": "3.9.7"
  }
 },
 "nbformat": 4,
 "nbformat_minor": 1
}
